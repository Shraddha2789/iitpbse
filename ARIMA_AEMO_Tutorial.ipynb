{
  "nbformat": 4,
  "nbformat_minor": 0,
  "metadata": {
    "colab": {
      "name": "ARIMA_AEMO_Tutorial.ipynb",
      "provenance": [],
      "collapsed_sections": [],
      "include_colab_link": true
    },
    "kernelspec": {
      "name": "python3",
      "display_name": "Python 3"
    }
  },
  "cells": [
    {
      "cell_type": "markdown",
      "metadata": {
        "id": "view-in-github",
        "colab_type": "text"
      },
      "source": [
        "<a href=\"https://colab.research.google.com/github/nrjcs/iitpbse/blob/master/ARIMA_AEMO_Tutorial.ipynb\" target=\"_parent\"><img src=\"https://colab.research.google.com/assets/colab-badge.svg\" alt=\"Open In Colab\"/></a>"
      ]
    },
    {
      "cell_type": "code",
      "metadata": {
        "id": "Czurb0i2NqtC",
        "colab_type": "code",
        "colab": {}
      },
      "source": [
        "import pandas as pd\n",
        "# https://pandas.pydata.org/docs/\n",
        "\n",
        "import numpy as np\n",
        "# https://numpy.org/doc/stable/about.html\n",
        "\n",
        "from math import sqrt\n",
        "# https://docs.python.org/3/library/math.html\n",
        "from datetime import datetime\n",
        "# https://docs.python.org/3/library/datetime.html\n",
        "\n",
        "from matplotlib import pyplot as plt\n",
        "# https://matplotlib.org/index.html\n",
        "import seaborn as sns\n",
        "# https://seaborn.pydata.org/\n",
        "\n",
        "from sklearn.metrics import mean_squared_error\n",
        "# https://scikit-learn.org/stable/getting_started.html\n",
        "\n",
        "from statsmodels.tsa.stattools import adfuller, acf, pacf\n",
        "from statsmodels.tsa.seasonal import seasonal_decompose\n",
        "from statsmodels.tsa.arima_model import ARIMA, ARMA\n",
        "from statsmodels.tsa.holtwinters import SimpleExpSmoothing, Holt\n",
        "# https://www.statsmodels.org/stable/index.html\n",
        "\n",
        "from scipy import stats\n",
        "# https://docs.scipy.org/doc/scipy/reference/\n"
      ],
      "execution_count": 10,
      "outputs": []
    },
    {
      "cell_type": "code",
      "metadata": {
        "id": "rVvz4iwZOOYA",
        "colab_type": "code",
        "colab": {
          "base_uri": "https://localhost:8080/",
          "height": 55
        },
        "outputId": "e0f463f6-329e-4124-a018-d2f37e8b9082"
      },
      "source": [
        "from google.colab import drive\n",
        "drive.mount('/content/drive')"
      ],
      "execution_count": 11,
      "outputs": [
        {
          "output_type": "stream",
          "text": [
            "Drive already mounted at /content/drive; to attempt to forcibly remount, call drive.mount(\"/content/drive\", force_remount=True).\n"
          ],
          "name": "stdout"
        }
      ]
    },
    {
      "cell_type": "code",
      "metadata": {
        "id": "CQA_r4R5NziM",
        "colab_type": "code",
        "colab": {}
      },
      "source": [
        "data = pd.read_csv('/content/drive/My Drive/Colab Notebooks/power_consumption_JAN.csv')\n"
      ],
      "execution_count": 12,
      "outputs": []
    },
    {
      "cell_type": "code",
      "metadata": {
        "id": "dqmK5tqPN50W",
        "colab_type": "code",
        "colab": {
          "base_uri": "https://localhost:8080/",
          "height": 206
        },
        "outputId": "ae42aeb2-333b-48a3-f5cb-545b90d56703"
      },
      "source": [
        "data.head()"
      ],
      "execution_count": 13,
      "outputs": [
        {
          "output_type": "execute_result",
          "data": {
            "text/html": [
              "<div>\n",
              "<style scoped>\n",
              "    .dataframe tbody tr th:only-of-type {\n",
              "        vertical-align: middle;\n",
              "    }\n",
              "\n",
              "    .dataframe tbody tr th {\n",
              "        vertical-align: top;\n",
              "    }\n",
              "\n",
              "    .dataframe thead th {\n",
              "        text-align: right;\n",
              "    }\n",
              "</style>\n",
              "<table border=\"1\" class=\"dataframe\">\n",
              "  <thead>\n",
              "    <tr style=\"text-align: right;\">\n",
              "      <th></th>\n",
              "      <th>Unnamed: 0</th>\n",
              "      <th>TOTALDEMAND</th>\n",
              "      <th>Months</th>\n",
              "      <th>Quarters</th>\n",
              "      <th>date_time</th>\n",
              "      <th>days</th>\n",
              "      <th>weekday</th>\n",
              "    </tr>\n",
              "  </thead>\n",
              "  <tbody>\n",
              "    <tr>\n",
              "      <th>0</th>\n",
              "      <td>0</td>\n",
              "      <td>7166.97</td>\n",
              "      <td>1</td>\n",
              "      <td>1.0</td>\n",
              "      <td>2013-01-01 00:30:00</td>\n",
              "      <td>1</td>\n",
              "      <td>1</td>\n",
              "    </tr>\n",
              "    <tr>\n",
              "      <th>1</th>\n",
              "      <td>1</td>\n",
              "      <td>6928.11</td>\n",
              "      <td>1</td>\n",
              "      <td>1.0</td>\n",
              "      <td>2013-01-01 01:00:00</td>\n",
              "      <td>1</td>\n",
              "      <td>1</td>\n",
              "    </tr>\n",
              "    <tr>\n",
              "      <th>2</th>\n",
              "      <td>2</td>\n",
              "      <td>6541.21</td>\n",
              "      <td>1</td>\n",
              "      <td>1.0</td>\n",
              "      <td>2013-01-01 01:30:00</td>\n",
              "      <td>1</td>\n",
              "      <td>1</td>\n",
              "    </tr>\n",
              "    <tr>\n",
              "      <th>3</th>\n",
              "      <td>3</td>\n",
              "      <td>6253.60</td>\n",
              "      <td>1</td>\n",
              "      <td>1.0</td>\n",
              "      <td>2013-01-01 02:00:00</td>\n",
              "      <td>1</td>\n",
              "      <td>1</td>\n",
              "    </tr>\n",
              "    <tr>\n",
              "      <th>4</th>\n",
              "      <td>4</td>\n",
              "      <td>6003.44</td>\n",
              "      <td>1</td>\n",
              "      <td>1.0</td>\n",
              "      <td>2013-01-01 02:30:00</td>\n",
              "      <td>1</td>\n",
              "      <td>1</td>\n",
              "    </tr>\n",
              "  </tbody>\n",
              "</table>\n",
              "</div>"
            ],
            "text/plain": [
              "   Unnamed: 0  TOTALDEMAND  Months  ...            date_time days  weekday\n",
              "0           0      7166.97       1  ...  2013-01-01 00:30:00    1        1\n",
              "1           1      6928.11       1  ...  2013-01-01 01:00:00    1        1\n",
              "2           2      6541.21       1  ...  2013-01-01 01:30:00    1        1\n",
              "3           3      6253.60       1  ...  2013-01-01 02:00:00    1        1\n",
              "4           4      6003.44       1  ...  2013-01-01 02:30:00    1        1\n",
              "\n",
              "[5 rows x 7 columns]"
            ]
          },
          "metadata": {
            "tags": []
          },
          "execution_count": 13
        }
      ]
    },
    {
      "cell_type": "code",
      "metadata": {
        "id": "HIZsk_pTOXEC",
        "colab_type": "code",
        "colab": {
          "base_uri": "https://localhost:8080/",
          "height": 159
        },
        "outputId": "42dcf341-cec8-46d4-c6ad-93145cc733c9"
      },
      "source": [
        "data.dtypes"
      ],
      "execution_count": 14,
      "outputs": [
        {
          "output_type": "execute_result",
          "data": {
            "text/plain": [
              "Unnamed: 0       int64\n",
              "TOTALDEMAND    float64\n",
              "Months           int64\n",
              "Quarters       float64\n",
              "date_time       object\n",
              "days             int64\n",
              "weekday          int64\n",
              "dtype: object"
            ]
          },
          "metadata": {
            "tags": []
          },
          "execution_count": 14
        }
      ]
    },
    {
      "cell_type": "code",
      "metadata": {
        "id": "JWiVltG-O5PY",
        "colab_type": "code",
        "colab": {
          "base_uri": "https://localhost:8080/",
          "height": 35
        },
        "outputId": "f219bf92-5354-4970-a5b6-a0dd26a24268"
      },
      "source": [
        "data.index"
      ],
      "execution_count": 15,
      "outputs": [
        {
          "output_type": "execute_result",
          "data": {
            "text/plain": [
              "RangeIndex(start=0, stop=4272, step=1)"
            ]
          },
          "metadata": {
            "tags": []
          },
          "execution_count": 15
        }
      ]
    },
    {
      "cell_type": "code",
      "metadata": {
        "id": "isOcOplpWWjE",
        "colab_type": "code",
        "colab": {}
      },
      "source": [
        "number_of_test = int(len(data) * 0.2)\n",
        "no_of_train = len(data['TOTALDEMAND'])-number_of_test\n",
        "indexCol = []\n",
        "for k in range(no_of_train):\n",
        "    indexCol.append(k+1)\n",
        "df_train = pd.DataFrame()\n",
        "df_train['indexCol'] = indexCol\n",
        "df_train['W'] = data['TOTALDEMAND'][:no_of_train]\n",
        "indexCol = []\n",
        "data_test= []\n",
        "for k in range(number_of_test):\n",
        "    indexCol.append(k+1)\n",
        "    data_test.append(data['TOTALDEMAND'][no_of_train+k])\n",
        "df_test = pd.DataFrame()\n",
        "df_test['indexCol'] = indexCol\n",
        "df_test['W'] = data_test"
      ],
      "execution_count": 16,
      "outputs": []
    },
    {
      "cell_type": "code",
      "metadata": {
        "id": "L1IAUhWtePys",
        "colab_type": "code",
        "colab": {}
      },
      "source": [
        ""
      ],
      "execution_count": 16,
      "outputs": []
    },
    {
      "cell_type": "code",
      "metadata": {
        "id": "XOfoAsl73nev",
        "colab_type": "code",
        "colab": {
          "base_uri": "https://localhost:8080/",
          "height": 385
        },
        "outputId": "d99c4c1e-e1be-492f-a0a7-69b4e5f26ca4"
      },
      "source": [
        "#Passenger PLOT\n",
        "data['TOTALDEMAND'][0:1440].plot(figsize=(12,5))\n",
        "plt.ylabel('Demand')\n",
        "plt.legend().set_visible(False)\n",
        "plt.tight_layout()\n",
        "plt.title('Demand')\n",
        "sns.despine(top=True)\n",
        "plt.show()"
      ],
      "execution_count": 17,
      "outputs": [
        {
          "output_type": "display_data",
          "data": {
            "image/png": "[encoded data removed]",
            "text/plain": [
              "<Figure size 864x360 with 1 Axes>"
            ]
          },
          "metadata": {
            "tags": [],
            "needs_background": "light"
          }
        }
      ]
    },
    {
      "cell_type": "code",
      "metadata": {
        "id": "ODJKIXt-HVSU",
        "colab_type": "code",
        "colab": {
          "base_uri": "https://localhost:8080/",
          "height": 281
        },
        "outputId": "b7ab6edd-2897-4787-eace-5596ed25a2a6"
      },
      "source": [
        "all_data_log = np.log(data['TOTALDEMAND'])\n",
        "train_log = np.log(df_train['W'])\n",
        "test_log = np.log(df_test['W'])\n",
        "plt.plot(all_data_log)\n",
        "plt.title(\"All Data\")\n",
        "plt.show()"
      ],
      "execution_count": 18,
      "outputs": [
        {
          "output_type": "display_data",
          "data": {
            "image/png": "[encoded data removed]",
            "text/plain": [
              "<Figure size 432x288 with 1 Axes>"
            ]
          },
          "metadata": {
            "tags": [],
            "needs_background": "light"
          }
        }
      ]
    },
    {
      "cell_type": "code",
      "metadata": {
        "id": "AgCo9gOja2SB",
        "colab_type": "code",
        "colab": {
          "base_uri": "https://localhost:8080/",
          "height": 283
        },
        "outputId": "3af39303-f850-42d4-fbc1-7c69e0be8185"
      },
      "source": [
        "#Differencing of logarithm of data\n",
        "ts_log_diff = all_data_log - all_data_log.shift()\n",
        "plt.plot(ts_log_diff)"
      ],
      "execution_count": 19,
      "outputs": [
        {
          "output_type": "execute_result",
          "data": {
            "text/plain": [
              "[<matplotlib.lines.Line2D at 0x7f5caabd2b00>]"
            ]
          },
          "metadata": {
            "tags": []
          },
          "execution_count": 19
        },
        {
          "output_type": "display_data",
          "data": {
            "image/png": "[encoded data removed]",
            "text/plain": [
              "<Figure size 432x288 with 1 Axes>"
            ]
          },
          "metadata": {
            "tags": [],
            "needs_background": "light"
          }
        }
      ]
    },
    {
      "cell_type": "code",
      "metadata": {
        "id": "KjW3K8nqIT6Y",
        "colab_type": "code",
        "colab": {
          "base_uri": "https://localhost:8080/",
          "height": 124
        },
        "outputId": "e1eec20d-f1dd-4414-c1b3-82ea9a22de7f"
      },
      "source": [
        "# remove all NaN fields\n",
        "ts_log_diff.dropna(inplace = True)\n",
        "ts_log_diff.head()"
      ],
      "execution_count": 20,
      "outputs": [
        {
          "output_type": "execute_result",
          "data": {
            "text/plain": [
              "1   -0.033896\n",
              "2   -0.057465\n",
              "3   -0.044965\n",
              "4   -0.040825\n",
              "5   -0.027782\n",
              "Name: TOTALDEMAND, dtype: float64"
            ]
          },
          "metadata": {
            "tags": []
          },
          "execution_count": 20
        }
      ]
    },
    {
      "cell_type": "code",
      "metadata": {
        "id": "ZUBnDgwErRCQ",
        "colab_type": "code",
        "colab": {
          "base_uri": "https://localhost:8080/",
          "height": 1000
        },
        "outputId": "812a7154-86ad-4c25-f121-2f5aff6baca3"
      },
      "source": [
        "# Optimize ARIMA parameters\n",
        "aicVal=[]\n",
        "for d in range(1,5):\n",
        "    for ari in range(0, 5):\n",
        "        for maj in range(0,5):\n",
        "            try:\n",
        "                arima_obj = ARIMA(ts_log_diff, order=(ari,d,maj))\n",
        "                arima_obj_fit=arima_obj.fit(maxlag=30, method='css', trend='nc')  \n",
        "                if(len(aicVal)==0):\n",
        "                    aicVal.append([ari, d, maj, arima_obj_fit.aic])\n",
        "                elif(aicVal[len(aicVal)-1][3]>arima_obj_fit.aic):\n",
        "                    aicVal.append([ari, d, maj, arima_obj_fit.aic])\n",
        "                \n",
        "                print(ari, d, maj, arima_obj_fit.aic)\n",
        "            except ValueError:\n",
        "                pass"
      ],
      "execution_count": 21,
      "outputs": [
        {
          "output_type": "stream",
          "text": [
            "/usr/local/lib/python3.6/dist-packages/statsmodels/tsa/base/tsa_model.py:215: ValueWarning: An unsupported index was provided and will be ignored when e.g. forecasting.\n",
            "  ' ignored when e.g. forecasting.', ValueWarning)\n",
            "/usr/local/lib/python3.6/dist-packages/statsmodels/tsa/base/tsa_model.py:215: ValueWarning: An unsupported index was provided and will be ignored when e.g. forecasting.\n",
            "  ' ignored when e.g. forecasting.', ValueWarning)\n",
            "/usr/local/lib/python3.6/dist-packages/statsmodels/tsa/base/tsa_model.py:215: ValueWarning: An unsupported index was provided and will be ignored when e.g. forecasting.\n",
            "  ' ignored when e.g. forecasting.', ValueWarning)\n",
            "/usr/local/lib/python3.6/dist-packages/statsmodels/tsa/base/tsa_model.py:215: ValueWarning: An unsupported index was provided and will be ignored when e.g. forecasting.\n",
            "  ' ignored when e.g. forecasting.', ValueWarning)\n",
            "/usr/local/lib/python3.6/dist-packages/statsmodels/tsa/base/tsa_model.py:215: ValueWarning: An unsupported index was provided and will be ignored when e.g. forecasting.\n",
            "  ' ignored when e.g. forecasting.', ValueWarning)\n",
            "/usr/local/lib/python3.6/dist-packages/statsmodels/tsa/base/tsa_model.py:215: ValueWarning: An unsupported index was provided and will be ignored when e.g. forecasting.\n",
            "  ' ignored when e.g. forecasting.', ValueWarning)\n",
            "/usr/local/lib/python3.6/dist-packages/statsmodels/tsa/base/tsa_model.py:215: ValueWarning: An unsupported index was provided and will be ignored when e.g. forecasting.\n",
            "  ' ignored when e.g. forecasting.', ValueWarning)\n",
            "/usr/local/lib/python3.6/dist-packages/statsmodels/tsa/base/tsa_model.py:215: ValueWarning: An unsupported index was provided and will be ignored when e.g. forecasting.\n",
            "  ' ignored when e.g. forecasting.', ValueWarning)\n",
            "/usr/local/lib/python3.6/dist-packages/statsmodels/tsa/base/tsa_model.py:215: ValueWarning: An unsupported index was provided and will be ignored when e.g. forecasting.\n",
            "  ' ignored when e.g. forecasting.', ValueWarning)\n",
            "/usr/local/lib/python3.6/dist-packages/statsmodels/tsa/base/tsa_model.py:215: ValueWarning: An unsupported index was provided and will be ignored when e.g. forecasting.\n",
            "  ' ignored when e.g. forecasting.', ValueWarning)\n",
            "/usr/local/lib/python3.6/dist-packages/statsmodels/tsa/base/tsa_model.py:215: ValueWarning: An unsupported index was provided and will be ignored when e.g. forecasting.\n",
            "  ' ignored when e.g. forecasting.', ValueWarning)\n",
            "/usr/local/lib/python3.6/dist-packages/statsmodels/tsa/base/tsa_model.py:215: ValueWarning: An unsupported index was provided and will be ignored when e.g. forecasting.\n",
            "  ' ignored when e.g. forecasting.', ValueWarning)\n",
            "/usr/local/lib/python3.6/dist-packages/statsmodels/tsa/base/tsa_model.py:215: ValueWarning: An unsupported index was provided and will be ignored when e.g. forecasting.\n",
            "  ' ignored when e.g. forecasting.', ValueWarning)\n",
            "/usr/local/lib/python3.6/dist-packages/statsmodels/tsa/base/tsa_model.py:215: ValueWarning: An unsupported index was provided and will be ignored when e.g. forecasting.\n",
            "  ' ignored when e.g. forecasting.', ValueWarning)\n"
          ],
          "name": "stderr"
        },
        {
          "output_type": "stream",
          "text": [
            "0 1 1 -24634.014694781414\n",
            "0 1 2 -24718.034723896093\n",
            "0 1 3 -24716.676333341522\n",
            "0 1 4 -24715.742921056284\n",
            "1 1 0 -24673.47979018007\n",
            "1 1 1 -24691.697020521897\n"
          ],
          "name": "stdout"
        },
        {
          "output_type": "stream",
          "text": [
            "/usr/local/lib/python3.6/dist-packages/statsmodels/tsa/base/tsa_model.py:215: ValueWarning: An unsupported index was provided and will be ignored when e.g. forecasting.\n",
            "  ' ignored when e.g. forecasting.', ValueWarning)\n",
            "/usr/local/lib/python3.6/dist-packages/statsmodels/tsa/base/tsa_model.py:215: ValueWarning: An unsupported index was provided and will be ignored when e.g. forecasting.\n",
            "  ' ignored when e.g. forecasting.', ValueWarning)\n"
          ],
          "name": "stderr"
        },
        {
          "output_type": "stream",
          "text": [
            "1 1 2 -24713.07548192648\n"
          ],
          "name": "stdout"
        },
        {
          "output_type": "stream",
          "text": [
            "/usr/local/lib/python3.6/dist-packages/statsmodels/tsa/base/tsa_model.py:215: ValueWarning: An unsupported index was provided and will be ignored when e.g. forecasting.\n",
            "  ' ignored when e.g. forecasting.', ValueWarning)\n",
            "/usr/local/lib/python3.6/dist-packages/statsmodels/tsa/base/tsa_model.py:215: ValueWarning: An unsupported index was provided and will be ignored when e.g. forecasting.\n",
            "  ' ignored when e.g. forecasting.', ValueWarning)\n"
          ],
          "name": "stderr"
        },
        {
          "output_type": "stream",
          "text": [
            "1 1 3 -24711.153950927983\n"
          ],
          "name": "stdout"
        },
        {
          "output_type": "stream",
          "text": [
            "/usr/local/lib/python3.6/dist-packages/statsmodels/tsa/base/tsa_model.py:215: ValueWarning: An unsupported index was provided and will be ignored when e.g. forecasting.\n",
            "  ' ignored when e.g. forecasting.', ValueWarning)\n",
            "/usr/local/lib/python3.6/dist-packages/statsmodels/tsa/base/tsa_model.py:215: ValueWarning: An unsupported index was provided and will be ignored when e.g. forecasting.\n",
            "  ' ignored when e.g. forecasting.', ValueWarning)\n"
          ],
          "name": "stderr"
        },
        {
          "output_type": "stream",
          "text": [
            "1 1 4 -24711.30837750894\n",
            "2 1 0 -24697.84373993213\n"
          ],
          "name": "stdout"
        },
        {
          "output_type": "stream",
          "text": [
            "/usr/local/lib/python3.6/dist-packages/statsmodels/tsa/base/tsa_model.py:215: ValueWarning: An unsupported index was provided and will be ignored when e.g. forecasting.\n",
            "  ' ignored when e.g. forecasting.', ValueWarning)\n",
            "/usr/local/lib/python3.6/dist-packages/statsmodels/tsa/base/tsa_model.py:215: ValueWarning: An unsupported index was provided and will be ignored when e.g. forecasting.\n",
            "  ' ignored when e.g. forecasting.', ValueWarning)\n",
            "/usr/local/lib/python3.6/dist-packages/statsmodels/tsa/base/tsa_model.py:215: ValueWarning: An unsupported index was provided and will be ignored when e.g. forecasting.\n",
            "  ' ignored when e.g. forecasting.', ValueWarning)\n",
            "/usr/local/lib/python3.6/dist-packages/statsmodels/tsa/base/tsa_model.py:215: ValueWarning: An unsupported index was provided and will be ignored when e.g. forecasting.\n",
            "  ' ignored when e.g. forecasting.', ValueWarning)\n"
          ],
          "name": "stderr"
        },
        {
          "output_type": "stream",
          "text": [
            "2 1 1 -24704.98526901253\n"
          ],
          "name": "stdout"
        },
        {
          "output_type": "stream",
          "text": [
            "/usr/local/lib/python3.6/dist-packages/statsmodels/tsa/base/tsa_model.py:215: ValueWarning: An unsupported index was provided and will be ignored when e.g. forecasting.\n",
            "  ' ignored when e.g. forecasting.', ValueWarning)\n",
            "/usr/local/lib/python3.6/dist-packages/statsmodels/tsa/base/tsa_model.py:215: ValueWarning: An unsupported index was provided and will be ignored when e.g. forecasting.\n",
            "  ' ignored when e.g. forecasting.', ValueWarning)\n"
          ],
          "name": "stderr"
        },
        {
          "output_type": "stream",
          "text": [
            "2 1 2 -24705.355053808715\n"
          ],
          "name": "stdout"
        },
        {
          "output_type": "stream",
          "text": [
            "/usr/local/lib/python3.6/dist-packages/statsmodels/tsa/base/tsa_model.py:215: ValueWarning: An unsupported index was provided and will be ignored when e.g. forecasting.\n",
            "  ' ignored when e.g. forecasting.', ValueWarning)\n",
            "/usr/local/lib/python3.6/dist-packages/statsmodels/tsa/base/tsa_model.py:215: ValueWarning: An unsupported index was provided and will be ignored when e.g. forecasting.\n",
            "  ' ignored when e.g. forecasting.', ValueWarning)\n"
          ],
          "name": "stderr"
        },
        {
          "output_type": "stream",
          "text": [
            "2 1 3 -24703.81264254233\n"
          ],
          "name": "stdout"
        },
        {
          "output_type": "stream",
          "text": [
            "/usr/local/lib/python3.6/dist-packages/statsmodels/tsa/base/tsa_model.py:215: ValueWarning: An unsupported index was provided and will be ignored when e.g. forecasting.\n",
            "  ' ignored when e.g. forecasting.', ValueWarning)\n",
            "/usr/local/lib/python3.6/dist-packages/statsmodels/tsa/base/tsa_model.py:215: ValueWarning: An unsupported index was provided and will be ignored when e.g. forecasting.\n",
            "  ' ignored when e.g. forecasting.', ValueWarning)\n"
          ],
          "name": "stderr"
        },
        {
          "output_type": "stream",
          "text": [
            "2 1 4 -24968.911357311154\n",
            "3 1 0 -24703.472342284786\n"
          ],
          "name": "stdout"
        },
        {
          "output_type": "stream",
          "text": [
            "/usr/local/lib/python3.6/dist-packages/statsmodels/tsa/base/tsa_model.py:215: ValueWarning: An unsupported index was provided and will be ignored when e.g. forecasting.\n",
            "  ' ignored when e.g. forecasting.', ValueWarning)\n",
            "/usr/local/lib/python3.6/dist-packages/statsmodels/tsa/base/tsa_model.py:215: ValueWarning: An unsupported index was provided and will be ignored when e.g. forecasting.\n",
            "  ' ignored when e.g. forecasting.', ValueWarning)\n",
            "/usr/local/lib/python3.6/dist-packages/statsmodels/tsa/base/tsa_model.py:215: ValueWarning: An unsupported index was provided and will be ignored when e.g. forecasting.\n",
            "  ' ignored when e.g. forecasting.', ValueWarning)\n",
            "/usr/local/lib/python3.6/dist-packages/statsmodels/tsa/base/tsa_model.py:215: ValueWarning: An unsupported index was provided and will be ignored when e.g. forecasting.\n",
            "  ' ignored when e.g. forecasting.', ValueWarning)\n"
          ],
          "name": "stderr"
        },
        {
          "output_type": "stream",
          "text": [
            "3 1 1 -24762.240411783554\n"
          ],
          "name": "stdout"
        },
        {
          "output_type": "stream",
          "text": [
            "/usr/local/lib/python3.6/dist-packages/statsmodels/tsa/base/tsa_model.py:215: ValueWarning: An unsupported index was provided and will be ignored when e.g. forecasting.\n",
            "  ' ignored when e.g. forecasting.', ValueWarning)\n",
            "/usr/local/lib/python3.6/dist-packages/statsmodels/tsa/base/tsa_model.py:215: ValueWarning: An unsupported index was provided and will be ignored when e.g. forecasting.\n",
            "  ' ignored when e.g. forecasting.', ValueWarning)\n"
          ],
          "name": "stderr"
        },
        {
          "output_type": "stream",
          "text": [
            "3 1 2 -24760.348618205277\n"
          ],
          "name": "stdout"
        },
        {
          "output_type": "stream",
          "text": [
            "/usr/local/lib/python3.6/dist-packages/statsmodels/tsa/base/tsa_model.py:215: ValueWarning: An unsupported index was provided and will be ignored when e.g. forecasting.\n",
            "  ' ignored when e.g. forecasting.', ValueWarning)\n",
            "/usr/local/lib/python3.6/dist-packages/statsmodels/tsa/base/tsa_model.py:215: ValueWarning: An unsupported index was provided and will be ignored when e.g. forecasting.\n",
            "  ' ignored when e.g. forecasting.', ValueWarning)\n"
          ],
          "name": "stderr"
        },
        {
          "output_type": "stream",
          "text": [
            "3 1 3 -25008.12895211189\n"
          ],
          "name": "stdout"
        },
        {
          "output_type": "stream",
          "text": [
            "/usr/local/lib/python3.6/dist-packages/statsmodels/tsa/base/tsa_model.py:215: ValueWarning: An unsupported index was provided and will be ignored when e.g. forecasting.\n",
            "  ' ignored when e.g. forecasting.', ValueWarning)\n",
            "/usr/local/lib/python3.6/dist-packages/statsmodels/tsa/base/tsa_model.py:215: ValueWarning: An unsupported index was provided and will be ignored when e.g. forecasting.\n",
            "  ' ignored when e.g. forecasting.', ValueWarning)\n"
          ],
          "name": "stderr"
        },
        {
          "output_type": "stream",
          "text": [
            "3 1 4 -25044.257188200736\n",
            "4 1 0 -24699.42749101307\n"
          ],
          "name": "stdout"
        },
        {
          "output_type": "stream",
          "text": [
            "/usr/local/lib/python3.6/dist-packages/statsmodels/tsa/base/tsa_model.py:215: ValueWarning: An unsupported index was provided and will be ignored when e.g. forecasting.\n",
            "  ' ignored when e.g. forecasting.', ValueWarning)\n",
            "/usr/local/lib/python3.6/dist-packages/statsmodels/tsa/base/tsa_model.py:215: ValueWarning: An unsupported index was provided and will be ignored when e.g. forecasting.\n",
            "  ' ignored when e.g. forecasting.', ValueWarning)\n",
            "/usr/local/lib/python3.6/dist-packages/statsmodels/tsa/base/tsa_model.py:215: ValueWarning: An unsupported index was provided and will be ignored when e.g. forecasting.\n",
            "  ' ignored when e.g. forecasting.', ValueWarning)\n",
            "/usr/local/lib/python3.6/dist-packages/statsmodels/tsa/base/tsa_model.py:215: ValueWarning: An unsupported index was provided and will be ignored when e.g. forecasting.\n",
            "  ' ignored when e.g. forecasting.', ValueWarning)\n"
          ],
          "name": "stderr"
        },
        {
          "output_type": "stream",
          "text": [
            "4 1 1 -24747.835996396294\n"
          ],
          "name": "stdout"
        },
        {
          "output_type": "stream",
          "text": [
            "/usr/local/lib/python3.6/dist-packages/statsmodels/tsa/base/tsa_model.py:215: ValueWarning: An unsupported index was provided and will be ignored when e.g. forecasting.\n",
            "  ' ignored when e.g. forecasting.', ValueWarning)\n",
            "/usr/local/lib/python3.6/dist-packages/statsmodels/tsa/base/tsa_model.py:215: ValueWarning: An unsupported index was provided and will be ignored when e.g. forecasting.\n",
            "  ' ignored when e.g. forecasting.', ValueWarning)\n"
          ],
          "name": "stderr"
        },
        {
          "output_type": "stream",
          "text": [
            "4 1 2 -25035.658371247428\n"
          ],
          "name": "stdout"
        },
        {
          "output_type": "stream",
          "text": [
            "/usr/local/lib/python3.6/dist-packages/statsmodels/tsa/base/tsa_model.py:215: ValueWarning: An unsupported index was provided and will be ignored when e.g. forecasting.\n",
            "  ' ignored when e.g. forecasting.', ValueWarning)\n",
            "/usr/local/lib/python3.6/dist-packages/statsmodels/tsa/base/tsa_model.py:215: ValueWarning: An unsupported index was provided and will be ignored when e.g. forecasting.\n",
            "  ' ignored when e.g. forecasting.', ValueWarning)\n"
          ],
          "name": "stderr"
        },
        {
          "output_type": "stream",
          "text": [
            "4 1 3 -25105.835114139976\n"
          ],
          "name": "stdout"
        },
        {
          "output_type": "stream",
          "text": [
            "/usr/local/lib/python3.6/dist-packages/statsmodels/tsa/base/tsa_model.py:215: ValueWarning: An unsupported index was provided and will be ignored when e.g. forecasting.\n",
            "  ' ignored when e.g. forecasting.', ValueWarning)\n",
            "/usr/local/lib/python3.6/dist-packages/statsmodels/tsa/base/tsa_model.py:215: ValueWarning: An unsupported index was provided and will be ignored when e.g. forecasting.\n",
            "  ' ignored when e.g. forecasting.', ValueWarning)\n"
          ],
          "name": "stderr"
        },
        {
          "output_type": "stream",
          "text": [
            "4 1 4 -25146.143989618442\n",
            "0 2 1 -24286.958231220673\n",
            "1 2 0 -22926.97446934166\n"
          ],
          "name": "stdout"
        },
        {
          "output_type": "stream",
          "text": [
            "/usr/local/lib/python3.6/dist-packages/statsmodels/tsa/base/tsa_model.py:215: ValueWarning: An unsupported index was provided and will be ignored when e.g. forecasting.\n",
            "  ' ignored when e.g. forecasting.', ValueWarning)\n",
            "/usr/local/lib/python3.6/dist-packages/statsmodels/tsa/base/tsa_model.py:215: ValueWarning: An unsupported index was provided and will be ignored when e.g. forecasting.\n",
            "  ' ignored when e.g. forecasting.', ValueWarning)\n",
            "/usr/local/lib/python3.6/dist-packages/statsmodels/tsa/base/tsa_model.py:215: ValueWarning: An unsupported index was provided and will be ignored when e.g. forecasting.\n",
            "  ' ignored when e.g. forecasting.', ValueWarning)\n",
            "/usr/local/lib/python3.6/dist-packages/statsmodels/tsa/base/tsa_model.py:215: ValueWarning: An unsupported index was provided and will be ignored when e.g. forecasting.\n",
            "  ' ignored when e.g. forecasting.', ValueWarning)\n",
            "/usr/local/lib/python3.6/dist-packages/statsmodels/tsa/base/tsa_model.py:215: ValueWarning: An unsupported index was provided and will be ignored when e.g. forecasting.\n",
            "  ' ignored when e.g. forecasting.', ValueWarning)\n",
            "/usr/local/lib/python3.6/dist-packages/statsmodels/tsa/base/tsa_model.py:215: ValueWarning: An unsupported index was provided and will be ignored when e.g. forecasting.\n",
            "  ' ignored when e.g. forecasting.', ValueWarning)\n",
            "/usr/local/lib/python3.6/dist-packages/statsmodels/tsa/base/tsa_model.py:215: ValueWarning: An unsupported index was provided and will be ignored when e.g. forecasting.\n",
            "  ' ignored when e.g. forecasting.', ValueWarning)\n",
            "/usr/local/lib/python3.6/dist-packages/statsmodels/tsa/base/tsa_model.py:215: ValueWarning: An unsupported index was provided and will be ignored when e.g. forecasting.\n",
            "  ' ignored when e.g. forecasting.', ValueWarning)\n",
            "/usr/local/lib/python3.6/dist-packages/statsmodels/tsa/base/tsa_model.py:215: ValueWarning: An unsupported index was provided and will be ignored when e.g. forecasting.\n",
            "  ' ignored when e.g. forecasting.', ValueWarning)\n",
            "/usr/local/lib/python3.6/dist-packages/statsmodels/tsa/base/tsa_model.py:215: ValueWarning: An unsupported index was provided and will be ignored when e.g. forecasting.\n",
            "  ' ignored when e.g. forecasting.', ValueWarning)\n",
            "/usr/local/lib/python3.6/dist-packages/statsmodels/tsa/base/tsa_model.py:215: ValueWarning: An unsupported index was provided and will be ignored when e.g. forecasting.\n",
            "  ' ignored when e.g. forecasting.', ValueWarning)\n",
            "/usr/local/lib/python3.6/dist-packages/statsmodels/tsa/base/tsa_model.py:215: ValueWarning: An unsupported index was provided and will be ignored when e.g. forecasting.\n",
            "  ' ignored when e.g. forecasting.', ValueWarning)\n",
            "/usr/local/lib/python3.6/dist-packages/statsmodels/tsa/base/tsa_model.py:215: ValueWarning: An unsupported index was provided and will be ignored when e.g. forecasting.\n",
            "  ' ignored when e.g. forecasting.', ValueWarning)\n",
            "/usr/local/lib/python3.6/dist-packages/statsmodels/tsa/base/tsa_model.py:215: ValueWarning: An unsupported index was provided and will be ignored when e.g. forecasting.\n",
            "  ' ignored when e.g. forecasting.', ValueWarning)\n"
          ],
          "name": "stderr"
        },
        {
          "output_type": "stream",
          "text": [
            "1 2 1 -24620.401702694675\n"
          ],
          "name": "stdout"
        },
        {
          "output_type": "stream",
          "text": [
            "/usr/local/lib/python3.6/dist-packages/statsmodels/tsa/base/tsa_model.py:215: ValueWarning: An unsupported index was provided and will be ignored when e.g. forecasting.\n",
            "  ' ignored when e.g. forecasting.', ValueWarning)\n",
            "/usr/local/lib/python3.6/dist-packages/statsmodels/tsa/base/tsa_model.py:215: ValueWarning: An unsupported index was provided and will be ignored when e.g. forecasting.\n",
            "  ' ignored when e.g. forecasting.', ValueWarning)\n"
          ],
          "name": "stderr"
        },
        {
          "output_type": "stream",
          "text": [
            "1 2 2 -24678.052831998095\n"
          ],
          "name": "stdout"
        },
        {
          "output_type": "stream",
          "text": [
            "/usr/local/lib/python3.6/dist-packages/statsmodels/tsa/base/tsa_model.py:215: ValueWarning: An unsupported index was provided and will be ignored when e.g. forecasting.\n",
            "  ' ignored when e.g. forecasting.', ValueWarning)\n",
            "/usr/local/lib/python3.6/dist-packages/statsmodels/tsa/base/tsa_model.py:215: ValueWarning: An unsupported index was provided and will be ignored when e.g. forecasting.\n",
            "  ' ignored when e.g. forecasting.', ValueWarning)\n"
          ],
          "name": "stderr"
        },
        {
          "output_type": "stream",
          "text": [
            "1 2 3 -24677.421370759326\n"
          ],
          "name": "stdout"
        },
        {
          "output_type": "stream",
          "text": [
            "/usr/local/lib/python3.6/dist-packages/statsmodels/tsa/base/tsa_model.py:215: ValueWarning: An unsupported index was provided and will be ignored when e.g. forecasting.\n",
            "  ' ignored when e.g. forecasting.', ValueWarning)\n",
            "/usr/local/lib/python3.6/dist-packages/statsmodels/tsa/base/tsa_model.py:215: ValueWarning: An unsupported index was provided and will be ignored when e.g. forecasting.\n",
            "  ' ignored when e.g. forecasting.', ValueWarning)\n"
          ],
          "name": "stderr"
        },
        {
          "output_type": "stream",
          "text": [
            "1 2 4 -24702.987069866336\n",
            "2 2 0 -23575.992369070354\n"
          ],
          "name": "stdout"
        },
        {
          "output_type": "stream",
          "text": [
            "/usr/local/lib/python3.6/dist-packages/statsmodels/tsa/base/tsa_model.py:215: ValueWarning: An unsupported index was provided and will be ignored when e.g. forecasting.\n",
            "  ' ignored when e.g. forecasting.', ValueWarning)\n",
            "/usr/local/lib/python3.6/dist-packages/statsmodels/tsa/base/tsa_model.py:215: ValueWarning: An unsupported index was provided and will be ignored when e.g. forecasting.\n",
            "  ' ignored when e.g. forecasting.', ValueWarning)\n",
            "/usr/local/lib/python3.6/dist-packages/statsmodels/tsa/base/tsa_model.py:215: ValueWarning: An unsupported index was provided and will be ignored when e.g. forecasting.\n",
            "  ' ignored when e.g. forecasting.', ValueWarning)\n",
            "/usr/local/lib/python3.6/dist-packages/statsmodels/tsa/base/tsa_model.py:215: ValueWarning: An unsupported index was provided and will be ignored when e.g. forecasting.\n",
            "  ' ignored when e.g. forecasting.', ValueWarning)\n"
          ],
          "name": "stderr"
        },
        {
          "output_type": "stream",
          "text": [
            "2 2 1 -24633.58388236325\n"
          ],
          "name": "stdout"
        },
        {
          "output_type": "stream",
          "text": [
            "/usr/local/lib/python3.6/dist-packages/statsmodels/tsa/base/tsa_model.py:215: ValueWarning: An unsupported index was provided and will be ignored when e.g. forecasting.\n",
            "  ' ignored when e.g. forecasting.', ValueWarning)\n",
            "/usr/local/lib/python3.6/dist-packages/statsmodels/tsa/base/tsa_model.py:215: ValueWarning: An unsupported index was provided and will be ignored when e.g. forecasting.\n",
            "  ' ignored when e.g. forecasting.', ValueWarning)\n"
          ],
          "name": "stderr"
        },
        {
          "output_type": "stream",
          "text": [
            "2 2 2 -24646.488370790004\n"
          ],
          "name": "stdout"
        },
        {
          "output_type": "stream",
          "text": [
            "/usr/local/lib/python3.6/dist-packages/statsmodels/tsa/base/tsa_model.py:215: ValueWarning: An unsupported index was provided and will be ignored when e.g. forecasting.\n",
            "  ' ignored when e.g. forecasting.', ValueWarning)\n",
            "/usr/local/lib/python3.6/dist-packages/statsmodels/tsa/base/tsa_model.py:215: ValueWarning: An unsupported index was provided and will be ignored when e.g. forecasting.\n",
            "  ' ignored when e.g. forecasting.', ValueWarning)\n"
          ],
          "name": "stderr"
        },
        {
          "output_type": "stream",
          "text": [
            "2 2 3 -24745.637095770566\n"
          ],
          "name": "stdout"
        },
        {
          "output_type": "stream",
          "text": [
            "/usr/local/lib/python3.6/dist-packages/statsmodels/tsa/base/tsa_model.py:215: ValueWarning: An unsupported index was provided and will be ignored when e.g. forecasting.\n",
            "  ' ignored when e.g. forecasting.', ValueWarning)\n",
            "/usr/local/lib/python3.6/dist-packages/statsmodels/tsa/base/tsa_model.py:215: ValueWarning: An unsupported index was provided and will be ignored when e.g. forecasting.\n",
            "  ' ignored when e.g. forecasting.', ValueWarning)\n"
          ],
          "name": "stderr"
        },
        {
          "output_type": "stream",
          "text": [
            "2 2 4 -24817.054757937243\n",
            "3 2 0 -23761.124569140025\n"
          ],
          "name": "stdout"
        },
        {
          "output_type": "stream",
          "text": [
            "/usr/local/lib/python3.6/dist-packages/statsmodels/tsa/base/tsa_model.py:215: ValueWarning: An unsupported index was provided and will be ignored when e.g. forecasting.\n",
            "  ' ignored when e.g. forecasting.', ValueWarning)\n",
            "/usr/local/lib/python3.6/dist-packages/statsmodels/tsa/base/tsa_model.py:215: ValueWarning: An unsupported index was provided and will be ignored when e.g. forecasting.\n",
            "  ' ignored when e.g. forecasting.', ValueWarning)\n",
            "/usr/local/lib/python3.6/dist-packages/statsmodels/tsa/base/tsa_model.py:215: ValueWarning: An unsupported index was provided and will be ignored when e.g. forecasting.\n",
            "  ' ignored when e.g. forecasting.', ValueWarning)\n",
            "/usr/local/lib/python3.6/dist-packages/statsmodels/tsa/base/tsa_model.py:215: ValueWarning: An unsupported index was provided and will be ignored when e.g. forecasting.\n",
            "  ' ignored when e.g. forecasting.', ValueWarning)\n"
          ],
          "name": "stderr"
        },
        {
          "output_type": "stream",
          "text": [
            "3 2 1 -24605.443299562314\n"
          ],
          "name": "stdout"
        },
        {
          "output_type": "stream",
          "text": [
            "/usr/local/lib/python3.6/dist-packages/statsmodels/tsa/base/tsa_model.py:215: ValueWarning: An unsupported index was provided and will be ignored when e.g. forecasting.\n",
            "  ' ignored when e.g. forecasting.', ValueWarning)\n",
            "/usr/local/lib/python3.6/dist-packages/statsmodels/tsa/base/tsa_model.py:215: ValueWarning: An unsupported index was provided and will be ignored when e.g. forecasting.\n",
            "  ' ignored when e.g. forecasting.', ValueWarning)\n"
          ],
          "name": "stderr"
        },
        {
          "output_type": "stream",
          "text": [
            "3 2 2 -24679.421576821172\n"
          ],
          "name": "stdout"
        },
        {
          "output_type": "stream",
          "text": [
            "/usr/local/lib/python3.6/dist-packages/statsmodels/tsa/base/tsa_model.py:215: ValueWarning: An unsupported index was provided and will be ignored when e.g. forecasting.\n",
            "  ' ignored when e.g. forecasting.', ValueWarning)\n",
            "/usr/local/lib/python3.6/dist-packages/statsmodels/tsa/base/tsa_model.py:215: ValueWarning: An unsupported index was provided and will be ignored when e.g. forecasting.\n",
            "  ' ignored when e.g. forecasting.', ValueWarning)\n",
            "/usr/local/lib/python3.6/dist-packages/statsmodels/base/model.py:492: HessianInversionWarning: Inverting hessian failed, no bse or cov_params available\n",
            "  'available', HessianInversionWarning)\n",
            "/usr/local/lib/python3.6/dist-packages/statsmodels/tsa/base/tsa_model.py:215: ValueWarning: An unsupported index was provided and will be ignored when e.g. forecasting.\n",
            "  ' ignored when e.g. forecasting.', ValueWarning)\n",
            "/usr/local/lib/python3.6/dist-packages/statsmodels/tsa/base/tsa_model.py:215: ValueWarning: An unsupported index was provided and will be ignored when e.g. forecasting.\n",
            "  ' ignored when e.g. forecasting.', ValueWarning)\n"
          ],
          "name": "stderr"
        },
        {
          "output_type": "stream",
          "text": [
            "3 2 3 -24877.683067564063\n",
            "3 2 4 -24687.112575812313\n",
            "4 2 0 -24014.716281232762\n"
          ],
          "name": "stdout"
        },
        {
          "output_type": "stream",
          "text": [
            "/usr/local/lib/python3.6/dist-packages/statsmodels/tsa/base/tsa_model.py:215: ValueWarning: An unsupported index was provided and will be ignored when e.g. forecasting.\n",
            "  ' ignored when e.g. forecasting.', ValueWarning)\n",
            "/usr/local/lib/python3.6/dist-packages/statsmodels/tsa/base/tsa_model.py:215: ValueWarning: An unsupported index was provided and will be ignored when e.g. forecasting.\n",
            "  ' ignored when e.g. forecasting.', ValueWarning)\n",
            "/usr/local/lib/python3.6/dist-packages/statsmodels/tsa/base/tsa_model.py:215: ValueWarning: An unsupported index was provided and will be ignored when e.g. forecasting.\n",
            "  ' ignored when e.g. forecasting.', ValueWarning)\n",
            "/usr/local/lib/python3.6/dist-packages/statsmodels/tsa/base/tsa_model.py:215: ValueWarning: An unsupported index was provided and will be ignored when e.g. forecasting.\n",
            "  ' ignored when e.g. forecasting.', ValueWarning)\n"
          ],
          "name": "stderr"
        },
        {
          "output_type": "stream",
          "text": [
            "4 2 1 -24614.747264049776\n"
          ],
          "name": "stdout"
        },
        {
          "output_type": "stream",
          "text": [
            "/usr/local/lib/python3.6/dist-packages/statsmodels/tsa/base/tsa_model.py:215: ValueWarning: An unsupported index was provided and will be ignored when e.g. forecasting.\n",
            "  ' ignored when e.g. forecasting.', ValueWarning)\n",
            "/usr/local/lib/python3.6/dist-packages/statsmodels/tsa/base/tsa_model.py:215: ValueWarning: An unsupported index was provided and will be ignored when e.g. forecasting.\n",
            "  ' ignored when e.g. forecasting.', ValueWarning)\n"
          ],
          "name": "stderr"
        },
        {
          "output_type": "stream",
          "text": [
            "4 2 2 -24664.43096857398\n"
          ],
          "name": "stdout"
        },
        {
          "output_type": "stream",
          "text": [
            "/usr/local/lib/python3.6/dist-packages/statsmodels/tsa/base/tsa_model.py:215: ValueWarning: An unsupported index was provided and will be ignored when e.g. forecasting.\n",
            "  ' ignored when e.g. forecasting.', ValueWarning)\n",
            "/usr/local/lib/python3.6/dist-packages/statsmodels/tsa/base/tsa_model.py:215: ValueWarning: An unsupported index was provided and will be ignored when e.g. forecasting.\n",
            "  ' ignored when e.g. forecasting.', ValueWarning)\n"
          ],
          "name": "stderr"
        },
        {
          "output_type": "stream",
          "text": [
            "4 2 3 -24890.726993135173\n"
          ],
          "name": "stdout"
        },
        {
          "output_type": "stream",
          "text": [
            "/usr/local/lib/python3.6/dist-packages/statsmodels/tsa/base/tsa_model.py:215: ValueWarning: An unsupported index was provided and will be ignored when e.g. forecasting.\n",
            "  ' ignored when e.g. forecasting.', ValueWarning)\n",
            "/usr/local/lib/python3.6/dist-packages/statsmodels/tsa/base/tsa_model.py:215: ValueWarning: An unsupported index was provided and will be ignored when e.g. forecasting.\n",
            "  ' ignored when e.g. forecasting.', ValueWarning)\n"
          ],
          "name": "stderr"
        },
        {
          "output_type": "stream",
          "text": [
            "4 2 4 -24692.19327195948\n"
          ],
          "name": "stdout"
        }
      ]
    },
    {
      "cell_type": "code",
      "metadata": {
        "id": "689CShUFrWqx",
        "colab_type": "code",
        "colab": {
          "base_uri": "https://localhost:8080/",
          "height": 1000
        },
        "outputId": "ad93f5d9-5665-4cea-b3de-6080be97bb6d"
      },
      "source": [
        "#ARIMA\n",
        "listLen=len(aicVal)\n",
        "ar=int(aicVal[listLen-1][0])\n",
        "d=int(aicVal[listLen-1][1])\n",
        "ma=int(aicVal[listLen-1][2])\n",
        "aic=int(aicVal[listLen-1][3])\n",
        "print(\"smallest aic val=%f, ar=%f, d=%f, ma=%f \" %(aic, ar, d, ma))\n",
        "\n",
        "from statsmodels.tsa.arima_model import ARIMA as ARIMAResults\n",
        "\n",
        "size = int(len(ts_log_diff) - number_of_test)\n",
        "train, test = ts_log_diff[0:size], ts_log_diff[size:len(ts_log_diff)]\n",
        "test = test.reset_index(drop = True)\n",
        "history = [x for x in train]\n",
        "predictions = list()\n",
        "for t in range(len(test)):\n",
        "    model = ARIMA(history, order=(ar,d,ma))\n",
        "    model_fit = model.fit(disp=0, maxlag=30, method='css', trend='nc')\n",
        "    output = model_fit.forecast()\n",
        "    yhat = output[0]\n",
        "    predictions.append(yhat)\n",
        "    obs = test[t]\n",
        "    print(\"Iteration :\",str(t+1))\n",
        "    history.append(obs)\n"
      ],
      "execution_count": 31,
      "outputs": [
        {
          "output_type": "stream",
          "text": [
            "smallest aic val=-25146.000000, ar=4.000000, d=1.000000, ma=4.000000 \n",
            "Iteration : 1\n"
          ],
          "name": "stdout"
        },
        {
          "output_type": "stream",
          "text": [
            "/usr/local/lib/python3.6/dist-packages/statsmodels/base/model.py:492: HessianInversionWarning: Inverting hessian failed, no bse or cov_params available\n",
            "  'available', HessianInversionWarning)\n"
          ],
          "name": "stderr"
        },
        {
          "output_type": "stream",
          "text": [
            "Iteration : 2\n",
            "Iteration : 3\n",
            "Iteration : 4\n",
            "Iteration : 5\n",
            "Iteration : 6\n",
            "Iteration : 7\n",
            "Iteration : 8\n"
          ],
          "name": "stdout"
        },
        {
          "output_type": "stream",
          "text": [
            "/usr/local/lib/python3.6/dist-packages/statsmodels/base/model.py:492: HessianInversionWarning: Inverting hessian failed, no bse or cov_params available\n",
            "  'available', HessianInversionWarning)\n",
            "/usr/local/lib/python3.6/dist-packages/statsmodels/base/model.py:512: ConvergenceWarning: Maximum Likelihood optimization failed to converge. Check mle_retvals\n",
            "  \"Check mle_retvals\", ConvergenceWarning)\n"
          ],
          "name": "stderr"
        },
        {
          "output_type": "stream",
          "text": [
            "Iteration : 9\n"
          ],
          "name": "stdout"
        },
        {
          "output_type": "stream",
          "text": [
            "/usr/local/lib/python3.6/dist-packages/statsmodels/base/model.py:492: HessianInversionWarning: Inverting hessian failed, no bse or cov_params available\n",
            "  'available', HessianInversionWarning)\n"
          ],
          "name": "stderr"
        },
        {
          "output_type": "stream",
          "text": [
            "Iteration : 10\n"
          ],
          "name": "stdout"
        },
        {
          "output_type": "stream",
          "text": [
            "/usr/local/lib/python3.6/dist-packages/statsmodels/tsa/tsatools.py:668: RuntimeWarning: overflow encountered in exp\n",
            "  newparams = ((1-np.exp(-params))/(1+np.exp(-params))).copy()\n",
            "/usr/local/lib/python3.6/dist-packages/statsmodels/tsa/tsatools.py:668: RuntimeWarning: invalid value encountered in true_divide\n",
            "  newparams = ((1-np.exp(-params))/(1+np.exp(-params))).copy()\n",
            "/usr/local/lib/python3.6/dist-packages/statsmodels/tsa/tsatools.py:669: RuntimeWarning: overflow encountered in exp\n",
            "  tmp = ((1-np.exp(-params))/(1+np.exp(-params))).copy()\n",
            "/usr/local/lib/python3.6/dist-packages/statsmodels/tsa/tsatools.py:669: RuntimeWarning: invalid value encountered in true_divide\n",
            "  tmp = ((1-np.exp(-params))/(1+np.exp(-params))).copy()\n",
            "/usr/local/lib/python3.6/dist-packages/statsmodels/base/model.py:492: HessianInversionWarning: Inverting hessian failed, no bse or cov_params available\n",
            "  'available', HessianInversionWarning)\n"
          ],
          "name": "stderr"
        },
        {
          "output_type": "stream",
          "text": [
            "Iteration : 11\n"
          ],
          "name": "stdout"
        },
        {
          "output_type": "stream",
          "text": [
            "/usr/local/lib/python3.6/dist-packages/statsmodels/base/model.py:492: HessianInversionWarning: Inverting hessian failed, no bse or cov_params available\n",
            "  'available', HessianInversionWarning)\n"
          ],
          "name": "stderr"
        },
        {
          "output_type": "stream",
          "text": [
            "Iteration : 12\n",
            "Iteration : 13\n",
            "Iteration : 14\n",
            "Iteration : 15\n",
            "Iteration : 16\n",
            "Iteration : 17\n",
            "Iteration : 18\n",
            "Iteration : 19\n",
            "Iteration : 20\n",
            "Iteration : 21\n",
            "Iteration : 22\n",
            "Iteration : 23\n",
            "Iteration : 24\n",
            "Iteration : 25\n",
            "Iteration : 26\n"
          ],
          "name": "stdout"
        },
        {
          "output_type": "stream",
          "text": [
            "/usr/local/lib/python3.6/dist-packages/statsmodels/base/model.py:492: HessianInversionWarning: Inverting hessian failed, no bse or cov_params available\n",
            "  'available', HessianInversionWarning)\n"
          ],
          "name": "stderr"
        },
        {
          "output_type": "stream",
          "text": [
            "Iteration : 27\n"
          ],
          "name": "stdout"
        },
        {
          "output_type": "stream",
          "text": [
            "/usr/local/lib/python3.6/dist-packages/statsmodels/base/model.py:492: HessianInversionWarning: Inverting hessian failed, no bse or cov_params available\n",
            "  'available', HessianInversionWarning)\n"
          ],
          "name": "stderr"
        },
        {
          "output_type": "stream",
          "text": [
            "Iteration : 28\n"
          ],
          "name": "stdout"
        },
        {
          "output_type": "stream",
          "text": [
            "/usr/local/lib/python3.6/dist-packages/statsmodels/base/model.py:492: HessianInversionWarning: Inverting hessian failed, no bse or cov_params available\n",
            "  'available', HessianInversionWarning)\n"
          ],
          "name": "stderr"
        },
        {
          "output_type": "stream",
          "text": [
            "Iteration : 29\n"
          ],
          "name": "stdout"
        },
        {
          "output_type": "stream",
          "text": [
            "/usr/local/lib/python3.6/dist-packages/statsmodels/base/model.py:492: HessianInversionWarning: Inverting hessian failed, no bse or cov_params available\n",
            "  'available', HessianInversionWarning)\n"
          ],
          "name": "stderr"
        },
        {
          "output_type": "stream",
          "text": [
            "Iteration : 30\n"
          ],
          "name": "stdout"
        },
        {
          "output_type": "stream",
          "text": [
            "/usr/local/lib/python3.6/dist-packages/statsmodels/base/model.py:492: HessianInversionWarning: Inverting hessian failed, no bse or cov_params available\n",
            "  'available', HessianInversionWarning)\n"
          ],
          "name": "stderr"
        },
        {
          "output_type": "stream",
          "text": [
            "Iteration : 31\n"
          ],
          "name": "stdout"
        },
        {
          "output_type": "stream",
          "text": [
            "/usr/local/lib/python3.6/dist-packages/statsmodels/base/model.py:492: HessianInversionWarning: Inverting hessian failed, no bse or cov_params available\n",
            "  'available', HessianInversionWarning)\n"
          ],
          "name": "stderr"
        },
        {
          "output_type": "stream",
          "text": [
            "Iteration : 32\n"
          ],
          "name": "stdout"
        },
        {
          "output_type": "stream",
          "text": [
            "/usr/local/lib/python3.6/dist-packages/statsmodels/base/model.py:492: HessianInversionWarning: Inverting hessian failed, no bse or cov_params available\n",
            "  'available', HessianInversionWarning)\n"
          ],
          "name": "stderr"
        },
        {
          "output_type": "stream",
          "text": [
            "Iteration : 33\n"
          ],
          "name": "stdout"
        },
        {
          "output_type": "stream",
          "text": [
            "/usr/local/lib/python3.6/dist-packages/statsmodels/base/model.py:492: HessianInversionWarning: Inverting hessian failed, no bse or cov_params available\n",
            "  'available', HessianInversionWarning)\n"
          ],
          "name": "stderr"
        },
        {
          "output_type": "stream",
          "text": [
            "Iteration : 34\n"
          ],
          "name": "stdout"
        },
        {
          "output_type": "stream",
          "text": [
            "/usr/local/lib/python3.6/dist-packages/statsmodels/base/model.py:492: HessianInversionWarning: Inverting hessian failed, no bse or cov_params available\n",
            "  'available', HessianInversionWarning)\n"
          ],
          "name": "stderr"
        },
        {
          "output_type": "stream",
          "text": [
            "Iteration : 35\n"
          ],
          "name": "stdout"
        },
        {
          "output_type": "stream",
          "text": [
            "/usr/local/lib/python3.6/dist-packages/statsmodels/base/model.py:492: HessianInversionWarning: Inverting hessian failed, no bse or cov_params available\n",
            "  'available', HessianInversionWarning)\n"
          ],
          "name": "stderr"
        },
        {
          "output_type": "stream",
          "text": [
            "Iteration : 36\n",
            "Iteration : 37\n"
          ],
          "name": "stdout"
        },
        {
          "output_type": "stream",
          "text": [
            "/usr/local/lib/python3.6/dist-packages/statsmodels/base/model.py:492: HessianInversionWarning: Inverting hessian failed, no bse or cov_params available\n",
            "  'available', HessianInversionWarning)\n"
          ],
          "name": "stderr"
        },
        {
          "output_type": "stream",
          "text": [
            "Iteration : 38\n",
            "Iteration : 39\n",
            "Iteration : 40\n",
            "Iteration : 41\n",
            "Iteration : 42\n",
            "Iteration : 43\n"
          ],
          "name": "stdout"
        },
        {
          "output_type": "stream",
          "text": [
            "/usr/local/lib/python3.6/dist-packages/statsmodels/base/model.py:492: HessianInversionWarning: Inverting hessian failed, no bse or cov_params available\n",
            "  'available', HessianInversionWarning)\n"
          ],
          "name": "stderr"
        },
        {
          "output_type": "stream",
          "text": [
            "Iteration : 44\n"
          ],
          "name": "stdout"
        },
        {
          "output_type": "stream",
          "text": [
            "/usr/local/lib/python3.6/dist-packages/statsmodels/base/model.py:492: HessianInversionWarning: Inverting hessian failed, no bse or cov_params available\n",
            "  'available', HessianInversionWarning)\n"
          ],
          "name": "stderr"
        },
        {
          "output_type": "stream",
          "text": [
            "Iteration : 45\n"
          ],
          "name": "stdout"
        },
        {
          "output_type": "stream",
          "text": [
            "/usr/local/lib/python3.6/dist-packages/statsmodels/base/model.py:492: HessianInversionWarning: Inverting hessian failed, no bse or cov_params available\n",
            "  'available', HessianInversionWarning)\n"
          ],
          "name": "stderr"
        },
        {
          "output_type": "stream",
          "text": [
            "Iteration : 46\n"
          ],
          "name": "stdout"
        },
        {
          "output_type": "stream",
          "text": [
            "/usr/local/lib/python3.6/dist-packages/statsmodels/base/model.py:492: HessianInversionWarning: Inverting hessian failed, no bse or cov_params available\n",
            "  'available', HessianInversionWarning)\n"
          ],
          "name": "stderr"
        },
        {
          "output_type": "stream",
          "text": [
            "Iteration : 47\n"
          ],
          "name": "stdout"
        },
        {
          "output_type": "stream",
          "text": [
            "/usr/local/lib/python3.6/dist-packages/statsmodels/base/model.py:492: HessianInversionWarning: Inverting hessian failed, no bse or cov_params available\n",
            "  'available', HessianInversionWarning)\n"
          ],
          "name": "stderr"
        },
        {
          "output_type": "stream",
          "text": [
            "Iteration : 48\n"
          ],
          "name": "stdout"
        },
        {
          "output_type": "stream",
          "text": [
            "/usr/local/lib/python3.6/dist-packages/statsmodels/base/model.py:492: HessianInversionWarning: Inverting hessian failed, no bse or cov_params available\n",
            "  'available', HessianInversionWarning)\n",
            "/usr/local/lib/python3.6/dist-packages/statsmodels/base/model.py:512: ConvergenceWarning: Maximum Likelihood optimization failed to converge. Check mle_retvals\n",
            "  \"Check mle_retvals\", ConvergenceWarning)\n"
          ],
          "name": "stderr"
        },
        {
          "output_type": "stream",
          "text": [
            "Iteration : 49\n",
            "Iteration : 50\n",
            "Iteration : 51\n",
            "Iteration : 52\n",
            "Iteration : 53\n",
            "Iteration : 54\n",
            "Iteration : 55\n"
          ],
          "name": "stdout"
        },
        {
          "output_type": "stream",
          "text": [
            "/usr/local/lib/python3.6/dist-packages/statsmodels/base/model.py:492: HessianInversionWarning: Inverting hessian failed, no bse or cov_params available\n",
            "  'available', HessianInversionWarning)\n"
          ],
          "name": "stderr"
        },
        {
          "output_type": "stream",
          "text": [
            "Iteration : 56\n"
          ],
          "name": "stdout"
        },
        {
          "output_type": "stream",
          "text": [
            "/usr/local/lib/python3.6/dist-packages/statsmodels/base/model.py:492: HessianInversionWarning: Inverting hessian failed, no bse or cov_params available\n",
            "  'available', HessianInversionWarning)\n"
          ],
          "name": "stderr"
        },
        {
          "output_type": "stream",
          "text": [
            "Iteration : 57\n"
          ],
          "name": "stdout"
        },
        {
          "output_type": "stream",
          "text": [
            "/usr/local/lib/python3.6/dist-packages/statsmodels/base/model.py:492: HessianInversionWarning: Inverting hessian failed, no bse or cov_params available\n",
            "  'available', HessianInversionWarning)\n"
          ],
          "name": "stderr"
        },
        {
          "output_type": "stream",
          "text": [
            "Iteration : 58\n"
          ],
          "name": "stdout"
        },
        {
          "output_type": "stream",
          "text": [
            "/usr/local/lib/python3.6/dist-packages/statsmodels/base/model.py:492: HessianInversionWarning: Inverting hessian failed, no bse or cov_params available\n",
            "  'available', HessianInversionWarning)\n"
          ],
          "name": "stderr"
        },
        {
          "output_type": "stream",
          "text": [
            "Iteration : 59\n"
          ],
          "name": "stdout"
        },
        {
          "output_type": "stream",
          "text": [
            "/usr/local/lib/python3.6/dist-packages/statsmodels/base/model.py:492: HessianInversionWarning: Inverting hessian failed, no bse or cov_params available\n",
            "  'available', HessianInversionWarning)\n"
          ],
          "name": "stderr"
        },
        {
          "output_type": "stream",
          "text": [
            "Iteration : 60\n"
          ],
          "name": "stdout"
        },
        {
          "output_type": "stream",
          "text": [
            "/usr/local/lib/python3.6/dist-packages/statsmodels/base/model.py:492: HessianInversionWarning: Inverting hessian failed, no bse or cov_params available\n",
            "  'available', HessianInversionWarning)\n"
          ],
          "name": "stderr"
        },
        {
          "output_type": "stream",
          "text": [
            "Iteration : 61\n"
          ],
          "name": "stdout"
        },
        {
          "output_type": "stream",
          "text": [
            "/usr/local/lib/python3.6/dist-packages/statsmodels/base/model.py:492: HessianInversionWarning: Inverting hessian failed, no bse or cov_params available\n",
            "  'available', HessianInversionWarning)\n"
          ],
          "name": "stderr"
        },
        {
          "output_type": "stream",
          "text": [
            "Iteration : 62\n"
          ],
          "name": "stdout"
        },
        {
          "output_type": "stream",
          "text": [
            "/usr/local/lib/python3.6/dist-packages/statsmodels/base/model.py:492: HessianInversionWarning: Inverting hessian failed, no bse or cov_params available\n",
            "  'available', HessianInversionWarning)\n",
            "/usr/local/lib/python3.6/dist-packages/statsmodels/base/model.py:512: ConvergenceWarning: Maximum Likelihood optimization failed to converge. Check mle_retvals\n",
            "  \"Check mle_retvals\", ConvergenceWarning)\n"
          ],
          "name": "stderr"
        },
        {
          "output_type": "stream",
          "text": [
            "Iteration : 63\n"
          ],
          "name": "stdout"
        },
        {
          "output_type": "stream",
          "text": [
            "/usr/local/lib/python3.6/dist-packages/statsmodels/base/model.py:492: HessianInversionWarning: Inverting hessian failed, no bse or cov_params available\n",
            "  'available', HessianInversionWarning)\n"
          ],
          "name": "stderr"
        },
        {
          "output_type": "stream",
          "text": [
            "Iteration : 64\n"
          ],
          "name": "stdout"
        },
        {
          "output_type": "stream",
          "text": [
            "/usr/local/lib/python3.6/dist-packages/statsmodels/base/model.py:492: HessianInversionWarning: Inverting hessian failed, no bse or cov_params available\n",
            "  'available', HessianInversionWarning)\n"
          ],
          "name": "stderr"
        },
        {
          "output_type": "stream",
          "text": [
            "Iteration : 65\n"
          ],
          "name": "stdout"
        },
        {
          "output_type": "stream",
          "text": [
            "/usr/local/lib/python3.6/dist-packages/statsmodels/base/model.py:492: HessianInversionWarning: Inverting hessian failed, no bse or cov_params available\n",
            "  'available', HessianInversionWarning)\n"
          ],
          "name": "stderr"
        },
        {
          "output_type": "stream",
          "text": [
            "Iteration : 66\n"
          ],
          "name": "stdout"
        },
        {
          "output_type": "stream",
          "text": [
            "/usr/local/lib/python3.6/dist-packages/statsmodels/base/model.py:492: HessianInversionWarning: Inverting hessian failed, no bse or cov_params available\n",
            "  'available', HessianInversionWarning)\n"
          ],
          "name": "stderr"
        },
        {
          "output_type": "stream",
          "text": [
            "Iteration : 67\n"
          ],
          "name": "stdout"
        },
        {
          "output_type": "stream",
          "text": [
            "/usr/local/lib/python3.6/dist-packages/statsmodels/base/model.py:492: HessianInversionWarning: Inverting hessian failed, no bse or cov_params available\n",
            "  'available', HessianInversionWarning)\n"
          ],
          "name": "stderr"
        },
        {
          "output_type": "stream",
          "text": [
            "Iteration : 68\n"
          ],
          "name": "stdout"
        },
        {
          "output_type": "stream",
          "text": [
            "/usr/local/lib/python3.6/dist-packages/statsmodels/base/model.py:492: HessianInversionWarning: Inverting hessian failed, no bse or cov_params available\n",
            "  'available', HessianInversionWarning)\n"
          ],
          "name": "stderr"
        },
        {
          "output_type": "stream",
          "text": [
            "Iteration : 69\n"
          ],
          "name": "stdout"
        },
        {
          "output_type": "stream",
          "text": [
            "/usr/local/lib/python3.6/dist-packages/statsmodels/base/model.py:492: HessianInversionWarning: Inverting hessian failed, no bse or cov_params available\n",
            "  'available', HessianInversionWarning)\n"
          ],
          "name": "stderr"
        },
        {
          "output_type": "stream",
          "text": [
            "Iteration : 70\n"
          ],
          "name": "stdout"
        },
        {
          "output_type": "stream",
          "text": [
            "/usr/local/lib/python3.6/dist-packages/statsmodels/base/model.py:492: HessianInversionWarning: Inverting hessian failed, no bse or cov_params available\n",
            "  'available', HessianInversionWarning)\n"
          ],
          "name": "stderr"
        },
        {
          "output_type": "stream",
          "text": [
            "Iteration : 71\n"
          ],
          "name": "stdout"
        },
        {
          "output_type": "stream",
          "text": [
            "/usr/local/lib/python3.6/dist-packages/statsmodels/base/model.py:492: HessianInversionWarning: Inverting hessian failed, no bse or cov_params available\n",
            "  'available', HessianInversionWarning)\n"
          ],
          "name": "stderr"
        },
        {
          "output_type": "stream",
          "text": [
            "Iteration : 72\n"
          ],
          "name": "stdout"
        },
        {
          "output_type": "stream",
          "text": [
            "/usr/local/lib/python3.6/dist-packages/statsmodels/base/model.py:492: HessianInversionWarning: Inverting hessian failed, no bse or cov_params available\n",
            "  'available', HessianInversionWarning)\n"
          ],
          "name": "stderr"
        },
        {
          "output_type": "stream",
          "text": [
            "Iteration : 73\n"
          ],
          "name": "stdout"
        },
        {
          "output_type": "stream",
          "text": [
            "/usr/local/lib/python3.6/dist-packages/statsmodels/base/model.py:492: HessianInversionWarning: Inverting hessian failed, no bse or cov_params available\n",
            "  'available', HessianInversionWarning)\n"
          ],
          "name": "stderr"
        },
        {
          "output_type": "stream",
          "text": [
            "Iteration : 74\n"
          ],
          "name": "stdout"
        },
        {
          "output_type": "stream",
          "text": [
            "/usr/local/lib/python3.6/dist-packages/statsmodels/base/model.py:492: HessianInversionWarning: Inverting hessian failed, no bse or cov_params available\n",
            "  'available', HessianInversionWarning)\n"
          ],
          "name": "stderr"
        },
        {
          "output_type": "stream",
          "text": [
            "Iteration : 75\n"
          ],
          "name": "stdout"
        },
        {
          "output_type": "stream",
          "text": [
            "/usr/local/lib/python3.6/dist-packages/statsmodels/base/model.py:492: HessianInversionWarning: Inverting hessian failed, no bse or cov_params available\n",
            "  'available', HessianInversionWarning)\n"
          ],
          "name": "stderr"
        },
        {
          "output_type": "stream",
          "text": [
            "Iteration : 76\n"
          ],
          "name": "stdout"
        },
        {
          "output_type": "stream",
          "text": [
            "/usr/local/lib/python3.6/dist-packages/statsmodels/base/model.py:492: HessianInversionWarning: Inverting hessian failed, no bse or cov_params available\n",
            "  'available', HessianInversionWarning)\n"
          ],
          "name": "stderr"
        },
        {
          "output_type": "stream",
          "text": [
            "Iteration : 77\n"
          ],
          "name": "stdout"
        },
        {
          "output_type": "stream",
          "text": [
            "/usr/local/lib/python3.6/dist-packages/statsmodels/base/model.py:492: HessianInversionWarning: Inverting hessian failed, no bse or cov_params available\n",
            "  'available', HessianInversionWarning)\n",
            "/usr/local/lib/python3.6/dist-packages/statsmodels/base/model.py:512: ConvergenceWarning: Maximum Likelihood optimization failed to converge. Check mle_retvals\n",
            "  \"Check mle_retvals\", ConvergenceWarning)\n"
          ],
          "name": "stderr"
        },
        {
          "output_type": "stream",
          "text": [
            "Iteration : 78\n"
          ],
          "name": "stdout"
        },
        {
          "output_type": "stream",
          "text": [
            "/usr/local/lib/python3.6/dist-packages/statsmodels/base/model.py:492: HessianInversionWarning: Inverting hessian failed, no bse or cov_params available\n",
            "  'available', HessianInversionWarning)\n"
          ],
          "name": "stderr"
        },
        {
          "output_type": "stream",
          "text": [
            "Iteration : 79\n"
          ],
          "name": "stdout"
        },
        {
          "output_type": "stream",
          "text": [
            "/usr/local/lib/python3.6/dist-packages/statsmodels/base/model.py:492: HessianInversionWarning: Inverting hessian failed, no bse or cov_params available\n",
            "  'available', HessianInversionWarning)\n"
          ],
          "name": "stderr"
        },
        {
          "output_type": "stream",
          "text": [
            "Iteration : 80\n"
          ],
          "name": "stdout"
        },
        {
          "output_type": "stream",
          "text": [
            "/usr/local/lib/python3.6/dist-packages/statsmodels/base/model.py:492: HessianInversionWarning: Inverting hessian failed, no bse or cov_params available\n",
            "  'available', HessianInversionWarning)\n"
          ],
          "name": "stderr"
        },
        {
          "output_type": "stream",
          "text": [
            "Iteration : 81\n"
          ],
          "name": "stdout"
        },
        {
          "output_type": "stream",
          "text": [
            "/usr/local/lib/python3.6/dist-packages/statsmodels/base/model.py:492: HessianInversionWarning: Inverting hessian failed, no bse or cov_params available\n",
            "  'available', HessianInversionWarning)\n"
          ],
          "name": "stderr"
        },
        {
          "output_type": "stream",
          "text": [
            "Iteration : 82\n"
          ],
          "name": "stdout"
        },
        {
          "output_type": "stream",
          "text": [
            "/usr/local/lib/python3.6/dist-packages/statsmodels/base/model.py:492: HessianInversionWarning: Inverting hessian failed, no bse or cov_params available\n",
            "  'available', HessianInversionWarning)\n"
          ],
          "name": "stderr"
        },
        {
          "output_type": "stream",
          "text": [
            "Iteration : 83\n"
          ],
          "name": "stdout"
        },
        {
          "output_type": "stream",
          "text": [
            "/usr/local/lib/python3.6/dist-packages/statsmodels/base/model.py:492: HessianInversionWarning: Inverting hessian failed, no bse or cov_params available\n",
            "  'available', HessianInversionWarning)\n"
          ],
          "name": "stderr"
        },
        {
          "output_type": "stream",
          "text": [
            "Iteration : 84\n",
            "Iteration : 85\n"
          ],
          "name": "stdout"
        },
        {
          "output_type": "stream",
          "text": [
            "/usr/local/lib/python3.6/dist-packages/statsmodels/base/model.py:492: HessianInversionWarning: Inverting hessian failed, no bse or cov_params available\n",
            "  'available', HessianInversionWarning)\n"
          ],
          "name": "stderr"
        },
        {
          "output_type": "stream",
          "text": [
            "Iteration : 86\n"
          ],
          "name": "stdout"
        },
        {
          "output_type": "stream",
          "text": [
            "/usr/local/lib/python3.6/dist-packages/statsmodels/base/model.py:492: HessianInversionWarning: Inverting hessian failed, no bse or cov_params available\n",
            "  'available', HessianInversionWarning)\n"
          ],
          "name": "stderr"
        },
        {
          "output_type": "stream",
          "text": [
            "Iteration : 87\n"
          ],
          "name": "stdout"
        },
        {
          "output_type": "stream",
          "text": [
            "/usr/local/lib/python3.6/dist-packages/statsmodels/base/model.py:492: HessianInversionWarning: Inverting hessian failed, no bse or cov_params available\n",
            "  'available', HessianInversionWarning)\n"
          ],
          "name": "stderr"
        },
        {
          "output_type": "stream",
          "text": [
            "Iteration : 88\n"
          ],
          "name": "stdout"
        },
        {
          "output_type": "stream",
          "text": [
            "/usr/local/lib/python3.6/dist-packages/statsmodels/base/model.py:492: HessianInversionWarning: Inverting hessian failed, no bse or cov_params available\n",
            "  'available', HessianInversionWarning)\n"
          ],
          "name": "stderr"
        },
        {
          "output_type": "stream",
          "text": [
            "Iteration : 89\n"
          ],
          "name": "stdout"
        },
        {
          "output_type": "stream",
          "text": [
            "/usr/local/lib/python3.6/dist-packages/statsmodels/base/model.py:492: HessianInversionWarning: Inverting hessian failed, no bse or cov_params available\n",
            "  'available', HessianInversionWarning)\n"
          ],
          "name": "stderr"
        },
        {
          "output_type": "stream",
          "text": [
            "Iteration : 90\n"
          ],
          "name": "stdout"
        },
        {
          "output_type": "stream",
          "text": [
            "/usr/local/lib/python3.6/dist-packages/statsmodels/base/model.py:492: HessianInversionWarning: Inverting hessian failed, no bse or cov_params available\n",
            "  'available', HessianInversionWarning)\n"
          ],
          "name": "stderr"
        },
        {
          "output_type": "stream",
          "text": [
            "Iteration : 91\n"
          ],
          "name": "stdout"
        },
        {
          "output_type": "stream",
          "text": [
            "/usr/local/lib/python3.6/dist-packages/statsmodels/base/model.py:492: HessianInversionWarning: Inverting hessian failed, no bse or cov_params available\n",
            "  'available', HessianInversionWarning)\n"
          ],
          "name": "stderr"
        },
        {
          "output_type": "stream",
          "text": [
            "Iteration : 92\n"
          ],
          "name": "stdout"
        },
        {
          "output_type": "stream",
          "text": [
            "/usr/local/lib/python3.6/dist-packages/statsmodels/base/model.py:492: HessianInversionWarning: Inverting hessian failed, no bse or cov_params available\n",
            "  'available', HessianInversionWarning)\n"
          ],
          "name": "stderr"
        },
        {
          "output_type": "stream",
          "text": [
            "Iteration : 93\n"
          ],
          "name": "stdout"
        },
        {
          "output_type": "stream",
          "text": [
            "/usr/local/lib/python3.6/dist-packages/statsmodels/base/model.py:492: HessianInversionWarning: Inverting hessian failed, no bse or cov_params available\n",
            "  'available', HessianInversionWarning)\n"
          ],
          "name": "stderr"
        },
        {
          "output_type": "stream",
          "text": [
            "Iteration : 94\n"
          ],
          "name": "stdout"
        },
        {
          "output_type": "stream",
          "text": [
            "/usr/local/lib/python3.6/dist-packages/statsmodels/base/model.py:492: HessianInversionWarning: Inverting hessian failed, no bse or cov_params available\n",
            "  'available', HessianInversionWarning)\n"
          ],
          "name": "stderr"
        },
        {
          "output_type": "stream",
          "text": [
            "Iteration : 95\n"
          ],
          "name": "stdout"
        },
        {
          "output_type": "stream",
          "text": [
            "/usr/local/lib/python3.6/dist-packages/statsmodels/base/model.py:492: HessianInversionWarning: Inverting hessian failed, no bse or cov_params available\n",
            "  'available', HessianInversionWarning)\n"
          ],
          "name": "stderr"
        },
        {
          "output_type": "stream",
          "text": [
            "Iteration : 96\n"
          ],
          "name": "stdout"
        },
        {
          "output_type": "stream",
          "text": [
            "/usr/local/lib/python3.6/dist-packages/statsmodels/base/model.py:492: HessianInversionWarning: Inverting hessian failed, no bse or cov_params available\n",
            "  'available', HessianInversionWarning)\n"
          ],
          "name": "stderr"
        },
        {
          "output_type": "stream",
          "text": [
            "Iteration : 97\n"
          ],
          "name": "stdout"
        },
        {
          "output_type": "stream",
          "text": [
            "/usr/local/lib/python3.6/dist-packages/statsmodels/base/model.py:492: HessianInversionWarning: Inverting hessian failed, no bse or cov_params available\n",
            "  'available', HessianInversionWarning)\n"
          ],
          "name": "stderr"
        },
        {
          "output_type": "stream",
          "text": [
            "Iteration : 98\n"
          ],
          "name": "stdout"
        },
        {
          "output_type": "stream",
          "text": [
            "/usr/local/lib/python3.6/dist-packages/statsmodels/base/model.py:492: HessianInversionWarning: Inverting hessian failed, no bse or cov_params available\n",
            "  'available', HessianInversionWarning)\n"
          ],
          "name": "stderr"
        },
        {
          "output_type": "stream",
          "text": [
            "Iteration : 99\n"
          ],
          "name": "stdout"
        },
        {
          "output_type": "stream",
          "text": [
            "/usr/local/lib/python3.6/dist-packages/statsmodels/base/model.py:492: HessianInversionWarning: Inverting hessian failed, no bse or cov_params available\n",
            "  'available', HessianInversionWarning)\n"
          ],
          "name": "stderr"
        },
        {
          "output_type": "stream",
          "text": [
            "Iteration : 100\n"
          ],
          "name": "stdout"
        },
        {
          "output_type": "stream",
          "text": [
            "/usr/local/lib/python3.6/dist-packages/statsmodels/base/model.py:492: HessianInversionWarning: Inverting hessian failed, no bse or cov_params available\n",
            "  'available', HessianInversionWarning)\n"
          ],
          "name": "stderr"
        },
        {
          "output_type": "stream",
          "text": [
            "Iteration : 101\n"
          ],
          "name": "stdout"
        },
        {
          "output_type": "stream",
          "text": [
            "/usr/local/lib/python3.6/dist-packages/statsmodels/base/model.py:492: HessianInversionWarning: Inverting hessian failed, no bse or cov_params available\n",
            "  'available', HessianInversionWarning)\n"
          ],
          "name": "stderr"
        },
        {
          "output_type": "stream",
          "text": [
            "Iteration : 102\n"
          ],
          "name": "stdout"
        },
        {
          "output_type": "stream",
          "text": [
            "/usr/local/lib/python3.6/dist-packages/statsmodels/base/model.py:492: HessianInversionWarning: Inverting hessian failed, no bse or cov_params available\n",
            "  'available', HessianInversionWarning)\n"
          ],
          "name": "stderr"
        },
        {
          "output_type": "stream",
          "text": [
            "Iteration : 103\n"
          ],
          "name": "stdout"
        },
        {
          "output_type": "stream",
          "text": [
            "/usr/local/lib/python3.6/dist-packages/statsmodels/base/model.py:492: HessianInversionWarning: Inverting hessian failed, no bse or cov_params available\n",
            "  'available', HessianInversionWarning)\n"
          ],
          "name": "stderr"
        },
        {
          "output_type": "stream",
          "text": [
            "Iteration : 104\n"
          ],
          "name": "stdout"
        },
        {
          "output_type": "stream",
          "text": [
            "/usr/local/lib/python3.6/dist-packages/statsmodels/base/model.py:492: HessianInversionWarning: Inverting hessian failed, no bse or cov_params available\n",
            "  'available', HessianInversionWarning)\n"
          ],
          "name": "stderr"
        },
        {
          "output_type": "stream",
          "text": [
            "Iteration : 105\n"
          ],
          "name": "stdout"
        },
        {
          "output_type": "stream",
          "text": [
            "/usr/local/lib/python3.6/dist-packages/statsmodels/base/model.py:492: HessianInversionWarning: Inverting hessian failed, no bse or cov_params available\n",
            "  'available', HessianInversionWarning)\n"
          ],
          "name": "stderr"
        },
        {
          "output_type": "stream",
          "text": [
            "Iteration : 106\n"
          ],
          "name": "stdout"
        },
        {
          "output_type": "stream",
          "text": [
            "/usr/local/lib/python3.6/dist-packages/statsmodels/base/model.py:492: HessianInversionWarning: Inverting hessian failed, no bse or cov_params available\n",
            "  'available', HessianInversionWarning)\n"
          ],
          "name": "stderr"
        },
        {
          "output_type": "stream",
          "text": [
            "Iteration : 107\n"
          ],
          "name": "stdout"
        },
        {
          "output_type": "stream",
          "text": [
            "/usr/local/lib/python3.6/dist-packages/statsmodels/base/model.py:492: HessianInversionWarning: Inverting hessian failed, no bse or cov_params available\n",
            "  'available', HessianInversionWarning)\n"
          ],
          "name": "stderr"
        },
        {
          "output_type": "stream",
          "text": [
            "Iteration : 108\n"
          ],
          "name": "stdout"
        },
        {
          "output_type": "stream",
          "text": [
            "/usr/local/lib/python3.6/dist-packages/statsmodels/base/model.py:492: HessianInversionWarning: Inverting hessian failed, no bse or cov_params available\n",
            "  'available', HessianInversionWarning)\n",
            "/usr/local/lib/python3.6/dist-packages/statsmodels/base/model.py:512: ConvergenceWarning: Maximum Likelihood optimization failed to converge. Check mle_retvals\n",
            "  \"Check mle_retvals\", ConvergenceWarning)\n"
          ],
          "name": "stderr"
        },
        {
          "output_type": "stream",
          "text": [
            "Iteration : 109\n"
          ],
          "name": "stdout"
        },
        {
          "output_type": "stream",
          "text": [
            "/usr/local/lib/python3.6/dist-packages/statsmodels/base/model.py:492: HessianInversionWarning: Inverting hessian failed, no bse or cov_params available\n",
            "  'available', HessianInversionWarning)\n"
          ],
          "name": "stderr"
        },
        {
          "output_type": "stream",
          "text": [
            "Iteration : 110\n"
          ],
          "name": "stdout"
        },
        {
          "output_type": "stream",
          "text": [
            "/usr/local/lib/python3.6/dist-packages/statsmodels/base/model.py:492: HessianInversionWarning: Inverting hessian failed, no bse or cov_params available\n",
            "  'available', HessianInversionWarning)\n"
          ],
          "name": "stderr"
        },
        {
          "output_type": "stream",
          "text": [
            "Iteration : 111\n"
          ],
          "name": "stdout"
        },
        {
          "output_type": "stream",
          "text": [
            "/usr/local/lib/python3.6/dist-packages/statsmodels/base/model.py:492: HessianInversionWarning: Inverting hessian failed, no bse or cov_params available\n",
            "  'available', HessianInversionWarning)\n"
          ],
          "name": "stderr"
        },
        {
          "output_type": "stream",
          "text": [
            "Iteration : 112\n",
            "Iteration : 113\n"
          ],
          "name": "stdout"
        },
        {
          "output_type": "stream",
          "text": [
            "/usr/local/lib/python3.6/dist-packages/statsmodels/base/model.py:492: HessianInversionWarning: Inverting hessian failed, no bse or cov_params available\n",
            "  'available', HessianInversionWarning)\n"
          ],
          "name": "stderr"
        },
        {
          "output_type": "stream",
          "text": [
            "Iteration : 114\n"
          ],
          "name": "stdout"
        },
        {
          "output_type": "stream",
          "text": [
            "/usr/local/lib/python3.6/dist-packages/statsmodels/base/model.py:492: HessianInversionWarning: Inverting hessian failed, no bse or cov_params available\n",
            "  'available', HessianInversionWarning)\n"
          ],
          "name": "stderr"
        },
        {
          "output_type": "stream",
          "text": [
            "Iteration : 115\n"
          ],
          "name": "stdout"
        },
        {
          "output_type": "stream",
          "text": [
            "/usr/local/lib/python3.6/dist-packages/statsmodels/base/model.py:492: HessianInversionWarning: Inverting hessian failed, no bse or cov_params available\n",
            "  'available', HessianInversionWarning)\n"
          ],
          "name": "stderr"
        },
        {
          "output_type": "stream",
          "text": [
            "Iteration : 116\n"
          ],
          "name": "stdout"
        },
        {
          "output_type": "stream",
          "text": [
            "/usr/local/lib/python3.6/dist-packages/statsmodels/base/model.py:492: HessianInversionWarning: Inverting hessian failed, no bse or cov_params available\n",
            "  'available', HessianInversionWarning)\n"
          ],
          "name": "stderr"
        },
        {
          "output_type": "stream",
          "text": [
            "Iteration : 117\n"
          ],
          "name": "stdout"
        },
        {
          "output_type": "stream",
          "text": [
            "/usr/local/lib/python3.6/dist-packages/statsmodels/base/model.py:492: HessianInversionWarning: Inverting hessian failed, no bse or cov_params available\n",
            "  'available', HessianInversionWarning)\n"
          ],
          "name": "stderr"
        },
        {
          "output_type": "stream",
          "text": [
            "Iteration : 118\n"
          ],
          "name": "stdout"
        },
        {
          "output_type": "stream",
          "text": [
            "/usr/local/lib/python3.6/dist-packages/statsmodels/base/model.py:492: HessianInversionWarning: Inverting hessian failed, no bse or cov_params available\n",
            "  'available', HessianInversionWarning)\n"
          ],
          "name": "stderr"
        },
        {
          "output_type": "stream",
          "text": [
            "Iteration : 119\n"
          ],
          "name": "stdout"
        },
        {
          "output_type": "stream",
          "text": [
            "/usr/local/lib/python3.6/dist-packages/statsmodels/base/model.py:492: HessianInversionWarning: Inverting hessian failed, no bse or cov_params available\n",
            "  'available', HessianInversionWarning)\n"
          ],
          "name": "stderr"
        },
        {
          "output_type": "stream",
          "text": [
            "Iteration : 120\n"
          ],
          "name": "stdout"
        },
        {
          "output_type": "stream",
          "text": [
            "/usr/local/lib/python3.6/dist-packages/statsmodels/base/model.py:492: HessianInversionWarning: Inverting hessian failed, no bse or cov_params available\n",
            "  'available', HessianInversionWarning)\n"
          ],
          "name": "stderr"
        },
        {
          "output_type": "stream",
          "text": [
            "Iteration : 121\n"
          ],
          "name": "stdout"
        },
        {
          "output_type": "stream",
          "text": [
            "/usr/local/lib/python3.6/dist-packages/statsmodels/base/model.py:492: HessianInversionWarning: Inverting hessian failed, no bse or cov_params available\n",
            "  'available', HessianInversionWarning)\n"
          ],
          "name": "stderr"
        },
        {
          "output_type": "stream",
          "text": [
            "Iteration : 122\n",
            "Iteration : 123\n"
          ],
          "name": "stdout"
        },
        {
          "output_type": "stream",
          "text": [
            "/usr/local/lib/python3.6/dist-packages/statsmodels/base/model.py:492: HessianInversionWarning: Inverting hessian failed, no bse or cov_params available\n",
            "  'available', HessianInversionWarning)\n"
          ],
          "name": "stderr"
        },
        {
          "output_type": "stream",
          "text": [
            "Iteration : 124\n"
          ],
          "name": "stdout"
        },
        {
          "output_type": "stream",
          "text": [
            "/usr/local/lib/python3.6/dist-packages/statsmodels/base/model.py:492: HessianInversionWarning: Inverting hessian failed, no bse or cov_params available\n",
            "  'available', HessianInversionWarning)\n"
          ],
          "name": "stderr"
        },
        {
          "output_type": "stream",
          "text": [
            "Iteration : 125\n"
          ],
          "name": "stdout"
        },
        {
          "output_type": "stream",
          "text": [
            "/usr/local/lib/python3.6/dist-packages/statsmodels/base/model.py:492: HessianInversionWarning: Inverting hessian failed, no bse or cov_params available\n",
            "  'available', HessianInversionWarning)\n"
          ],
          "name": "stderr"
        },
        {
          "output_type": "stream",
          "text": [
            "Iteration : 126\n"
          ],
          "name": "stdout"
        },
        {
          "output_type": "stream",
          "text": [
            "/usr/local/lib/python3.6/dist-packages/statsmodels/base/model.py:492: HessianInversionWarning: Inverting hessian failed, no bse or cov_params available\n",
            "  'available', HessianInversionWarning)\n"
          ],
          "name": "stderr"
        },
        {
          "output_type": "stream",
          "text": [
            "Iteration : 127\n",
            "Iteration : 128\n",
            "Iteration : 129\n"
          ],
          "name": "stdout"
        },
        {
          "output_type": "stream",
          "text": [
            "/usr/local/lib/python3.6/dist-packages/statsmodels/base/model.py:492: HessianInversionWarning: Inverting hessian failed, no bse or cov_params available\n",
            "  'available', HessianInversionWarning)\n"
          ],
          "name": "stderr"
        },
        {
          "output_type": "stream",
          "text": [
            "Iteration : 130\n"
          ],
          "name": "stdout"
        },
        {
          "output_type": "stream",
          "text": [
            "/usr/local/lib/python3.6/dist-packages/statsmodels/base/model.py:492: HessianInversionWarning: Inverting hessian failed, no bse or cov_params available\n",
            "  'available', HessianInversionWarning)\n"
          ],
          "name": "stderr"
        },
        {
          "output_type": "stream",
          "text": [
            "Iteration : 131\n",
            "Iteration : 132\n",
            "Iteration : 133\n",
            "Iteration : 134\n"
          ],
          "name": "stdout"
        },
        {
          "output_type": "stream",
          "text": [
            "/usr/local/lib/python3.6/dist-packages/statsmodels/base/model.py:492: HessianInversionWarning: Inverting hessian failed, no bse or cov_params available\n",
            "  'available', HessianInversionWarning)\n"
          ],
          "name": "stderr"
        },
        {
          "output_type": "stream",
          "text": [
            "Iteration : 135\n"
          ],
          "name": "stdout"
        },
        {
          "output_type": "stream",
          "text": [
            "/usr/local/lib/python3.6/dist-packages/statsmodels/base/model.py:492: HessianInversionWarning: Inverting hessian failed, no bse or cov_params available\n",
            "  'available', HessianInversionWarning)\n"
          ],
          "name": "stderr"
        },
        {
          "output_type": "stream",
          "text": [
            "Iteration : 136\n",
            "Iteration : 137\n",
            "Iteration : 138\n",
            "Iteration : 139\n",
            "Iteration : 140\n",
            "Iteration : 141\n",
            "Iteration : 142\n",
            "Iteration : 143\n",
            "Iteration : 144\n",
            "Iteration : 145\n",
            "Iteration : 146\n",
            "Iteration : 147\n",
            "Iteration : 148\n",
            "Iteration : 149\n",
            "Iteration : 150\n",
            "Iteration : 151\n"
          ],
          "name": "stdout"
        },
        {
          "output_type": "stream",
          "text": [
            "/usr/local/lib/python3.6/dist-packages/statsmodels/base/model.py:492: HessianInversionWarning: Inverting hessian failed, no bse or cov_params available\n",
            "  'available', HessianInversionWarning)\n"
          ],
          "name": "stderr"
        },
        {
          "output_type": "stream",
          "text": [
            "Iteration : 152\n",
            "Iteration : 153\n",
            "Iteration : 154\n",
            "Iteration : 155\n",
            "Iteration : 156\n",
            "Iteration : 157\n",
            "Iteration : 158\n",
            "Iteration : 159\n",
            "Iteration : 160\n"
          ],
          "name": "stdout"
        },
        {
          "output_type": "stream",
          "text": [
            "/usr/local/lib/python3.6/dist-packages/statsmodels/base/model.py:492: HessianInversionWarning: Inverting hessian failed, no bse or cov_params available\n",
            "  'available', HessianInversionWarning)\n"
          ],
          "name": "stderr"
        },
        {
          "output_type": "stream",
          "text": [
            "Iteration : 161\n"
          ],
          "name": "stdout"
        },
        {
          "output_type": "stream",
          "text": [
            "/usr/local/lib/python3.6/dist-packages/statsmodels/base/model.py:492: HessianInversionWarning: Inverting hessian failed, no bse or cov_params available\n",
            "  'available', HessianInversionWarning)\n"
          ],
          "name": "stderr"
        },
        {
          "output_type": "stream",
          "text": [
            "Iteration : 162\n"
          ],
          "name": "stdout"
        },
        {
          "output_type": "stream",
          "text": [
            "/usr/local/lib/python3.6/dist-packages/statsmodels/base/model.py:492: HessianInversionWarning: Inverting hessian failed, no bse or cov_params available\n",
            "  'available', HessianInversionWarning)\n"
          ],
          "name": "stderr"
        },
        {
          "output_type": "stream",
          "text": [
            "Iteration : 163\n",
            "Iteration : 164\n",
            "Iteration : 165\n",
            "Iteration : 166\n",
            "Iteration : 167\n",
            "Iteration : 168\n"
          ],
          "name": "stdout"
        },
        {
          "output_type": "stream",
          "text": [
            "/usr/local/lib/python3.6/dist-packages/statsmodels/base/model.py:492: HessianInversionWarning: Inverting hessian failed, no bse or cov_params available\n",
            "  'available', HessianInversionWarning)\n"
          ],
          "name": "stderr"
        },
        {
          "output_type": "stream",
          "text": [
            "Iteration : 169\n",
            "Iteration : 170\n",
            "Iteration : 171\n",
            "Iteration : 172\n",
            "Iteration : 173\n"
          ],
          "name": "stdout"
        },
        {
          "output_type": "stream",
          "text": [
            "/usr/local/lib/python3.6/dist-packages/statsmodels/base/model.py:492: HessianInversionWarning: Inverting hessian failed, no bse or cov_params available\n",
            "  'available', HessianInversionWarning)\n"
          ],
          "name": "stderr"
        },
        {
          "output_type": "stream",
          "text": [
            "Iteration : 174\n"
          ],
          "name": "stdout"
        },
        {
          "output_type": "stream",
          "text": [
            "/usr/local/lib/python3.6/dist-packages/statsmodels/base/model.py:492: HessianInversionWarning: Inverting hessian failed, no bse or cov_params available\n",
            "  'available', HessianInversionWarning)\n"
          ],
          "name": "stderr"
        },
        {
          "output_type": "stream",
          "text": [
            "Iteration : 175\n",
            "Iteration : 176\n",
            "Iteration : 177\n",
            "Iteration : 178\n",
            "Iteration : 179\n",
            "Iteration : 180\n",
            "Iteration : 181\n",
            "Iteration : 182\n"
          ],
          "name": "stdout"
        },
        {
          "output_type": "stream",
          "text": [
            "/usr/local/lib/python3.6/dist-packages/statsmodels/base/model.py:492: HessianInversionWarning: Inverting hessian failed, no bse or cov_params available\n",
            "  'available', HessianInversionWarning)\n"
          ],
          "name": "stderr"
        },
        {
          "output_type": "stream",
          "text": [
            "Iteration : 183\n",
            "Iteration : 184\n",
            "Iteration : 185\n",
            "Iteration : 186\n",
            "Iteration : 187\n",
            "Iteration : 188\n",
            "Iteration : 189\n",
            "Iteration : 190\n"
          ],
          "name": "stdout"
        },
        {
          "output_type": "stream",
          "text": [
            "/usr/local/lib/python3.6/dist-packages/statsmodels/base/model.py:492: HessianInversionWarning: Inverting hessian failed, no bse or cov_params available\n",
            "  'available', HessianInversionWarning)\n"
          ],
          "name": "stderr"
        },
        {
          "output_type": "stream",
          "text": [
            "Iteration : 191\n",
            "Iteration : 192\n",
            "Iteration : 193\n",
            "Iteration : 194\n",
            "Iteration : 195\n",
            "Iteration : 196\n",
            "Iteration : 197\n",
            "Iteration : 198\n",
            "Iteration : 199\n"
          ],
          "name": "stdout"
        },
        {
          "output_type": "stream",
          "text": [
            "/usr/local/lib/python3.6/dist-packages/statsmodels/base/model.py:492: HessianInversionWarning: Inverting hessian failed, no bse or cov_params available\n",
            "  'available', HessianInversionWarning)\n"
          ],
          "name": "stderr"
        },
        {
          "output_type": "stream",
          "text": [
            "Iteration : 200\n",
            "Iteration : 201\n",
            "Iteration : 202\n",
            "Iteration : 203\n",
            "Iteration : 204\n",
            "Iteration : 205\n",
            "Iteration : 206\n",
            "Iteration : 207\n",
            "Iteration : 208\n",
            "Iteration : 209\n",
            "Iteration : 210\n",
            "Iteration : 211\n",
            "Iteration : 212\n"
          ],
          "name": "stdout"
        },
        {
          "output_type": "stream",
          "text": [
            "/usr/local/lib/python3.6/dist-packages/statsmodels/base/model.py:492: HessianInversionWarning: Inverting hessian failed, no bse or cov_params available\n",
            "  'available', HessianInversionWarning)\n"
          ],
          "name": "stderr"
        },
        {
          "output_type": "stream",
          "text": [
            "Iteration : 213\n"
          ],
          "name": "stdout"
        },
        {
          "output_type": "stream",
          "text": [
            "/usr/local/lib/python3.6/dist-packages/statsmodels/base/model.py:492: HessianInversionWarning: Inverting hessian failed, no bse or cov_params available\n",
            "  'available', HessianInversionWarning)\n",
            "/usr/local/lib/python3.6/dist-packages/statsmodels/base/model.py:512: ConvergenceWarning: Maximum Likelihood optimization failed to converge. Check mle_retvals\n",
            "  \"Check mle_retvals\", ConvergenceWarning)\n"
          ],
          "name": "stderr"
        },
        {
          "output_type": "stream",
          "text": [
            "Iteration : 214\n",
            "Iteration : 215\n",
            "Iteration : 216\n",
            "Iteration : 217\n",
            "Iteration : 218\n"
          ],
          "name": "stdout"
        },
        {
          "output_type": "stream",
          "text": [
            "/usr/local/lib/python3.6/dist-packages/statsmodels/base/model.py:492: HessianInversionWarning: Inverting hessian failed, no bse or cov_params available\n",
            "  'available', HessianInversionWarning)\n"
          ],
          "name": "stderr"
        },
        {
          "output_type": "stream",
          "text": [
            "Iteration : 219\n",
            "Iteration : 220\n",
            "Iteration : 221\n"
          ],
          "name": "stdout"
        },
        {
          "output_type": "stream",
          "text": [
            "/usr/local/lib/python3.6/dist-packages/statsmodels/base/model.py:492: HessianInversionWarning: Inverting hessian failed, no bse or cov_params available\n",
            "  'available', HessianInversionWarning)\n"
          ],
          "name": "stderr"
        },
        {
          "output_type": "stream",
          "text": [
            "Iteration : 222\n"
          ],
          "name": "stdout"
        },
        {
          "output_type": "stream",
          "text": [
            "/usr/local/lib/python3.6/dist-packages/statsmodels/base/model.py:492: HessianInversionWarning: Inverting hessian failed, no bse or cov_params available\n",
            "  'available', HessianInversionWarning)\n"
          ],
          "name": "stderr"
        },
        {
          "output_type": "stream",
          "text": [
            "Iteration : 223\n",
            "Iteration : 224\n",
            "Iteration : 225\n",
            "Iteration : 226\n",
            "Iteration : 227\n",
            "Iteration : 228\n",
            "Iteration : 229\n",
            "Iteration : 230\n",
            "Iteration : 231\n",
            "Iteration : 232\n",
            "Iteration : 233\n",
            "Iteration : 234\n",
            "Iteration : 235\n",
            "Iteration : 236\n",
            "Iteration : 237\n",
            "Iteration : 238\n",
            "Iteration : 239\n",
            "Iteration : 240\n",
            "Iteration : 241\n",
            "Iteration : 242\n",
            "Iteration : 243\n",
            "Iteration : 244\n",
            "Iteration : 245\n",
            "Iteration : 246\n",
            "Iteration : 247\n",
            "Iteration : 248\n",
            "Iteration : 249\n",
            "Iteration : 250\n",
            "Iteration : 251\n",
            "Iteration : 252\n",
            "Iteration : 253\n",
            "Iteration : 254\n",
            "Iteration : 255\n",
            "Iteration : 256\n",
            "Iteration : 257\n",
            "Iteration : 258\n",
            "Iteration : 259\n",
            "Iteration : 260\n",
            "Iteration : 261\n",
            "Iteration : 262\n",
            "Iteration : 263\n",
            "Iteration : 264\n",
            "Iteration : 265\n",
            "Iteration : 266\n",
            "Iteration : 267\n",
            "Iteration : 268\n",
            "Iteration : 269\n",
            "Iteration : 270\n",
            "Iteration : 271\n",
            "Iteration : 272\n",
            "Iteration : 273\n",
            "Iteration : 274\n",
            "Iteration : 275\n",
            "Iteration : 276\n",
            "Iteration : 277\n",
            "Iteration : 278\n",
            "Iteration : 279\n",
            "Iteration : 280\n",
            "Iteration : 281\n",
            "Iteration : 282\n",
            "Iteration : 283\n",
            "Iteration : 284\n",
            "Iteration : 285\n",
            "Iteration : 286\n",
            "Iteration : 287\n",
            "Iteration : 288\n",
            "Iteration : 289\n",
            "Iteration : 290\n",
            "Iteration : 291\n",
            "Iteration : 292\n",
            "Iteration : 293\n",
            "Iteration : 294\n",
            "Iteration : 295\n",
            "Iteration : 296\n",
            "Iteration : 297\n",
            "Iteration : 298\n",
            "Iteration : 299\n",
            "Iteration : 300\n",
            "Iteration : 301\n",
            "Iteration : 302\n",
            "Iteration : 303\n",
            "Iteration : 304\n",
            "Iteration : 305\n",
            "Iteration : 306\n",
            "Iteration : 307\n",
            "Iteration : 308\n",
            "Iteration : 309\n",
            "Iteration : 310\n",
            "Iteration : 311\n",
            "Iteration : 312\n",
            "Iteration : 313\n",
            "Iteration : 314\n",
            "Iteration : 315\n",
            "Iteration : 316\n",
            "Iteration : 317\n",
            "Iteration : 318\n",
            "Iteration : 319\n",
            "Iteration : 320\n",
            "Iteration : 321\n",
            "Iteration : 322\n",
            "Iteration : 323\n",
            "Iteration : 324\n",
            "Iteration : 325\n",
            "Iteration : 326\n",
            "Iteration : 327\n",
            "Iteration : 328\n",
            "Iteration : 329\n",
            "Iteration : 330\n",
            "Iteration : 331\n",
            "Iteration : 332\n",
            "Iteration : 333\n",
            "Iteration : 334\n",
            "Iteration : 335\n",
            "Iteration : 336\n",
            "Iteration : 337\n",
            "Iteration : 338\n",
            "Iteration : 339\n",
            "Iteration : 340\n",
            "Iteration : 341\n",
            "Iteration : 342\n",
            "Iteration : 343\n",
            "Iteration : 344\n",
            "Iteration : 345\n",
            "Iteration : 346\n",
            "Iteration : 347\n",
            "Iteration : 348\n",
            "Iteration : 349\n",
            "Iteration : 350\n",
            "Iteration : 351\n",
            "Iteration : 352\n",
            "Iteration : 353\n",
            "Iteration : 354\n",
            "Iteration : 355\n",
            "Iteration : 356\n",
            "Iteration : 357\n",
            "Iteration : 358\n",
            "Iteration : 359\n",
            "Iteration : 360\n",
            "Iteration : 361\n",
            "Iteration : 362\n",
            "Iteration : 363\n",
            "Iteration : 364\n",
            "Iteration : 365\n",
            "Iteration : 366\n",
            "Iteration : 367\n",
            "Iteration : 368\n",
            "Iteration : 369\n",
            "Iteration : 370\n",
            "Iteration : 371\n",
            "Iteration : 372\n",
            "Iteration : 373\n",
            "Iteration : 374\n",
            "Iteration : 375\n",
            "Iteration : 376\n",
            "Iteration : 377\n",
            "Iteration : 378\n",
            "Iteration : 379\n",
            "Iteration : 380\n",
            "Iteration : 381\n",
            "Iteration : 382\n",
            "Iteration : 383\n",
            "Iteration : 384\n",
            "Iteration : 385\n"
          ],
          "name": "stdout"
        },
        {
          "output_type": "stream",
          "text": [
            "/usr/local/lib/python3.6/dist-packages/statsmodels/base/model.py:512: ConvergenceWarning: Maximum Likelihood optimization failed to converge. Check mle_retvals\n",
            "  \"Check mle_retvals\", ConvergenceWarning)\n"
          ],
          "name": "stderr"
        },
        {
          "output_type": "stream",
          "text": [
            "Iteration : 386\n",
            "Iteration : 387\n",
            "Iteration : 388\n",
            "Iteration : 389\n",
            "Iteration : 390\n",
            "Iteration : 391\n",
            "Iteration : 392\n",
            "Iteration : 393\n",
            "Iteration : 394\n",
            "Iteration : 395\n",
            "Iteration : 396\n",
            "Iteration : 397\n",
            "Iteration : 398\n"
          ],
          "name": "stdout"
        },
        {
          "output_type": "stream",
          "text": [
            "/usr/local/lib/python3.6/dist-packages/statsmodels/base/model.py:492: HessianInversionWarning: Inverting hessian failed, no bse or cov_params available\n",
            "  'available', HessianInversionWarning)\n"
          ],
          "name": "stderr"
        },
        {
          "output_type": "stream",
          "text": [
            "Iteration : 399\n",
            "Iteration : 400\n",
            "Iteration : 401\n",
            "Iteration : 402\n",
            "Iteration : 403\n",
            "Iteration : 404\n",
            "Iteration : 405\n",
            "Iteration : 406\n",
            "Iteration : 407\n",
            "Iteration : 408\n",
            "Iteration : 409\n",
            "Iteration : 410\n",
            "Iteration : 411\n",
            "Iteration : 412\n",
            "Iteration : 413\n",
            "Iteration : 414\n",
            "Iteration : 415\n",
            "Iteration : 416\n",
            "Iteration : 417\n",
            "Iteration : 418\n",
            "Iteration : 419\n",
            "Iteration : 420\n",
            "Iteration : 421\n",
            "Iteration : 422\n",
            "Iteration : 423\n",
            "Iteration : 424\n",
            "Iteration : 425\n",
            "Iteration : 426\n",
            "Iteration : 427\n",
            "Iteration : 428\n",
            "Iteration : 429\n",
            "Iteration : 430\n",
            "Iteration : 431\n",
            "Iteration : 432\n",
            "Iteration : 433\n",
            "Iteration : 434\n",
            "Iteration : 435\n",
            "Iteration : 436\n",
            "Iteration : 437\n",
            "Iteration : 438\n",
            "Iteration : 439\n",
            "Iteration : 440\n",
            "Iteration : 441\n",
            "Iteration : 442\n",
            "Iteration : 443\n",
            "Iteration : 444\n",
            "Iteration : 445\n",
            "Iteration : 446\n",
            "Iteration : 447\n",
            "Iteration : 448\n",
            "Iteration : 449\n",
            "Iteration : 450\n",
            "Iteration : 451\n",
            "Iteration : 452\n",
            "Iteration : 453\n",
            "Iteration : 454\n"
          ],
          "name": "stdout"
        },
        {
          "output_type": "stream",
          "text": [
            "/usr/local/lib/python3.6/dist-packages/statsmodels/base/model.py:492: HessianInversionWarning: Inverting hessian failed, no bse or cov_params available\n",
            "  'available', HessianInversionWarning)\n"
          ],
          "name": "stderr"
        },
        {
          "output_type": "stream",
          "text": [
            "Iteration : 455\n"
          ],
          "name": "stdout"
        },
        {
          "output_type": "stream",
          "text": [
            "/usr/local/lib/python3.6/dist-packages/statsmodels/base/model.py:492: HessianInversionWarning: Inverting hessian failed, no bse or cov_params available\n",
            "  'available', HessianInversionWarning)\n"
          ],
          "name": "stderr"
        },
        {
          "output_type": "stream",
          "text": [
            "Iteration : 456\n",
            "Iteration : 457\n",
            "Iteration : 458\n"
          ],
          "name": "stdout"
        },
        {
          "output_type": "stream",
          "text": [
            "/usr/local/lib/python3.6/dist-packages/statsmodels/base/model.py:492: HessianInversionWarning: Inverting hessian failed, no bse or cov_params available\n",
            "  'available', HessianInversionWarning)\n"
          ],
          "name": "stderr"
        },
        {
          "output_type": "stream",
          "text": [
            "Iteration : 459\n"
          ],
          "name": "stdout"
        },
        {
          "output_type": "stream",
          "text": [
            "/usr/local/lib/python3.6/dist-packages/statsmodels/base/model.py:492: HessianInversionWarning: Inverting hessian failed, no bse or cov_params available\n",
            "  'available', HessianInversionWarning)\n"
          ],
          "name": "stderr"
        },
        {
          "output_type": "stream",
          "text": [
            "Iteration : 460\n",
            "Iteration : 461\n",
            "Iteration : 462\n"
          ],
          "name": "stdout"
        },
        {
          "output_type": "stream",
          "text": [
            "/usr/local/lib/python3.6/dist-packages/statsmodels/base/model.py:492: HessianInversionWarning: Inverting hessian failed, no bse or cov_params available\n",
            "  'available', HessianInversionWarning)\n"
          ],
          "name": "stderr"
        },
        {
          "output_type": "stream",
          "text": [
            "Iteration : 463\n"
          ],
          "name": "stdout"
        },
        {
          "output_type": "stream",
          "text": [
            "/usr/local/lib/python3.6/dist-packages/statsmodels/base/model.py:492: HessianInversionWarning: Inverting hessian failed, no bse or cov_params available\n",
            "  'available', HessianInversionWarning)\n"
          ],
          "name": "stderr"
        },
        {
          "output_type": "stream",
          "text": [
            "Iteration : 464\n"
          ],
          "name": "stdout"
        },
        {
          "output_type": "stream",
          "text": [
            "/usr/local/lib/python3.6/dist-packages/statsmodels/base/model.py:492: HessianInversionWarning: Inverting hessian failed, no bse or cov_params available\n",
            "  'available', HessianInversionWarning)\n"
          ],
          "name": "stderr"
        },
        {
          "output_type": "stream",
          "text": [
            "Iteration : 465\n",
            "Iteration : 466\n",
            "Iteration : 467\n",
            "Iteration : 468\n",
            "Iteration : 469\n",
            "Iteration : 470\n",
            "Iteration : 471\n",
            "Iteration : 472\n",
            "Iteration : 473\n",
            "Iteration : 474\n",
            "Iteration : 475\n",
            "Iteration : 476\n",
            "Iteration : 477\n",
            "Iteration : 478\n",
            "Iteration : 479\n",
            "Iteration : 480\n",
            "Iteration : 481\n",
            "Iteration : 482\n"
          ],
          "name": "stdout"
        },
        {
          "output_type": "stream",
          "text": [
            "/usr/local/lib/python3.6/dist-packages/statsmodels/base/model.py:492: HessianInversionWarning: Inverting hessian failed, no bse or cov_params available\n",
            "  'available', HessianInversionWarning)\n"
          ],
          "name": "stderr"
        },
        {
          "output_type": "stream",
          "text": [
            "Iteration : 483\n",
            "Iteration : 484\n"
          ],
          "name": "stdout"
        },
        {
          "output_type": "stream",
          "text": [
            "/usr/local/lib/python3.6/dist-packages/statsmodels/base/model.py:492: HessianInversionWarning: Inverting hessian failed, no bse or cov_params available\n",
            "  'available', HessianInversionWarning)\n"
          ],
          "name": "stderr"
        },
        {
          "output_type": "stream",
          "text": [
            "Iteration : 485\n",
            "Iteration : 486\n"
          ],
          "name": "stdout"
        },
        {
          "output_type": "stream",
          "text": [
            "/usr/local/lib/python3.6/dist-packages/statsmodels/base/model.py:492: HessianInversionWarning: Inverting hessian failed, no bse or cov_params available\n",
            "  'available', HessianInversionWarning)\n"
          ],
          "name": "stderr"
        },
        {
          "output_type": "stream",
          "text": [
            "Iteration : 487\n",
            "Iteration : 488\n",
            "Iteration : 489\n",
            "Iteration : 490\n",
            "Iteration : 491\n",
            "Iteration : 492\n",
            "Iteration : 493\n",
            "Iteration : 494\n",
            "Iteration : 495\n",
            "Iteration : 496\n",
            "Iteration : 497\n"
          ],
          "name": "stdout"
        },
        {
          "output_type": "stream",
          "text": [
            "/usr/local/lib/python3.6/dist-packages/statsmodels/base/model.py:492: HessianInversionWarning: Inverting hessian failed, no bse or cov_params available\n",
            "  'available', HessianInversionWarning)\n"
          ],
          "name": "stderr"
        },
        {
          "output_type": "stream",
          "text": [
            "Iteration : 498\n",
            "Iteration : 499\n",
            "Iteration : 500\n",
            "Iteration : 501\n",
            "Iteration : 502\n",
            "Iteration : 503\n",
            "Iteration : 504\n",
            "Iteration : 505\n",
            "Iteration : 506\n",
            "Iteration : 507\n",
            "Iteration : 508\n",
            "Iteration : 509\n",
            "Iteration : 510\n",
            "Iteration : 511\n",
            "Iteration : 512\n",
            "Iteration : 513\n",
            "Iteration : 514\n",
            "Iteration : 515\n",
            "Iteration : 516\n",
            "Iteration : 517\n",
            "Iteration : 518\n",
            "Iteration : 519\n",
            "Iteration : 520\n",
            "Iteration : 521\n",
            "Iteration : 522\n",
            "Iteration : 523\n",
            "Iteration : 524\n",
            "Iteration : 525\n",
            "Iteration : 526\n",
            "Iteration : 527\n",
            "Iteration : 528\n",
            "Iteration : 529\n",
            "Iteration : 530\n",
            "Iteration : 531\n",
            "Iteration : 532\n",
            "Iteration : 533\n",
            "Iteration : 534\n",
            "Iteration : 535\n",
            "Iteration : 536\n",
            "Iteration : 537\n",
            "Iteration : 538\n",
            "Iteration : 539\n",
            "Iteration : 540\n",
            "Iteration : 541\n"
          ],
          "name": "stdout"
        },
        {
          "output_type": "stream",
          "text": [
            "/usr/local/lib/python3.6/dist-packages/statsmodels/base/model.py:492: HessianInversionWarning: Inverting hessian failed, no bse or cov_params available\n",
            "  'available', HessianInversionWarning)\n",
            "/usr/local/lib/python3.6/dist-packages/statsmodels/base/model.py:512: ConvergenceWarning: Maximum Likelihood optimization failed to converge. Check mle_retvals\n",
            "  \"Check mle_retvals\", ConvergenceWarning)\n"
          ],
          "name": "stderr"
        },
        {
          "output_type": "stream",
          "text": [
            "Iteration : 542\n",
            "Iteration : 543\n",
            "Iteration : 544\n",
            "Iteration : 545\n",
            "Iteration : 546\n",
            "Iteration : 547\n",
            "Iteration : 548\n",
            "Iteration : 549\n",
            "Iteration : 550\n"
          ],
          "name": "stdout"
        },
        {
          "output_type": "stream",
          "text": [
            "/usr/local/lib/python3.6/dist-packages/statsmodels/base/model.py:492: HessianInversionWarning: Inverting hessian failed, no bse or cov_params available\n",
            "  'available', HessianInversionWarning)\n"
          ],
          "name": "stderr"
        },
        {
          "output_type": "stream",
          "text": [
            "Iteration : 551\n",
            "Iteration : 552\n",
            "Iteration : 553\n",
            "Iteration : 554\n",
            "Iteration : 555\n",
            "Iteration : 556\n",
            "Iteration : 557\n",
            "Iteration : 558\n",
            "Iteration : 559\n",
            "Iteration : 560\n",
            "Iteration : 561\n",
            "Iteration : 562\n",
            "Iteration : 563\n",
            "Iteration : 564\n",
            "Iteration : 565\n",
            "Iteration : 566\n",
            "Iteration : 567\n",
            "Iteration : 568\n",
            "Iteration : 569\n",
            "Iteration : 570\n",
            "Iteration : 571\n",
            "Iteration : 572\n",
            "Iteration : 573\n",
            "Iteration : 574\n",
            "Iteration : 575\n",
            "Iteration : 576\n",
            "Iteration : 577\n",
            "Iteration : 578\n",
            "Iteration : 579\n",
            "Iteration : 580\n",
            "Iteration : 581\n",
            "Iteration : 582\n",
            "Iteration : 583\n",
            "Iteration : 584\n",
            "Iteration : 585\n"
          ],
          "name": "stdout"
        },
        {
          "output_type": "stream",
          "text": [
            "/usr/local/lib/python3.6/dist-packages/statsmodels/base/model.py:492: HessianInversionWarning: Inverting hessian failed, no bse or cov_params available\n",
            "  'available', HessianInversionWarning)\n"
          ],
          "name": "stderr"
        },
        {
          "output_type": "stream",
          "text": [
            "Iteration : 586\n",
            "Iteration : 587\n",
            "Iteration : 588\n",
            "Iteration : 589\n",
            "Iteration : 590\n",
            "Iteration : 591\n",
            "Iteration : 592\n",
            "Iteration : 593\n",
            "Iteration : 594\n",
            "Iteration : 595\n",
            "Iteration : 596\n",
            "Iteration : 597\n",
            "Iteration : 598\n",
            "Iteration : 599\n",
            "Iteration : 600\n",
            "Iteration : 601\n",
            "Iteration : 602\n",
            "Iteration : 603\n",
            "Iteration : 604\n",
            "Iteration : 605\n",
            "Iteration : 606\n",
            "Iteration : 607\n",
            "Iteration : 608\n",
            "Iteration : 609\n",
            "Iteration : 610\n",
            "Iteration : 611\n",
            "Iteration : 612\n",
            "Iteration : 613\n"
          ],
          "name": "stdout"
        },
        {
          "output_type": "stream",
          "text": [
            "/usr/local/lib/python3.6/dist-packages/statsmodels/base/model.py:492: HessianInversionWarning: Inverting hessian failed, no bse or cov_params available\n",
            "  'available', HessianInversionWarning)\n"
          ],
          "name": "stderr"
        },
        {
          "output_type": "stream",
          "text": [
            "Iteration : 614\n"
          ],
          "name": "stdout"
        },
        {
          "output_type": "stream",
          "text": [
            "/usr/local/lib/python3.6/dist-packages/statsmodels/base/model.py:492: HessianInversionWarning: Inverting hessian failed, no bse or cov_params available\n",
            "  'available', HessianInversionWarning)\n"
          ],
          "name": "stderr"
        },
        {
          "output_type": "stream",
          "text": [
            "Iteration : 615\n",
            "Iteration : 616\n",
            "Iteration : 617\n",
            "Iteration : 618\n",
            "Iteration : 619\n",
            "Iteration : 620\n",
            "Iteration : 621\n",
            "Iteration : 622\n",
            "Iteration : 623\n",
            "Iteration : 624\n",
            "Iteration : 625\n",
            "Iteration : 626\n",
            "Iteration : 627\n",
            "Iteration : 628\n",
            "Iteration : 629\n",
            "Iteration : 630\n",
            "Iteration : 631\n",
            "Iteration : 632\n"
          ],
          "name": "stdout"
        },
        {
          "output_type": "stream",
          "text": [
            "/usr/local/lib/python3.6/dist-packages/statsmodels/base/model.py:492: HessianInversionWarning: Inverting hessian failed, no bse or cov_params available\n",
            "  'available', HessianInversionWarning)\n"
          ],
          "name": "stderr"
        },
        {
          "output_type": "stream",
          "text": [
            "Iteration : 633\n"
          ],
          "name": "stdout"
        },
        {
          "output_type": "stream",
          "text": [
            "/usr/local/lib/python3.6/dist-packages/statsmodels/base/model.py:492: HessianInversionWarning: Inverting hessian failed, no bse or cov_params available\n",
            "  'available', HessianInversionWarning)\n"
          ],
          "name": "stderr"
        },
        {
          "output_type": "stream",
          "text": [
            "Iteration : 634\n"
          ],
          "name": "stdout"
        },
        {
          "output_type": "stream",
          "text": [
            "/usr/local/lib/python3.6/dist-packages/statsmodels/base/model.py:492: HessianInversionWarning: Inverting hessian failed, no bse or cov_params available\n",
            "  'available', HessianInversionWarning)\n"
          ],
          "name": "stderr"
        },
        {
          "output_type": "stream",
          "text": [
            "Iteration : 635\n"
          ],
          "name": "stdout"
        },
        {
          "output_type": "stream",
          "text": [
            "/usr/local/lib/python3.6/dist-packages/statsmodels/base/model.py:492: HessianInversionWarning: Inverting hessian failed, no bse or cov_params available\n",
            "  'available', HessianInversionWarning)\n"
          ],
          "name": "stderr"
        },
        {
          "output_type": "stream",
          "text": [
            "Iteration : 636\n",
            "Iteration : 637\n",
            "Iteration : 638\n"
          ],
          "name": "stdout"
        },
        {
          "output_type": "stream",
          "text": [
            "/usr/local/lib/python3.6/dist-packages/statsmodels/base/model.py:492: HessianInversionWarning: Inverting hessian failed, no bse or cov_params available\n",
            "  'available', HessianInversionWarning)\n"
          ],
          "name": "stderr"
        },
        {
          "output_type": "stream",
          "text": [
            "Iteration : 639\n"
          ],
          "name": "stdout"
        },
        {
          "output_type": "stream",
          "text": [
            "/usr/local/lib/python3.6/dist-packages/statsmodels/base/model.py:492: HessianInversionWarning: Inverting hessian failed, no bse or cov_params available\n",
            "  'available', HessianInversionWarning)\n"
          ],
          "name": "stderr"
        },
        {
          "output_type": "stream",
          "text": [
            "Iteration : 640\n"
          ],
          "name": "stdout"
        },
        {
          "output_type": "stream",
          "text": [
            "/usr/local/lib/python3.6/dist-packages/statsmodels/base/model.py:492: HessianInversionWarning: Inverting hessian failed, no bse or cov_params available\n",
            "  'available', HessianInversionWarning)\n"
          ],
          "name": "stderr"
        },
        {
          "output_type": "stream",
          "text": [
            "Iteration : 641\n"
          ],
          "name": "stdout"
        },
        {
          "output_type": "stream",
          "text": [
            "/usr/local/lib/python3.6/dist-packages/statsmodels/base/model.py:492: HessianInversionWarning: Inverting hessian failed, no bse or cov_params available\n",
            "  'available', HessianInversionWarning)\n"
          ],
          "name": "stderr"
        },
        {
          "output_type": "stream",
          "text": [
            "Iteration : 642\n",
            "Iteration : 643\n"
          ],
          "name": "stdout"
        },
        {
          "output_type": "stream",
          "text": [
            "/usr/local/lib/python3.6/dist-packages/statsmodels/base/model.py:492: HessianInversionWarning: Inverting hessian failed, no bse or cov_params available\n",
            "  'available', HessianInversionWarning)\n",
            "/usr/local/lib/python3.6/dist-packages/statsmodels/base/model.py:512: ConvergenceWarning: Maximum Likelihood optimization failed to converge. Check mle_retvals\n",
            "  \"Check mle_retvals\", ConvergenceWarning)\n"
          ],
          "name": "stderr"
        },
        {
          "output_type": "stream",
          "text": [
            "Iteration : 644\n"
          ],
          "name": "stdout"
        },
        {
          "output_type": "stream",
          "text": [
            "/usr/local/lib/python3.6/dist-packages/statsmodels/base/model.py:492: HessianInversionWarning: Inverting hessian failed, no bse or cov_params available\n",
            "  'available', HessianInversionWarning)\n"
          ],
          "name": "stderr"
        },
        {
          "output_type": "stream",
          "text": [
            "Iteration : 645\n"
          ],
          "name": "stdout"
        },
        {
          "output_type": "stream",
          "text": [
            "/usr/local/lib/python3.6/dist-packages/statsmodels/base/model.py:492: HessianInversionWarning: Inverting hessian failed, no bse or cov_params available\n",
            "  'available', HessianInversionWarning)\n"
          ],
          "name": "stderr"
        },
        {
          "output_type": "stream",
          "text": [
            "Iteration : 646\n",
            "Iteration : 647\n"
          ],
          "name": "stdout"
        },
        {
          "output_type": "stream",
          "text": [
            "/usr/local/lib/python3.6/dist-packages/statsmodels/base/model.py:492: HessianInversionWarning: Inverting hessian failed, no bse or cov_params available\n",
            "  'available', HessianInversionWarning)\n"
          ],
          "name": "stderr"
        },
        {
          "output_type": "stream",
          "text": [
            "Iteration : 648\n"
          ],
          "name": "stdout"
        },
        {
          "output_type": "stream",
          "text": [
            "/usr/local/lib/python3.6/dist-packages/statsmodels/base/model.py:492: HessianInversionWarning: Inverting hessian failed, no bse or cov_params available\n",
            "  'available', HessianInversionWarning)\n"
          ],
          "name": "stderr"
        },
        {
          "output_type": "stream",
          "text": [
            "Iteration : 649\n"
          ],
          "name": "stdout"
        },
        {
          "output_type": "stream",
          "text": [
            "/usr/local/lib/python3.6/dist-packages/statsmodels/base/model.py:492: HessianInversionWarning: Inverting hessian failed, no bse or cov_params available\n",
            "  'available', HessianInversionWarning)\n"
          ],
          "name": "stderr"
        },
        {
          "output_type": "stream",
          "text": [
            "Iteration : 650\n"
          ],
          "name": "stdout"
        },
        {
          "output_type": "stream",
          "text": [
            "/usr/local/lib/python3.6/dist-packages/statsmodels/base/model.py:492: HessianInversionWarning: Inverting hessian failed, no bse or cov_params available\n",
            "  'available', HessianInversionWarning)\n"
          ],
          "name": "stderr"
        },
        {
          "output_type": "stream",
          "text": [
            "Iteration : 651\n"
          ],
          "name": "stdout"
        },
        {
          "output_type": "stream",
          "text": [
            "/usr/local/lib/python3.6/dist-packages/statsmodels/base/model.py:492: HessianInversionWarning: Inverting hessian failed, no bse or cov_params available\n",
            "  'available', HessianInversionWarning)\n"
          ],
          "name": "stderr"
        },
        {
          "output_type": "stream",
          "text": [
            "Iteration : 652\n",
            "Iteration : 653\n"
          ],
          "name": "stdout"
        },
        {
          "output_type": "stream",
          "text": [
            "/usr/local/lib/python3.6/dist-packages/statsmodels/base/model.py:492: HessianInversionWarning: Inverting hessian failed, no bse or cov_params available\n",
            "  'available', HessianInversionWarning)\n"
          ],
          "name": "stderr"
        },
        {
          "output_type": "stream",
          "text": [
            "Iteration : 654\n"
          ],
          "name": "stdout"
        },
        {
          "output_type": "stream",
          "text": [
            "/usr/local/lib/python3.6/dist-packages/statsmodels/base/model.py:492: HessianInversionWarning: Inverting hessian failed, no bse or cov_params available\n",
            "  'available', HessianInversionWarning)\n"
          ],
          "name": "stderr"
        },
        {
          "output_type": "stream",
          "text": [
            "Iteration : 655\n"
          ],
          "name": "stdout"
        },
        {
          "output_type": "stream",
          "text": [
            "/usr/local/lib/python3.6/dist-packages/statsmodels/base/model.py:492: HessianInversionWarning: Inverting hessian failed, no bse or cov_params available\n",
            "  'available', HessianInversionWarning)\n"
          ],
          "name": "stderr"
        },
        {
          "output_type": "stream",
          "text": [
            "Iteration : 656\n"
          ],
          "name": "stdout"
        },
        {
          "output_type": "stream",
          "text": [
            "/usr/local/lib/python3.6/dist-packages/statsmodels/base/model.py:492: HessianInversionWarning: Inverting hessian failed, no bse or cov_params available\n",
            "  'available', HessianInversionWarning)\n"
          ],
          "name": "stderr"
        },
        {
          "output_type": "stream",
          "text": [
            "Iteration : 657\n"
          ],
          "name": "stdout"
        },
        {
          "output_type": "stream",
          "text": [
            "/usr/local/lib/python3.6/dist-packages/statsmodels/base/model.py:492: HessianInversionWarning: Inverting hessian failed, no bse or cov_params available\n",
            "  'available', HessianInversionWarning)\n"
          ],
          "name": "stderr"
        },
        {
          "output_type": "stream",
          "text": [
            "Iteration : 658\n"
          ],
          "name": "stdout"
        },
        {
          "output_type": "stream",
          "text": [
            "/usr/local/lib/python3.6/dist-packages/statsmodels/base/model.py:492: HessianInversionWarning: Inverting hessian failed, no bse or cov_params available\n",
            "  'available', HessianInversionWarning)\n"
          ],
          "name": "stderr"
        },
        {
          "output_type": "stream",
          "text": [
            "Iteration : 659\n"
          ],
          "name": "stdout"
        },
        {
          "output_type": "stream",
          "text": [
            "/usr/local/lib/python3.6/dist-packages/statsmodels/base/model.py:492: HessianInversionWarning: Inverting hessian failed, no bse or cov_params available\n",
            "  'available', HessianInversionWarning)\n",
            "/usr/local/lib/python3.6/dist-packages/statsmodels/base/model.py:512: ConvergenceWarning: Maximum Likelihood optimization failed to converge. Check mle_retvals\n",
            "  \"Check mle_retvals\", ConvergenceWarning)\n"
          ],
          "name": "stderr"
        },
        {
          "output_type": "stream",
          "text": [
            "Iteration : 660\n"
          ],
          "name": "stdout"
        },
        {
          "output_type": "stream",
          "text": [
            "/usr/local/lib/python3.6/dist-packages/statsmodels/base/model.py:492: HessianInversionWarning: Inverting hessian failed, no bse or cov_params available\n",
            "  'available', HessianInversionWarning)\n"
          ],
          "name": "stderr"
        },
        {
          "output_type": "stream",
          "text": [
            "Iteration : 661\n"
          ],
          "name": "stdout"
        },
        {
          "output_type": "stream",
          "text": [
            "/usr/local/lib/python3.6/dist-packages/statsmodels/base/model.py:492: HessianInversionWarning: Inverting hessian failed, no bse or cov_params available\n",
            "  'available', HessianInversionWarning)\n"
          ],
          "name": "stderr"
        },
        {
          "output_type": "stream",
          "text": [
            "Iteration : 662\n"
          ],
          "name": "stdout"
        },
        {
          "output_type": "stream",
          "text": [
            "/usr/local/lib/python3.6/dist-packages/statsmodels/base/model.py:492: HessianInversionWarning: Inverting hessian failed, no bse or cov_params available\n",
            "  'available', HessianInversionWarning)\n"
          ],
          "name": "stderr"
        },
        {
          "output_type": "stream",
          "text": [
            "Iteration : 663\n"
          ],
          "name": "stdout"
        },
        {
          "output_type": "stream",
          "text": [
            "/usr/local/lib/python3.6/dist-packages/statsmodels/base/model.py:492: HessianInversionWarning: Inverting hessian failed, no bse or cov_params available\n",
            "  'available', HessianInversionWarning)\n"
          ],
          "name": "stderr"
        },
        {
          "output_type": "stream",
          "text": [
            "Iteration : 664\n"
          ],
          "name": "stdout"
        },
        {
          "output_type": "stream",
          "text": [
            "/usr/local/lib/python3.6/dist-packages/statsmodels/base/model.py:492: HessianInversionWarning: Inverting hessian failed, no bse or cov_params available\n",
            "  'available', HessianInversionWarning)\n"
          ],
          "name": "stderr"
        },
        {
          "output_type": "stream",
          "text": [
            "Iteration : 665\n"
          ],
          "name": "stdout"
        },
        {
          "output_type": "stream",
          "text": [
            "/usr/local/lib/python3.6/dist-packages/statsmodels/base/model.py:492: HessianInversionWarning: Inverting hessian failed, no bse or cov_params available\n",
            "  'available', HessianInversionWarning)\n"
          ],
          "name": "stderr"
        },
        {
          "output_type": "stream",
          "text": [
            "Iteration : 666\n"
          ],
          "name": "stdout"
        },
        {
          "output_type": "stream",
          "text": [
            "/usr/local/lib/python3.6/dist-packages/statsmodels/base/model.py:492: HessianInversionWarning: Inverting hessian failed, no bse or cov_params available\n",
            "  'available', HessianInversionWarning)\n"
          ],
          "name": "stderr"
        },
        {
          "output_type": "stream",
          "text": [
            "Iteration : 667\n"
          ],
          "name": "stdout"
        },
        {
          "output_type": "stream",
          "text": [
            "/usr/local/lib/python3.6/dist-packages/statsmodels/base/model.py:492: HessianInversionWarning: Inverting hessian failed, no bse or cov_params available\n",
            "  'available', HessianInversionWarning)\n"
          ],
          "name": "stderr"
        },
        {
          "output_type": "stream",
          "text": [
            "Iteration : 668\n"
          ],
          "name": "stdout"
        },
        {
          "output_type": "stream",
          "text": [
            "/usr/local/lib/python3.6/dist-packages/statsmodels/base/model.py:492: HessianInversionWarning: Inverting hessian failed, no bse or cov_params available\n",
            "  'available', HessianInversionWarning)\n"
          ],
          "name": "stderr"
        },
        {
          "output_type": "stream",
          "text": [
            "Iteration : 669\n"
          ],
          "name": "stdout"
        },
        {
          "output_type": "stream",
          "text": [
            "/usr/local/lib/python3.6/dist-packages/statsmodels/base/model.py:492: HessianInversionWarning: Inverting hessian failed, no bse or cov_params available\n",
            "  'available', HessianInversionWarning)\n"
          ],
          "name": "stderr"
        },
        {
          "output_type": "stream",
          "text": [
            "Iteration : 670\n"
          ],
          "name": "stdout"
        },
        {
          "output_type": "stream",
          "text": [
            "/usr/local/lib/python3.6/dist-packages/statsmodels/base/model.py:492: HessianInversionWarning: Inverting hessian failed, no bse or cov_params available\n",
            "  'available', HessianInversionWarning)\n"
          ],
          "name": "stderr"
        },
        {
          "output_type": "stream",
          "text": [
            "Iteration : 671\n"
          ],
          "name": "stdout"
        },
        {
          "output_type": "stream",
          "text": [
            "/usr/local/lib/python3.6/dist-packages/statsmodels/base/model.py:492: HessianInversionWarning: Inverting hessian failed, no bse or cov_params available\n",
            "  'available', HessianInversionWarning)\n"
          ],
          "name": "stderr"
        },
        {
          "output_type": "stream",
          "text": [
            "Iteration : 672\n"
          ],
          "name": "stdout"
        },
        {
          "output_type": "stream",
          "text": [
            "/usr/local/lib/python3.6/dist-packages/statsmodels/base/model.py:492: HessianInversionWarning: Inverting hessian failed, no bse or cov_params available\n",
            "  'available', HessianInversionWarning)\n"
          ],
          "name": "stderr"
        },
        {
          "output_type": "stream",
          "text": [
            "Iteration : 673\n"
          ],
          "name": "stdout"
        },
        {
          "output_type": "stream",
          "text": [
            "/usr/local/lib/python3.6/dist-packages/statsmodels/base/model.py:492: HessianInversionWarning: Inverting hessian failed, no bse or cov_params available\n",
            "  'available', HessianInversionWarning)\n"
          ],
          "name": "stderr"
        },
        {
          "output_type": "stream",
          "text": [
            "Iteration : 674\n"
          ],
          "name": "stdout"
        },
        {
          "output_type": "stream",
          "text": [
            "/usr/local/lib/python3.6/dist-packages/statsmodels/base/model.py:492: HessianInversionWarning: Inverting hessian failed, no bse or cov_params available\n",
            "  'available', HessianInversionWarning)\n"
          ],
          "name": "stderr"
        },
        {
          "output_type": "stream",
          "text": [
            "Iteration : 675\n"
          ],
          "name": "stdout"
        },
        {
          "output_type": "stream",
          "text": [
            "/usr/local/lib/python3.6/dist-packages/statsmodels/base/model.py:492: HessianInversionWarning: Inverting hessian failed, no bse or cov_params available\n",
            "  'available', HessianInversionWarning)\n"
          ],
          "name": "stderr"
        },
        {
          "output_type": "stream",
          "text": [
            "Iteration : 676\n"
          ],
          "name": "stdout"
        },
        {
          "output_type": "stream",
          "text": [
            "/usr/local/lib/python3.6/dist-packages/statsmodels/base/model.py:492: HessianInversionWarning: Inverting hessian failed, no bse or cov_params available\n",
            "  'available', HessianInversionWarning)\n"
          ],
          "name": "stderr"
        },
        {
          "output_type": "stream",
          "text": [
            "Iteration : 677\n",
            "Iteration : 678\n",
            "Iteration : 679\n",
            "Iteration : 680\n"
          ],
          "name": "stdout"
        },
        {
          "output_type": "stream",
          "text": [
            "/usr/local/lib/python3.6/dist-packages/statsmodels/base/model.py:492: HessianInversionWarning: Inverting hessian failed, no bse or cov_params available\n",
            "  'available', HessianInversionWarning)\n"
          ],
          "name": "stderr"
        },
        {
          "output_type": "stream",
          "text": [
            "Iteration : 681\n"
          ],
          "name": "stdout"
        },
        {
          "output_type": "stream",
          "text": [
            "/usr/local/lib/python3.6/dist-packages/statsmodels/base/model.py:492: HessianInversionWarning: Inverting hessian failed, no bse or cov_params available\n",
            "  'available', HessianInversionWarning)\n"
          ],
          "name": "stderr"
        },
        {
          "output_type": "stream",
          "text": [
            "Iteration : 682\n"
          ],
          "name": "stdout"
        },
        {
          "output_type": "stream",
          "text": [
            "/usr/local/lib/python3.6/dist-packages/statsmodels/base/model.py:492: HessianInversionWarning: Inverting hessian failed, no bse or cov_params available\n",
            "  'available', HessianInversionWarning)\n"
          ],
          "name": "stderr"
        },
        {
          "output_type": "stream",
          "text": [
            "Iteration : 683\n"
          ],
          "name": "stdout"
        },
        {
          "output_type": "stream",
          "text": [
            "/usr/local/lib/python3.6/dist-packages/statsmodels/base/model.py:492: HessianInversionWarning: Inverting hessian failed, no bse or cov_params available\n",
            "  'available', HessianInversionWarning)\n"
          ],
          "name": "stderr"
        },
        {
          "output_type": "stream",
          "text": [
            "Iteration : 684\n"
          ],
          "name": "stdout"
        },
        {
          "output_type": "stream",
          "text": [
            "/usr/local/lib/python3.6/dist-packages/statsmodels/base/model.py:492: HessianInversionWarning: Inverting hessian failed, no bse or cov_params available\n",
            "  'available', HessianInversionWarning)\n"
          ],
          "name": "stderr"
        },
        {
          "output_type": "stream",
          "text": [
            "Iteration : 685\n"
          ],
          "name": "stdout"
        },
        {
          "output_type": "stream",
          "text": [
            "/usr/local/lib/python3.6/dist-packages/statsmodels/base/model.py:492: HessianInversionWarning: Inverting hessian failed, no bse or cov_params available\n",
            "  'available', HessianInversionWarning)\n"
          ],
          "name": "stderr"
        },
        {
          "output_type": "stream",
          "text": [
            "Iteration : 686\n"
          ],
          "name": "stdout"
        },
        {
          "output_type": "stream",
          "text": [
            "/usr/local/lib/python3.6/dist-packages/statsmodels/base/model.py:492: HessianInversionWarning: Inverting hessian failed, no bse or cov_params available\n",
            "  'available', HessianInversionWarning)\n"
          ],
          "name": "stderr"
        },
        {
          "output_type": "stream",
          "text": [
            "Iteration : 687\n"
          ],
          "name": "stdout"
        },
        {
          "output_type": "stream",
          "text": [
            "/usr/local/lib/python3.6/dist-packages/statsmodels/base/model.py:492: HessianInversionWarning: Inverting hessian failed, no bse or cov_params available\n",
            "  'available', HessianInversionWarning)\n"
          ],
          "name": "stderr"
        },
        {
          "output_type": "stream",
          "text": [
            "Iteration : 688\n"
          ],
          "name": "stdout"
        },
        {
          "output_type": "stream",
          "text": [
            "/usr/local/lib/python3.6/dist-packages/statsmodels/base/model.py:492: HessianInversionWarning: Inverting hessian failed, no bse or cov_params available\n",
            "  'available', HessianInversionWarning)\n"
          ],
          "name": "stderr"
        },
        {
          "output_type": "stream",
          "text": [
            "Iteration : 689\n"
          ],
          "name": "stdout"
        },
        {
          "output_type": "stream",
          "text": [
            "/usr/local/lib/python3.6/dist-packages/statsmodels/base/model.py:492: HessianInversionWarning: Inverting hessian failed, no bse or cov_params available\n",
            "  'available', HessianInversionWarning)\n"
          ],
          "name": "stderr"
        },
        {
          "output_type": "stream",
          "text": [
            "Iteration : 690\n"
          ],
          "name": "stdout"
        },
        {
          "output_type": "stream",
          "text": [
            "/usr/local/lib/python3.6/dist-packages/statsmodels/base/model.py:492: HessianInversionWarning: Inverting hessian failed, no bse or cov_params available\n",
            "  'available', HessianInversionWarning)\n"
          ],
          "name": "stderr"
        },
        {
          "output_type": "stream",
          "text": [
            "Iteration : 691\n"
          ],
          "name": "stdout"
        },
        {
          "output_type": "stream",
          "text": [
            "/usr/local/lib/python3.6/dist-packages/statsmodels/base/model.py:492: HessianInversionWarning: Inverting hessian failed, no bse or cov_params available\n",
            "  'available', HessianInversionWarning)\n"
          ],
          "name": "stderr"
        },
        {
          "output_type": "stream",
          "text": [
            "Iteration : 692\n"
          ],
          "name": "stdout"
        },
        {
          "output_type": "stream",
          "text": [
            "/usr/local/lib/python3.6/dist-packages/statsmodels/base/model.py:492: HessianInversionWarning: Inverting hessian failed, no bse or cov_params available\n",
            "  'available', HessianInversionWarning)\n"
          ],
          "name": "stderr"
        },
        {
          "output_type": "stream",
          "text": [
            "Iteration : 693\n"
          ],
          "name": "stdout"
        },
        {
          "output_type": "stream",
          "text": [
            "/usr/local/lib/python3.6/dist-packages/statsmodels/base/model.py:492: HessianInversionWarning: Inverting hessian failed, no bse or cov_params available\n",
            "  'available', HessianInversionWarning)\n"
          ],
          "name": "stderr"
        },
        {
          "output_type": "stream",
          "text": [
            "Iteration : 694\n",
            "Iteration : 695\n"
          ],
          "name": "stdout"
        },
        {
          "output_type": "stream",
          "text": [
            "/usr/local/lib/python3.6/dist-packages/statsmodels/base/model.py:492: HessianInversionWarning: Inverting hessian failed, no bse or cov_params available\n",
            "  'available', HessianInversionWarning)\n"
          ],
          "name": "stderr"
        },
        {
          "output_type": "stream",
          "text": [
            "Iteration : 696\n",
            "Iteration : 697\n"
          ],
          "name": "stdout"
        },
        {
          "output_type": "stream",
          "text": [
            "/usr/local/lib/python3.6/dist-packages/statsmodels/base/model.py:492: HessianInversionWarning: Inverting hessian failed, no bse or cov_params available\n",
            "  'available', HessianInversionWarning)\n"
          ],
          "name": "stderr"
        },
        {
          "output_type": "stream",
          "text": [
            "Iteration : 698\n"
          ],
          "name": "stdout"
        },
        {
          "output_type": "stream",
          "text": [
            "/usr/local/lib/python3.6/dist-packages/statsmodels/base/model.py:492: HessianInversionWarning: Inverting hessian failed, no bse or cov_params available\n",
            "  'available', HessianInversionWarning)\n"
          ],
          "name": "stderr"
        },
        {
          "output_type": "stream",
          "text": [
            "Iteration : 699\n",
            "Iteration : 700\n"
          ],
          "name": "stdout"
        },
        {
          "output_type": "stream",
          "text": [
            "/usr/local/lib/python3.6/dist-packages/statsmodels/base/model.py:492: HessianInversionWarning: Inverting hessian failed, no bse or cov_params available\n",
            "  'available', HessianInversionWarning)\n"
          ],
          "name": "stderr"
        },
        {
          "output_type": "stream",
          "text": [
            "Iteration : 701\n"
          ],
          "name": "stdout"
        },
        {
          "output_type": "stream",
          "text": [
            "/usr/local/lib/python3.6/dist-packages/statsmodels/base/model.py:492: HessianInversionWarning: Inverting hessian failed, no bse or cov_params available\n",
            "  'available', HessianInversionWarning)\n"
          ],
          "name": "stderr"
        },
        {
          "output_type": "stream",
          "text": [
            "Iteration : 702\n"
          ],
          "name": "stdout"
        },
        {
          "output_type": "stream",
          "text": [
            "/usr/local/lib/python3.6/dist-packages/statsmodels/base/model.py:492: HessianInversionWarning: Inverting hessian failed, no bse or cov_params available\n",
            "  'available', HessianInversionWarning)\n"
          ],
          "name": "stderr"
        },
        {
          "output_type": "stream",
          "text": [
            "Iteration : 703\n",
            "Iteration : 704\n"
          ],
          "name": "stdout"
        },
        {
          "output_type": "stream",
          "text": [
            "/usr/local/lib/python3.6/dist-packages/statsmodels/base/model.py:492: HessianInversionWarning: Inverting hessian failed, no bse or cov_params available\n",
            "  'available', HessianInversionWarning)\n"
          ],
          "name": "stderr"
        },
        {
          "output_type": "stream",
          "text": [
            "Iteration : 705\n"
          ],
          "name": "stdout"
        },
        {
          "output_type": "stream",
          "text": [
            "/usr/local/lib/python3.6/dist-packages/statsmodels/base/model.py:492: HessianInversionWarning: Inverting hessian failed, no bse or cov_params available\n",
            "  'available', HessianInversionWarning)\n"
          ],
          "name": "stderr"
        },
        {
          "output_type": "stream",
          "text": [
            "Iteration : 706\n"
          ],
          "name": "stdout"
        },
        {
          "output_type": "stream",
          "text": [
            "/usr/local/lib/python3.6/dist-packages/statsmodels/base/model.py:492: HessianInversionWarning: Inverting hessian failed, no bse or cov_params available\n",
            "  'available', HessianInversionWarning)\n"
          ],
          "name": "stderr"
        },
        {
          "output_type": "stream",
          "text": [
            "Iteration : 707\n"
          ],
          "name": "stdout"
        },
        {
          "output_type": "stream",
          "text": [
            "/usr/local/lib/python3.6/dist-packages/statsmodels/base/model.py:492: HessianInversionWarning: Inverting hessian failed, no bse or cov_params available\n",
            "  'available', HessianInversionWarning)\n"
          ],
          "name": "stderr"
        },
        {
          "output_type": "stream",
          "text": [
            "Iteration : 708\n"
          ],
          "name": "stdout"
        },
        {
          "output_type": "stream",
          "text": [
            "/usr/local/lib/python3.6/dist-packages/statsmodels/base/model.py:492: HessianInversionWarning: Inverting hessian failed, no bse or cov_params available\n",
            "  'available', HessianInversionWarning)\n"
          ],
          "name": "stderr"
        },
        {
          "output_type": "stream",
          "text": [
            "Iteration : 709\n"
          ],
          "name": "stdout"
        },
        {
          "output_type": "stream",
          "text": [
            "/usr/local/lib/python3.6/dist-packages/statsmodels/base/model.py:492: HessianInversionWarning: Inverting hessian failed, no bse or cov_params available\n",
            "  'available', HessianInversionWarning)\n"
          ],
          "name": "stderr"
        },
        {
          "output_type": "stream",
          "text": [
            "Iteration : 710\n"
          ],
          "name": "stdout"
        },
        {
          "output_type": "stream",
          "text": [
            "/usr/local/lib/python3.6/dist-packages/statsmodels/base/model.py:492: HessianInversionWarning: Inverting hessian failed, no bse or cov_params available\n",
            "  'available', HessianInversionWarning)\n"
          ],
          "name": "stderr"
        },
        {
          "output_type": "stream",
          "text": [
            "Iteration : 711\n"
          ],
          "name": "stdout"
        },
        {
          "output_type": "stream",
          "text": [
            "/usr/local/lib/python3.6/dist-packages/statsmodels/base/model.py:492: HessianInversionWarning: Inverting hessian failed, no bse or cov_params available\n",
            "  'available', HessianInversionWarning)\n"
          ],
          "name": "stderr"
        },
        {
          "output_type": "stream",
          "text": [
            "Iteration : 712\n"
          ],
          "name": "stdout"
        },
        {
          "output_type": "stream",
          "text": [
            "/usr/local/lib/python3.6/dist-packages/statsmodels/base/model.py:492: HessianInversionWarning: Inverting hessian failed, no bse or cov_params available\n",
            "  'available', HessianInversionWarning)\n"
          ],
          "name": "stderr"
        },
        {
          "output_type": "stream",
          "text": [
            "Iteration : 713\n"
          ],
          "name": "stdout"
        },
        {
          "output_type": "stream",
          "text": [
            "/usr/local/lib/python3.6/dist-packages/statsmodels/base/model.py:492: HessianInversionWarning: Inverting hessian failed, no bse or cov_params available\n",
            "  'available', HessianInversionWarning)\n"
          ],
          "name": "stderr"
        },
        {
          "output_type": "stream",
          "text": [
            "Iteration : 714\n"
          ],
          "name": "stdout"
        },
        {
          "output_type": "stream",
          "text": [
            "/usr/local/lib/python3.6/dist-packages/statsmodels/base/model.py:492: HessianInversionWarning: Inverting hessian failed, no bse or cov_params available\n",
            "  'available', HessianInversionWarning)\n"
          ],
          "name": "stderr"
        },
        {
          "output_type": "stream",
          "text": [
            "Iteration : 715\n"
          ],
          "name": "stdout"
        },
        {
          "output_type": "stream",
          "text": [
            "/usr/local/lib/python3.6/dist-packages/statsmodels/base/model.py:492: HessianInversionWarning: Inverting hessian failed, no bse or cov_params available\n",
            "  'available', HessianInversionWarning)\n"
          ],
          "name": "stderr"
        },
        {
          "output_type": "stream",
          "text": [
            "Iteration : 716\n",
            "Iteration : 717\n",
            "Iteration : 718\n",
            "Iteration : 719\n",
            "Iteration : 720\n",
            "Iteration : 721\n",
            "Iteration : 722\n"
          ],
          "name": "stdout"
        },
        {
          "output_type": "stream",
          "text": [
            "/usr/local/lib/python3.6/dist-packages/statsmodels/base/model.py:492: HessianInversionWarning: Inverting hessian failed, no bse or cov_params available\n",
            "  'available', HessianInversionWarning)\n"
          ],
          "name": "stderr"
        },
        {
          "output_type": "stream",
          "text": [
            "Iteration : 723\n"
          ],
          "name": "stdout"
        },
        {
          "output_type": "stream",
          "text": [
            "/usr/local/lib/python3.6/dist-packages/statsmodels/base/model.py:492: HessianInversionWarning: Inverting hessian failed, no bse or cov_params available\n",
            "  'available', HessianInversionWarning)\n"
          ],
          "name": "stderr"
        },
        {
          "output_type": "stream",
          "text": [
            "Iteration : 724\n"
          ],
          "name": "stdout"
        },
        {
          "output_type": "stream",
          "text": [
            "/usr/local/lib/python3.6/dist-packages/statsmodels/base/model.py:492: HessianInversionWarning: Inverting hessian failed, no bse or cov_params available\n",
            "  'available', HessianInversionWarning)\n"
          ],
          "name": "stderr"
        },
        {
          "output_type": "stream",
          "text": [
            "Iteration : 725\n",
            "Iteration : 726\n",
            "Iteration : 727\n",
            "Iteration : 728\n",
            "Iteration : 729\n",
            "Iteration : 730\n",
            "Iteration : 731\n",
            "Iteration : 732\n",
            "Iteration : 733\n",
            "Iteration : 734\n",
            "Iteration : 735\n",
            "Iteration : 736\n",
            "Iteration : 737\n",
            "Iteration : 738\n",
            "Iteration : 739\n",
            "Iteration : 740\n",
            "Iteration : 741\n",
            "Iteration : 742\n",
            "Iteration : 743\n",
            "Iteration : 744\n",
            "Iteration : 745\n",
            "Iteration : 746\n",
            "Iteration : 747\n",
            "Iteration : 748\n",
            "Iteration : 749\n",
            "Iteration : 750\n",
            "Iteration : 751\n",
            "Iteration : 752\n",
            "Iteration : 753\n",
            "Iteration : 754\n",
            "Iteration : 755\n",
            "Iteration : 756\n",
            "Iteration : 757\n",
            "Iteration : 758\n",
            "Iteration : 759\n",
            "Iteration : 760\n",
            "Iteration : 761\n",
            "Iteration : 762\n",
            "Iteration : 763\n",
            "Iteration : 764\n",
            "Iteration : 765\n",
            "Iteration : 766\n",
            "Iteration : 767\n",
            "Iteration : 768\n",
            "Iteration : 769\n",
            "Iteration : 770\n",
            "Iteration : 771\n",
            "Iteration : 772\n",
            "Iteration : 773\n",
            "Iteration : 774\n",
            "Iteration : 775\n",
            "Iteration : 776\n",
            "Iteration : 777\n",
            "Iteration : 778\n",
            "Iteration : 779\n",
            "Iteration : 780\n",
            "Iteration : 781\n",
            "Iteration : 782\n",
            "Iteration : 783\n",
            "Iteration : 784\n",
            "Iteration : 785\n",
            "Iteration : 786\n",
            "Iteration : 787\n",
            "Iteration : 788\n",
            "Iteration : 789\n",
            "Iteration : 790\n",
            "Iteration : 791\n",
            "Iteration : 792\n",
            "Iteration : 793\n",
            "Iteration : 794\n",
            "Iteration : 795\n",
            "Iteration : 796\n",
            "Iteration : 797\n",
            "Iteration : 798\n",
            "Iteration : 799\n",
            "Iteration : 800\n",
            "Iteration : 801\n",
            "Iteration : 802\n",
            "Iteration : 803\n",
            "Iteration : 804\n",
            "Iteration : 805\n",
            "Iteration : 806\n",
            "Iteration : 807\n",
            "Iteration : 808\n",
            "Iteration : 809\n",
            "Iteration : 810\n",
            "Iteration : 811\n",
            "Iteration : 812\n",
            "Iteration : 813\n",
            "Iteration : 814\n",
            "Iteration : 815\n",
            "Iteration : 816\n",
            "Iteration : 817\n",
            "Iteration : 818\n",
            "Iteration : 819\n",
            "Iteration : 820\n",
            "Iteration : 821\n",
            "Iteration : 822\n",
            "Iteration : 823\n",
            "Iteration : 824\n",
            "Iteration : 825\n",
            "Iteration : 826\n",
            "Iteration : 827\n",
            "Iteration : 828\n",
            "Iteration : 829\n",
            "Iteration : 830\n",
            "Iteration : 831\n",
            "Iteration : 832\n",
            "Iteration : 833\n",
            "Iteration : 834\n",
            "Iteration : 835\n",
            "Iteration : 836\n",
            "Iteration : 837\n",
            "Iteration : 838\n",
            "Iteration : 839\n",
            "Iteration : 840\n",
            "Iteration : 841\n",
            "Iteration : 842\n",
            "Iteration : 843\n",
            "Iteration : 844\n",
            "Iteration : 845\n",
            "Iteration : 846\n",
            "Iteration : 847\n",
            "Iteration : 848\n",
            "Iteration : 849\n",
            "Iteration : 850\n",
            "Iteration : 851\n",
            "Iteration : 852\n",
            "Iteration : 853\n",
            "Iteration : 854\n"
          ],
          "name": "stdout"
        }
      ]
    },
    {
      "cell_type": "code",
      "metadata": {
        "id": "JFDwVlnirjg5",
        "colab_type": "code",
        "colab": {}
      },
      "source": [
        "\n",
        "temp = []\n",
        "for i in range(len(predictions)):\n",
        "    temp.append(predictions[i])\n",
        "predictions_inverse = np.exp(np.array(temp))\n",
        "start_test_no = len(all_data_log) - len(predictions_inverse) - 1\n",
        "inverse_test = np.array(np.exp(all_data_log[start_test_no+1:]))\n",
        "inverse_pred = np.array(np.exp(all_data_log[start_test_no:len(all_data_log)-1])+ predictions_inverse.flatten())"
      ],
      "execution_count": 32,
      "outputs": []
    },
    {
      "cell_type": "code",
      "metadata": {
        "id": "Dr50H1-nroso",
        "colab_type": "code",
        "colab": {
          "base_uri": "https://localhost:8080/",
          "height": 1000
        },
        "outputId": "cfb0b33a-0778-460f-8794-b3ef39214b9c"
      },
      "source": [
        "\n",
        "for k in range(len(inverse_test)):\n",
        "    print('counter=%f, predicted=%f, expected=%f' % (k+1, inverse_pred[k], inverse_test[k]))\n",
        "\n",
        "error = sqrt(mean_squared_error(inverse_test, inverse_pred))\n",
        "print('Test RMSE: %.3f' % error)"
      ],
      "execution_count": 33,
      "outputs": [
        {
          "output_type": "stream",
          "text": [
            "counter=1.000000, predicted=6482.681573, expected=7013.780000\n",
            "counter=2.000000, predicted=7014.846679, expected=7477.550000\n",
            "counter=3.000000, predicted=7478.613972, expected=7848.690000\n",
            "counter=4.000000, predicted=7849.741495, expected=8248.130000\n",
            "counter=5.000000, predicted=8249.171647, expected=8483.090000\n",
            "counter=6.000000, predicted=8484.115230, expected=8657.410000\n",
            "counter=7.000000, predicted=8658.421697, expected=8918.000000\n",
            "counter=8.000000, predicted=8919.017028, expected=9047.930000\n",
            "counter=9.000000, predicted=9048.944008, expected=9128.840000\n",
            "counter=10.000000, predicted=9129.845677, expected=9245.440000\n",
            "counter=11.000000, predicted=9246.447763, expected=9272.680000\n",
            "counter=12.000000, predicted=9273.679939, expected=9391.850000\n",
            "counter=13.000000, predicted=9392.855223, expected=9429.380000\n",
            "counter=14.000000, predicted=9430.382997, expected=9401.570000\n",
            "counter=15.000000, predicted=9402.566629, expected=9460.310000\n",
            "counter=16.000000, predicted=9461.312147, expected=9545.800000\n",
            "counter=17.000000, predicted=9546.805462, expected=9631.410000\n",
            "counter=18.000000, predicted=9632.418043, expected=9721.090000\n",
            "counter=19.000000, predicted=9722.097704, expected=9768.570000\n",
            "counter=20.000000, predicted=9769.575408, expected=9945.900000\n",
            "counter=21.000000, predicted=9946.912699, expected=9993.880000\n",
            "counter=22.000000, predicted=9994.886409, expected=10037.550000\n",
            "counter=23.000000, predicted=10038.553700, expected=9936.600000\n",
            "counter=24.000000, predicted=9937.592141, expected=9760.290000\n",
            "counter=25.000000, predicted=9761.274126, expected=9408.320000\n",
            "counter=26.000000, predicted=9409.288399, expected=9236.100000\n",
            "counter=27.000000, predicted=9237.077296, expected=9011.720000\n",
            "counter=28.000000, predicted=9012.694685, expected=8836.780000\n",
            "counter=29.000000, predicted=8837.759014, expected=8918.440000\n",
            "counter=30.000000, predicted=8919.437935, expected=8883.990000\n",
            "counter=31.000000, predicted=8884.985278, expected=8686.330000\n",
            "counter=32.000000, predicted=8687.311391, expected=8436.780000\n",
            "counter=33.000000, predicted=8437.755539, expected=8375.020000\n",
            "counter=34.000000, predicted=8376.006852, expected=8205.980000\n",
            "counter=35.000000, predicted=8206.963345, expected=8131.260000\n",
            "counter=36.000000, predicted=8132.248365, expected=7933.530000\n",
            "counter=37.000000, predicted=7934.512785, expected=7660.790000\n",
            "counter=38.000000, predicted=7661.761886, expected=7492.410000\n",
            "counter=39.000000, predicted=7493.390284, expected=7218.820000\n",
            "counter=40.000000, predicted=7219.791637, expected=6927.260000\n",
            "counter=41.000000, predicted=6928.226630, expected=6607.880000\n",
            "counter=42.000000, predicted=6608.841593, expected=6341.760000\n",
            "counter=43.000000, predicted=6342.724982, expected=6187.340000\n",
            "counter=44.000000, predicted=6188.319902, expected=6083.380000\n",
            "counter=45.000000, predicted=6084.369639, expected=6073.310000\n",
            "counter=46.000000, predicted=6074.310865, expected=6056.110000\n",
            "counter=47.000000, predicted=6057.114760, expected=6116.450000\n",
            "counter=48.000000, predicted=6117.462313, expected=6114.030000\n",
            "counter=49.000000, predicted=6115.039190, expected=6324.250000\n",
            "counter=50.000000, predicted=6325.278174, expected=6540.990000\n",
            "counter=51.000000, predicted=6542.022007, expected=6828.700000\n",
            "counter=52.000000, predicted=6829.741894, expected=7165.360000\n",
            "counter=53.000000, predicted=7166.403040, expected=7478.270000\n",
            "counter=54.000000, predicted=7479.311596, expected=7802.990000\n",
            "counter=55.000000, predicted=7804.025815, expected=7998.290000\n",
            "counter=56.000000, predicted=7999.316053, expected=8064.280000\n",
            "counter=57.000000, predicted=8065.293065, expected=8117.180000\n",
            "counter=58.000000, predicted=8118.186220, expected=8121.230000\n",
            "counter=59.000000, predicted=8122.232570, expected=8127.580000\n",
            "counter=60.000000, predicted=8128.579736, expected=8033.110000\n",
            "counter=61.000000, predicted=8034.102955, expected=7967.900000\n",
            "counter=62.000000, predicted=7968.891382, expected=7896.720000\n",
            "counter=63.000000, predicted=7897.712953, expected=7875.850000\n",
            "counter=64.000000, predicted=7876.845560, expected=7835.820000\n",
            "counter=65.000000, predicted=7836.816714, expected=7864.730000\n",
            "counter=66.000000, predicted=7865.730661, expected=7890.800000\n",
            "counter=67.000000, predicted=7891.803834, expected=7809.920000\n",
            "counter=68.000000, predicted=7810.913149, expected=7876.480000\n",
            "counter=69.000000, predicted=7877.485171, expected=7876.340000\n",
            "counter=70.000000, predicted=7877.340579, expected=7904.190000\n",
            "counter=71.000000, predicted=7905.193472, expected=7766.790000\n",
            "counter=72.000000, predicted=7767.778778, expected=7790.490000\n",
            "counter=73.000000, predicted=7791.490414, expected=7752.270000\n",
            "counter=74.000000, predicted=7753.266578, expected=7684.830000\n",
            "counter=75.000000, predicted=7685.824721, expected=7588.230000\n",
            "counter=76.000000, predicted=7589.220172, expected=7528.260000\n",
            "counter=77.000000, predicted=7529.253990, expected=7566.980000\n",
            "counter=78.000000, predicted=7567.982198, expected=7623.250000\n",
            "counter=79.000000, predicted=7624.257100, expected=7477.290000\n",
            "counter=80.000000, predicted=7478.279384, expected=7355.710000\n",
            "counter=81.000000, predicted=7356.698415, expected=7327.950000\n",
            "counter=82.000000, predicted=7328.945463, expected=7247.580000\n",
            "counter=83.000000, predicted=7248.574025, expected=7270.060000\n",
            "counter=84.000000, predicted=7271.061617, expected=7075.310000\n",
            "counter=85.000000, predicted=7076.295293, expected=6868.790000\n",
            "counter=86.000000, predicted=6869.768536, expected=6753.600000\n",
            "counter=87.000000, predicted=6754.587293, expected=6577.660000\n",
            "counter=88.000000, predicted=6578.642079, expected=6420.600000\n",
            "counter=89.000000, predicted=6421.584755, expected=6133.130000\n",
            "counter=90.000000, predicted=6134.099902, expected=5919.170000\n",
            "counter=91.000000, predicted=5920.145117, expected=5805.820000\n",
            "counter=92.000000, predicted=5806.806227, expected=5750.620000\n",
            "counter=93.000000, predicted=5751.617159, expected=5736.630000\n",
            "counter=94.000000, predicted=5737.633432, expected=5750.440000\n",
            "counter=95.000000, predicted=5751.449681, expected=5804.920000\n",
            "counter=96.000000, predicted=5805.934557, expected=5815.440000\n",
            "counter=97.000000, predicted=5816.451892, expected=5882.310000\n",
            "counter=98.000000, predicted=5883.326003, expected=6056.450000\n",
            "counter=99.000000, predicted=6057.480259, expected=6259.630000\n",
            "counter=100.000000, predicted=6260.664495, expected=6539.520000\n",
            "counter=101.000000, predicted=6540.563439, expected=6798.340000\n",
            "counter=102.000000, predicted=6799.380002, expected=7060.260000\n",
            "counter=103.000000, predicted=7061.299287, expected=7327.860000\n",
            "counter=104.000000, predicted=7328.896341, expected=7507.670000\n",
            "counter=105.000000, predicted=7508.697108, expected=7585.750000\n",
            "counter=106.000000, predicted=7586.763797, expected=7595.450000\n",
            "counter=107.000000, predicted=7596.455810, expected=7619.120000\n",
            "counter=108.000000, predicted=7620.123720, expected=7618.120000\n",
            "counter=109.000000, predicted=7619.121954, expected=7612.910000\n",
            "counter=110.000000, predicted=7613.909504, expected=7624.250000\n",
            "counter=111.000000, predicted=7625.252133, expected=7628.580000\n",
            "counter=112.000000, predicted=7629.580881, expected=7535.060000\n",
            "counter=113.000000, predicted=7536.053265, expected=7574.600000\n",
            "counter=114.000000, predicted=7575.601728, expected=7633.380000\n",
            "counter=115.000000, predicted=7634.387262, expected=7780.480000\n",
            "counter=116.000000, predicted=7781.493992, expected=7842.510000\n",
            "counter=117.000000, predicted=7843.519665, expected=7876.140000\n",
            "counter=118.000000, predicted=7877.144650, expected=7938.090000\n",
            "counter=119.000000, predicted=7939.097223, expected=7852.850000\n",
            "counter=120.000000, predicted=7853.843668, expected=7922.520000\n",
            "counter=121.000000, predicted=7923.524979, expected=7878.560000\n",
            "counter=122.000000, predicted=7879.556598, expected=7888.180000\n",
            "counter=123.000000, predicted=7889.180332, expected=7797.090000\n",
            "counter=124.000000, predicted=7798.081855, expected=7750.300000\n",
            "counter=125.000000, predicted=7751.294848, expected=7924.290000\n",
            "counter=126.000000, predicted=7925.302889, expected=7899.030000\n",
            "counter=127.000000, predicted=7900.031794, expected=7705.930000\n",
            "counter=128.000000, predicted=7706.913212, expected=7543.210000\n",
            "counter=129.000000, predicted=7544.192781, expected=7459.560000\n",
            "counter=130.000000, predicted=7460.548758, expected=7333.000000\n",
            "counter=131.000000, predicted=7333.987501, expected=7209.620000\n",
            "counter=132.000000, predicted=7210.606416, expected=7038.250000\n",
            "counter=133.000000, predicted=7039.233188, expected=6776.470000\n",
            "counter=134.000000, predicted=6777.440798, expected=6647.140000\n",
            "counter=135.000000, predicted=6648.124001, expected=6570.160000\n",
            "counter=136.000000, predicted=6571.151448, expected=6409.580000\n",
            "counter=137.000000, predicted=6410.564320, expected=6154.260000\n",
            "counter=138.000000, predicted=6155.230686, expected=5998.530000\n",
            "counter=139.000000, predicted=5999.506929, expected=5909.750000\n",
            "counter=140.000000, predicted=5910.736007, expected=5840.960000\n",
            "counter=141.000000, predicted=5841.952976, expected=5892.280000\n",
            "counter=142.000000, predicted=5893.287963, expected=5991.810000\n",
            "counter=143.000000, predicted=5992.828591, expected=6218.490000\n",
            "counter=144.000000, predicted=6219.524914, expected=6471.700000\n",
            "counter=145.000000, predicted=6472.740385, expected=6956.410000\n",
            "counter=146.000000, predicted=6957.474201, expected=7393.100000\n",
            "counter=147.000000, predicted=7394.159989, expected=7810.390000\n",
            "counter=148.000000, predicted=7811.443570, expected=8166.860000\n",
            "counter=149.000000, predicted=8167.898977, expected=8418.430000\n",
            "counter=150.000000, predicted=8419.455615, expected=8563.330000\n",
            "counter=151.000000, predicted=8564.339396, expected=8733.600000\n",
            "counter=152.000000, predicted=8734.609421, expected=8838.240000\n",
            "counter=153.000000, predicted=8839.243075, expected=8903.760000\n",
            "counter=154.000000, predicted=8904.762003, expected=8951.330000\n",
            "counter=155.000000, predicted=8952.328697, expected=8970.690000\n",
            "counter=156.000000, predicted=8971.689163, expected=8984.010000\n",
            "counter=157.000000, predicted=8985.007294, expected=8966.900000\n",
            "counter=158.000000, predicted=8967.897368, expected=8960.090000\n",
            "counter=159.000000, predicted=8961.086633, expected=9044.390000\n",
            "counter=160.000000, predicted=9045.395969, expected=9132.890000\n",
            "counter=161.000000, predicted=9133.893625, expected=9137.120000\n",
            "counter=162.000000, predicted=9138.117222, expected=9195.870000\n",
            "counter=163.000000, predicted=9196.870887, expected=9197.340000\n",
            "counter=164.000000, predicted=9198.341255, expected=9264.970000\n",
            "counter=165.000000, predicted=9265.974316, expected=9312.920000\n",
            "counter=166.000000, predicted=9313.924610, expected=9296.480000\n",
            "counter=167.000000, predicted=9297.475710, expected=9251.710000\n",
            "counter=168.000000, predicted=9252.701548, expected=9183.480000\n",
            "counter=169.000000, predicted=9184.470204, expected=8947.620000\n",
            "counter=170.000000, predicted=8948.599667, expected=8809.430000\n",
            "counter=171.000000, predicted=8810.413075, expected=8607.960000\n",
            "counter=172.000000, predicted=8608.939517, expected=8472.340000\n",
            "counter=173.000000, predicted=8473.325318, expected=8471.790000\n",
            "counter=174.000000, predicted=8472.783350, expected=8389.920000\n",
            "counter=175.000000, predicted=8390.910862, expected=8197.660000\n",
            "counter=176.000000, predicted=8198.640537, expected=7947.380000\n",
            "counter=177.000000, predicted=7948.356135, expected=7934.250000\n",
            "counter=178.000000, predicted=7935.243193, expected=7707.590000\n",
            "counter=179.000000, predicted=7708.570682, expected=7653.180000\n",
            "counter=180.000000, predicted=7654.172921, expected=7543.240000\n",
            "counter=181.000000, predicted=7544.229255, expected=7365.820000\n",
            "counter=182.000000, predicted=7366.804987, expected=7212.950000\n",
            "counter=183.000000, predicted=7213.933769, expected=7021.970000\n",
            "counter=184.000000, predicted=7022.950008, expected=6810.790000\n",
            "counter=185.000000, predicted=6811.764440, expected=6484.590000\n",
            "counter=186.000000, predicted=6485.552999, expected=6273.490000\n",
            "counter=187.000000, predicted=6274.458547, expected=6104.890000\n",
            "counter=188.000000, predicted=6105.866847, expected=6065.730000\n",
            "counter=189.000000, predicted=6066.723871, expected=6067.700000\n",
            "counter=190.000000, predicted=6068.703806, expected=6143.040000\n",
            "counter=191.000000, predicted=6144.054927, expected=6374.180000\n",
            "counter=192.000000, predicted=6375.214651, expected=6590.930000\n",
            "counter=193.000000, predicted=6591.966576, expected=7064.000000\n",
            "counter=194.000000, predicted=7065.061685, expected=7527.380000\n",
            "counter=195.000000, predicted=7528.441656, expected=7903.230000\n",
            "counter=196.000000, predicted=7904.280440, expected=8298.030000\n",
            "counter=197.000000, predicted=8299.071398, expected=8508.110000\n",
            "counter=198.000000, predicted=8509.132590, expected=8685.790000\n",
            "counter=199.000000, predicted=8686.801743, expected=8867.060000\n",
            "counter=200.000000, predicted=8868.075255, expected=9003.980000\n",
            "counter=201.000000, predicted=9004.986826, expected=9030.440000\n",
            "counter=202.000000, predicted=9031.439160, expected=9152.880000\n",
            "counter=203.000000, predicted=9153.884423, expected=9153.660000\n",
            "counter=204.000000, predicted=9154.658221, expected=9233.800000\n",
            "counter=205.000000, predicted=9234.803460, expected=9139.290000\n",
            "counter=206.000000, predicted=9140.281475, expected=9178.550000\n",
            "counter=207.000000, predicted=9179.549930, expected=9228.850000\n",
            "counter=208.000000, predicted=9229.849115, expected=9328.660000\n",
            "counter=209.000000, predicted=9329.669534, expected=9380.410000\n",
            "counter=210.000000, predicted=9381.415121, expected=9504.980000\n",
            "counter=211.000000, predicted=9505.991919, expected=9538.700000\n",
            "counter=212.000000, predicted=9539.703636, expected=9641.240000\n",
            "counter=213.000000, predicted=9642.249338, expected=9747.030000\n",
            "counter=214.000000, predicted=9748.033907, expected=9822.610000\n",
            "counter=215.000000, predicted=9823.618484, expected=9723.720000\n",
            "counter=216.000000, predicted=9724.712204, expected=9615.170000\n",
            "counter=217.000000, predicted=9616.160110, expected=9331.750000\n",
            "counter=218.000000, predicted=9332.723134, expected=9206.870000\n",
            "counter=219.000000, predicted=9207.854379, expected=8950.420000\n",
            "counter=220.000000, predicted=8951.394445, expected=8783.300000\n",
            "counter=221.000000, predicted=8784.284094, expected=8794.300000\n",
            "counter=222.000000, predicted=8795.292953, expected=8798.440000\n",
            "counter=223.000000, predicted=8799.436353, expected=8584.640000\n",
            "counter=224.000000, predicted=8585.625198, expected=8275.880000\n",
            "counter=225.000000, predicted=8276.854449, expected=8198.760000\n",
            "counter=226.000000, predicted=8199.744521, expected=7966.630000\n",
            "counter=227.000000, predicted=7967.610333, expected=7880.910000\n",
            "counter=228.000000, predicted=7881.898222, expected=7719.530000\n",
            "counter=229.000000, predicted=7720.516363, expected=7470.280000\n",
            "counter=230.000000, predicted=7471.256046, expected=7295.950000\n",
            "counter=231.000000, predicted=7296.929784, expected=7061.780000\n",
            "counter=232.000000, predicted=7062.754107, expected=6840.060000\n",
            "counter=233.000000, predicted=6841.034808, expected=6503.180000\n",
            "counter=234.000000, predicted=6504.140825, expected=6250.010000\n",
            "counter=235.000000, predicted=6250.976295, expected=6104.320000\n",
            "counter=236.000000, predicted=6105.297201, expected=6101.590000\n",
            "counter=237.000000, predicted=6102.590627, expected=6095.140000\n",
            "counter=238.000000, predicted=6096.144471, expected=6173.530000\n",
            "counter=239.000000, predicted=6174.547061, expected=6453.590000\n",
            "counter=240.000000, predicted=6454.628756, expected=6606.380000\n",
            "counter=241.000000, predicted=6607.416284, expected=7093.730000\n",
            "counter=242.000000, predicted=7094.791153, expected=7517.620000\n",
            "counter=243.000000, predicted=7518.684222, expected=7920.360000\n",
            "counter=244.000000, predicted=7921.413763, expected=8343.840000\n",
            "counter=245.000000, predicted=8344.885697, expected=8600.620000\n",
            "counter=246.000000, predicted=8601.647588, expected=8750.320000\n",
            "counter=247.000000, predicted=8751.331246, expected=8969.410000\n",
            "counter=248.000000, predicted=8970.422623, expected=9123.600000\n",
            "counter=249.000000, predicted=9124.608176, expected=9238.180000\n",
            "counter=250.000000, predicted=9239.192839, expected=9288.830000\n",
            "counter=251.000000, predicted=9289.835888, expected=9306.020000\n",
            "counter=252.000000, predicted=9307.027145, expected=9335.730000\n",
            "counter=253.000000, predicted=9336.736246, expected=9319.090000\n",
            "counter=254.000000, predicted=9320.087027, expected=9339.930000\n",
            "counter=255.000000, predicted=9340.928710, expected=9397.280000\n",
            "counter=256.000000, predicted=9398.292363, expected=9458.480000\n",
            "counter=257.000000, predicted=9459.490305, expected=9540.690000\n",
            "counter=258.000000, predicted=9541.701255, expected=9667.740000\n",
            "counter=259.000000, predicted=9668.751141, expected=9663.260000\n",
            "counter=260.000000, predicted=9664.261166, expected=9746.200000\n",
            "counter=261.000000, predicted=9747.200437, expected=9766.100000\n",
            "counter=262.000000, predicted=9767.097813, expected=9900.810000\n",
            "counter=263.000000, predicted=9901.814434, expected=9802.370000\n",
            "counter=264.000000, predicted=9803.360145, expected=9673.500000\n",
            "counter=265.000000, predicted=9674.483867, expected=9348.200000\n",
            "counter=266.000000, predicted=9349.167600, expected=9182.340000\n",
            "counter=267.000000, predicted=9183.319317, expected=8917.530000\n",
            "counter=268.000000, predicted=8918.504676, expected=8788.810000\n",
            "counter=269.000000, predicted=8789.798817, expected=8775.440000\n",
            "counter=270.000000, predicted=8776.438552, expected=8785.800000\n",
            "counter=271.000000, predicted=8786.810958, expected=8678.740000\n",
            "counter=272.000000, predicted=8679.734640, expected=8367.020000\n",
            "counter=273.000000, predicted=8367.996651, expected=8364.190000\n",
            "counter=274.000000, predicted=8365.181858, expected=8033.490000\n",
            "counter=275.000000, predicted=8034.462756, expected=7916.490000\n",
            "counter=276.000000, predicted=7917.464321, expected=7736.950000\n",
            "counter=277.000000, predicted=7737.924263, expected=7491.690000\n",
            "counter=278.000000, predicted=7492.666801, expected=7331.930000\n",
            "counter=279.000000, predicted=7332.897354, expected=7142.660000\n",
            "counter=280.000000, predicted=7143.640651, expected=6889.670000\n",
            "counter=281.000000, predicted=6890.631922, expected=6611.040000\n",
            "counter=282.000000, predicted=6612.000227, expected=6398.990000\n",
            "counter=283.000000, predicted=6399.954917, expected=6239.070000\n",
            "counter=284.000000, predicted=6240.047431, expected=6172.630000\n",
            "counter=285.000000, predicted=6173.619858, expected=6190.130000\n",
            "counter=286.000000, predicted=6191.136748, expected=6246.230000\n",
            "counter=287.000000, predicted=6247.243832, expected=6489.990000\n",
            "counter=288.000000, predicted=6491.027930, expected=6652.900000\n",
            "counter=289.000000, predicted=6653.933089, expected=7094.200000\n",
            "counter=290.000000, predicted=7095.258470, expected=7508.250000\n",
            "counter=291.000000, predicted=7509.308740, expected=7886.720000\n",
            "counter=292.000000, predicted=7887.772392, expected=8279.900000\n",
            "counter=293.000000, predicted=8280.940604, expected=8556.400000\n",
            "counter=294.000000, predicted=8557.433975, expected=8781.590000\n",
            "counter=295.000000, predicted=8782.607563, expected=8992.830000\n",
            "counter=296.000000, predicted=8993.850172, expected=9101.030000\n",
            "counter=297.000000, predicted=9102.038279, expected=9206.440000\n",
            "counter=298.000000, predicted=9207.451124, expected=9312.810000\n",
            "counter=299.000000, predicted=9313.819972, expected=9336.680000\n",
            "counter=300.000000, predicted=9337.690279, expected=9363.870000\n",
            "counter=301.000000, predicted=9364.876083, expected=9402.700000\n",
            "counter=302.000000, predicted=9403.712053, expected=9436.410000\n",
            "counter=303.000000, predicted=9437.419419, expected=9571.140000\n",
            "counter=304.000000, predicted=9572.159006, expected=9680.910000\n",
            "counter=305.000000, predicted=9681.925879, expected=9805.170000\n",
            "counter=306.000000, predicted=9806.186080, expected=9928.740000\n",
            "counter=307.000000, predicted=9929.750663, expected=10019.290000\n",
            "counter=308.000000, predicted=10020.298349, expected=10169.300000\n",
            "counter=309.000000, predicted=10170.306718, expected=10194.210000\n",
            "counter=310.000000, predicted=10195.214254, expected=10291.220000\n",
            "counter=311.000000, predicted=10292.219747, expected=10269.270000\n",
            "counter=312.000000, predicted=10270.265540, expected=10243.630000\n",
            "counter=313.000000, predicted=10244.623027, expected=10038.530000\n",
            "counter=314.000000, predicted=10039.512125, expected=9940.180000\n",
            "counter=315.000000, predicted=9941.167969, expected=9728.010000\n",
            "counter=316.000000, predicted=9728.993821, expected=9562.250000\n",
            "counter=317.000000, predicted=9563.234092, expected=9528.030000\n",
            "counter=318.000000, predicted=9529.027435, expected=9470.510000\n",
            "counter=319.000000, predicted=9471.513421, expected=9197.480000\n",
            "counter=320.000000, predicted=9198.461503, expected=8844.270000\n",
            "counter=321.000000, predicted=8845.238408, expected=8728.060000\n",
            "counter=322.000000, predicted=8729.039822, expected=8478.730000\n",
            "counter=323.000000, predicted=8479.706693, expected=8288.860000\n",
            "counter=324.000000, predicted=8289.832272, expected=8023.400000\n",
            "counter=325.000000, predicted=8024.365737, expected=7742.760000\n",
            "counter=326.000000, predicted=7743.720469, expected=7534.080000\n",
            "counter=327.000000, predicted=7535.044161, expected=7264.430000\n",
            "counter=328.000000, predicted=7265.392578, expected=6986.300000\n",
            "counter=329.000000, predicted=6987.258271, expected=6679.360000\n",
            "counter=330.000000, predicted=6680.316205, expected=6437.050000\n",
            "counter=331.000000, predicted=6438.012247, expected=6316.730000\n",
            "counter=332.000000, predicted=6317.709856, expected=6198.140000\n",
            "counter=333.000000, predicted=6199.126950, expected=6204.620000\n",
            "counter=334.000000, predicted=6205.622096, expected=6266.400000\n",
            "counter=335.000000, predicted=6267.414116, expected=6501.900000\n",
            "counter=336.000000, predicted=6502.937161, expected=6663.100000\n",
            "counter=337.000000, predicted=6664.132042, expected=7132.310000\n",
            "counter=338.000000, predicted=7133.371244, expected=7517.820000\n",
            "counter=339.000000, predicted=7518.876583, expected=7916.470000\n",
            "counter=340.000000, predicted=7917.522994, expected=8348.780000\n",
            "counter=341.000000, predicted=8349.824507, expected=8730.180000\n",
            "counter=342.000000, predicted=8731.225136, expected=8964.480000\n",
            "counter=343.000000, predicted=8965.500982, expected=9296.340000\n",
            "counter=344.000000, predicted=9297.370526, expected=9573.670000\n",
            "counter=345.000000, predicted=9574.694188, expected=9724.490000\n",
            "counter=346.000000, predicted=9725.510762, expected=9973.060000\n",
            "counter=347.000000, predicted=9974.079796, expected=10202.530000\n",
            "counter=348.000000, predicted=10203.560212, expected=10430.560000\n",
            "counter=349.000000, predicted=10431.585648, expected=10613.260000\n",
            "counter=350.000000, predicted=10614.287461, expected=10791.560000\n",
            "counter=351.000000, predicted=10792.581825, expected=10977.490000\n",
            "counter=352.000000, predicted=10978.514522, expected=11139.110000\n",
            "counter=353.000000, predicted=11140.128043, expected=11296.330000\n",
            "counter=354.000000, predicted=11297.347229, expected=11501.470000\n",
            "counter=355.000000, predicted=11502.484865, expected=11634.920000\n",
            "counter=356.000000, predicted=11635.931366, expected=11687.340000\n",
            "counter=357.000000, predicted=11688.340088, expected=11792.170000\n",
            "counter=358.000000, predicted=11793.172080, expected=11865.940000\n",
            "counter=359.000000, predicted=11866.939999, expected=11916.820000\n",
            "counter=360.000000, predicted=11917.820350, expected=11823.390000\n",
            "counter=361.000000, predicted=11824.380715, expected=11410.090000\n",
            "counter=362.000000, predicted=11411.061126, expected=10947.780000\n",
            "counter=363.000000, predicted=10948.739667, expected=11001.380000\n",
            "counter=364.000000, predicted=11002.375730, expected=10853.710000\n",
            "counter=365.000000, predicted=10854.707162, expected=10805.530000\n",
            "counter=366.000000, predicted=10806.530837, expected=10787.370000\n",
            "counter=367.000000, predicted=10788.371793, expected=10458.920000\n",
            "counter=368.000000, predicted=10459.905260, expected=10076.410000\n",
            "counter=369.000000, predicted=10077.375268, expected=9925.290000\n",
            "counter=370.000000, predicted=9926.271615, expected=9544.000000\n",
            "counter=371.000000, predicted=9544.965647, expected=9215.400000\n",
            "counter=372.000000, predicted=9216.362582, expected=8822.960000\n",
            "counter=373.000000, predicted=8823.912130, expected=8341.520000\n",
            "counter=374.000000, predicted=8342.465369, expected=7989.640000\n",
            "counter=375.000000, predicted=7990.585828, expected=7686.590000\n",
            "counter=376.000000, predicted=7687.548937, expected=7347.010000\n",
            "counter=377.000000, predicted=7347.963207, expected=7006.120000\n",
            "counter=378.000000, predicted=7007.075070, expected=6792.920000\n",
            "counter=379.000000, predicted=6793.885234, expected=6661.440000\n",
            "counter=380.000000, predicted=6662.423446, expected=6604.360000\n",
            "counter=381.000000, predicted=6605.353359, expected=6512.140000\n",
            "counter=382.000000, predicted=6513.134947, expected=6435.400000\n",
            "counter=383.000000, predicted=6436.392434, expected=6481.750000\n",
            "counter=384.000000, predicted=6482.757123, expected=6443.010000\n",
            "counter=385.000000, predicted=6444.010082, expected=6546.070000\n",
            "counter=386.000000, predicted=6547.080673, expected=6746.530000\n",
            "counter=387.000000, predicted=6747.553814, expected=7026.900000\n",
            "counter=388.000000, predicted=7027.937235, expected=7397.150000\n",
            "counter=389.000000, predicted=7398.193212, expected=7745.490000\n",
            "counter=390.000000, predicted=7746.534952, expected=8008.620000\n",
            "counter=391.000000, predicted=8009.650442, expected=8304.120000\n",
            "counter=392.000000, predicted=8305.152260, expected=8446.000000\n",
            "counter=393.000000, predicted=8447.017989, expected=8596.040000\n",
            "counter=394.000000, predicted=8597.051304, expected=8749.650000\n",
            "counter=395.000000, predicted=8750.666982, expected=8809.990000\n",
            "counter=396.000000, predicted=8811.004705, expected=8938.490000\n",
            "counter=397.000000, predicted=8939.495676, expected=8929.210000\n",
            "counter=398.000000, predicted=8930.209303, expected=8972.620000\n",
            "counter=399.000000, predicted=8973.620161, expected=8990.500000\n",
            "counter=400.000000, predicted=8991.500028, expected=9039.880000\n",
            "counter=401.000000, predicted=9040.881648, expected=9049.510000\n",
            "counter=402.000000, predicted=9050.511011, expected=9075.270000\n",
            "counter=403.000000, predicted=9076.271627, expected=9039.630000\n",
            "counter=404.000000, predicted=9040.624668, expected=9050.410000\n",
            "counter=405.000000, predicted=9051.406047, expected=9075.300000\n",
            "counter=406.000000, predicted=9076.296952, expected=9101.270000\n",
            "counter=407.000000, predicted=9102.269044, expected=9000.280000\n",
            "counter=408.000000, predicted=9001.267911, expected=8984.430000\n",
            "counter=409.000000, predicted=8985.423591, expected=8842.640000\n",
            "counter=410.000000, predicted=8843.626122, expected=8651.660000\n",
            "counter=411.000000, predicted=8652.642116, expected=8509.480000\n",
            "counter=412.000000, predicted=8510.462734, expected=8401.550000\n",
            "counter=413.000000, predicted=8402.541812, expected=8483.310000\n",
            "counter=414.000000, predicted=8484.317273, expected=8499.040000\n",
            "counter=415.000000, predicted=8500.050640, expected=8353.870000\n",
            "counter=416.000000, predicted=8354.861238, expected=8161.960000\n",
            "counter=417.000000, predicted=8162.940623, expected=8069.530000\n",
            "counter=418.000000, predicted=8070.515394, expected=7931.610000\n",
            "counter=419.000000, predicted=7932.593914, expected=7814.740000\n",
            "counter=420.000000, predicted=7815.721718, expected=7601.460000\n",
            "counter=421.000000, predicted=7602.431962, expected=7331.210000\n",
            "counter=422.000000, predicted=7332.172202, expected=7155.700000\n",
            "counter=423.000000, predicted=7156.667756, expected=6980.240000\n",
            "counter=424.000000, predicted=6981.212947, expected=6736.490000\n",
            "counter=425.000000, predicted=6737.455782, expected=6415.960000\n",
            "counter=426.000000, predicted=6416.915026, expected=6229.630000\n",
            "counter=427.000000, predicted=6230.596728, expected=6102.530000\n",
            "counter=428.000000, predicted=6103.510484, expected=6023.800000\n",
            "counter=429.000000, predicted=6024.790300, expected=5994.660000\n",
            "counter=430.000000, predicted=5995.657475, expected=5998.430000\n",
            "counter=431.000000, predicted=5999.434804, expected=6036.220000\n",
            "counter=432.000000, predicted=6037.228213, expected=6013.710000\n",
            "counter=433.000000, predicted=6014.711737, expected=6087.880000\n",
            "counter=434.000000, predicted=6088.887718, expected=6235.320000\n",
            "counter=435.000000, predicted=6236.339812, expected=6503.890000\n",
            "counter=436.000000, predicted=6504.927000, expected=6826.390000\n",
            "counter=437.000000, predicted=6827.433959, expected=7179.800000\n",
            "counter=438.000000, predicted=7180.847694, expected=7488.450000\n",
            "counter=439.000000, predicted=7489.490343, expected=7784.740000\n",
            "counter=440.000000, predicted=7785.777271, expected=8027.680000\n",
            "counter=441.000000, predicted=8028.704621, expected=8251.390000\n",
            "counter=442.000000, predicted=8252.410393, expected=8431.270000\n",
            "counter=443.000000, predicted=8432.283892, expected=8682.150000\n",
            "counter=444.000000, predicted=8683.169483, expected=8896.290000\n",
            "counter=445.000000, predicted=8897.307040, expected=9099.480000\n",
            "counter=446.000000, predicted=9100.497326, expected=9356.050000\n",
            "counter=447.000000, predicted=9357.069428, expected=9572.540000\n",
            "counter=448.000000, predicted=9573.558761, expected=9747.180000\n",
            "counter=449.000000, predicted=9748.193632, expected=9926.960000\n",
            "counter=450.000000, predicted=9927.973521, expected=10031.290000\n",
            "counter=451.000000, predicted=10032.296895, expected=10125.180000\n",
            "counter=452.000000, predicted=10126.185772, expected=10264.050000\n",
            "counter=453.000000, predicted=10265.057385, expected=10323.650000\n",
            "counter=454.000000, predicted=10324.654538, expected=10459.470000\n",
            "counter=455.000000, predicted=10460.473282, expected=10474.840000\n",
            "counter=456.000000, predicted=10475.836525, expected=10546.320000\n",
            "counter=457.000000, predicted=10547.323499, expected=10525.940000\n",
            "counter=458.000000, predicted=10526.938056, expected=10484.200000\n",
            "counter=459.000000, predicted=10485.190555, expected=10332.020000\n",
            "counter=460.000000, predicted=10333.007161, expected=10228.150000\n",
            "counter=461.000000, predicted=10229.139031, expected=10191.040000\n",
            "counter=462.000000, predicted=10192.033733, expected=10198.570000\n",
            "counter=463.000000, predicted=10199.570388, expected=10003.880000\n",
            "counter=464.000000, predicted=10004.867462, expected=9717.090000\n",
            "counter=465.000000, predicted=9718.062862, expected=9446.540000\n",
            "counter=466.000000, predicted=9447.513603, expected=9031.040000\n",
            "counter=467.000000, predicted=9032.003676, expected=8714.480000\n",
            "counter=468.000000, predicted=8715.446522, expected=8226.380000\n",
            "counter=469.000000, predicted=8227.327032, expected=7847.180000\n",
            "counter=470.000000, predicted=7848.127370, expected=7614.100000\n",
            "counter=471.000000, predicted=7615.071990, expected=7403.100000\n",
            "counter=472.000000, predicted=7404.079849, expected=7193.180000\n",
            "counter=473.000000, predicted=7194.160871, expected=6830.080000\n",
            "counter=474.000000, predicted=6831.045289, expected=6614.070000\n",
            "counter=475.000000, predicted=6615.033806, expected=6488.860000\n",
            "counter=476.000000, predicted=6489.843775, expected=6419.540000\n",
            "counter=477.000000, predicted=6420.534582, expected=6374.050000\n",
            "counter=478.000000, predicted=6375.048818, expected=6395.460000\n",
            "counter=479.000000, predicted=6396.467404, expected=6553.020000\n",
            "counter=480.000000, predicted=6554.040934, expected=6677.170000\n",
            "counter=481.000000, predicted=6678.193111, expected=6986.500000\n",
            "counter=482.000000, predicted=6987.538561, expected=7320.330000\n",
            "counter=483.000000, predicted=7321.373811, expected=7736.540000\n",
            "counter=484.000000, predicted=7737.591798, expected=8148.820000\n",
            "counter=485.000000, predicted=8149.867735, expected=8526.860000\n",
            "counter=486.000000, predicted=8527.905669, expected=8889.670000\n",
            "counter=487.000000, predicted=8890.706991, expected=9305.780000\n",
            "counter=488.000000, predicted=9306.823759, expected=9584.120000\n",
            "counter=489.000000, predicted=9585.151480, expected=9774.590000\n",
            "counter=490.000000, predicted=9775.612656, expected=9963.790000\n",
            "counter=491.000000, predicted=9964.808383, expected=10046.760000\n",
            "counter=492.000000, predicted=10047.774379, expected=10177.950000\n",
            "counter=493.000000, predicted=10178.963255, expected=10211.630000\n",
            "counter=494.000000, predicted=10212.640001, expected=10291.000000\n",
            "counter=495.000000, predicted=10292.009253, expected=10418.570000\n",
            "counter=496.000000, predicted=10419.584243, expected=10457.390000\n",
            "counter=497.000000, predicted=10458.398229, expected=10370.680000\n",
            "counter=498.000000, predicted=10371.668732, expected=10414.620000\n",
            "counter=499.000000, predicted=10415.619757, expected=10457.090000\n",
            "counter=500.000000, predicted=10458.092534, expected=10442.120000\n",
            "counter=501.000000, predicted=10443.117952, expected=10343.710000\n",
            "counter=502.000000, predicted=10344.698842, expected=10345.220000\n",
            "counter=503.000000, predicted=10346.214800, expected=10156.290000\n",
            "counter=504.000000, predicted=10157.273538, expected=9982.810000\n",
            "counter=505.000000, predicted=9983.791309, expected=9670.630000\n",
            "counter=506.000000, predicted=9671.600231, expected=9470.170000\n",
            "counter=507.000000, predicted=9471.148141, expected=9293.400000\n",
            "counter=508.000000, predicted=9294.380795, expected=9097.850000\n",
            "counter=509.000000, predicted=9098.834460, expected=8988.700000\n",
            "counter=510.000000, predicted=8989.686701, expected=8906.930000\n",
            "counter=511.000000, predicted=8907.925541, expected=8671.440000\n",
            "counter=512.000000, predicted=8672.419453, expected=8392.590000\n",
            "counter=513.000000, predicted=8393.561886, expected=8357.800000\n",
            "counter=514.000000, predicted=8358.787031, expected=8098.610000\n",
            "counter=515.000000, predicted=8099.587483, expected=7955.580000\n",
            "counter=516.000000, predicted=7956.555871, expected=7709.660000\n",
            "counter=517.000000, predicted=7710.629731, expected=7429.300000\n",
            "counter=518.000000, predicted=7430.262752, expected=7220.640000\n",
            "counter=519.000000, predicted=7221.605015, expected=7013.250000\n",
            "counter=520.000000, predicted=7014.220567, expected=6759.310000\n",
            "counter=521.000000, predicted=6760.273250, expected=6425.720000\n",
            "counter=522.000000, predicted=6426.681847, expected=6212.550000\n",
            "counter=523.000000, predicted=6213.511940, expected=6040.060000\n",
            "counter=524.000000, predicted=6041.036917, expected=5919.860000\n",
            "counter=525.000000, predicted=5920.841104, expected=5922.490000\n",
            "counter=526.000000, predicted=5923.488764, expected=5992.990000\n",
            "counter=527.000000, predicted=5994.003304, expected=6117.110000\n",
            "counter=528.000000, predicted=6118.132245, expected=6284.480000\n",
            "counter=529.000000, predicted=6285.507900, expected=6561.200000\n",
            "counter=530.000000, predicted=6562.240939, expected=6813.010000\n",
            "counter=531.000000, predicted=6814.049346, expected=7102.620000\n",
            "counter=532.000000, predicted=7103.659677, expected=7392.640000\n",
            "counter=533.000000, predicted=7393.677070, expected=7703.280000\n",
            "counter=534.000000, predicted=7704.318565, expected=7871.760000\n",
            "counter=535.000000, predicted=7872.781975, expected=8012.470000\n",
            "counter=536.000000, predicted=8013.485733, expected=8099.590000\n",
            "counter=537.000000, predicted=8100.598394, expected=8139.490000\n",
            "counter=538.000000, predicted=8140.496474, expected=8182.430000\n",
            "counter=539.000000, predicted=8183.433908, expected=8117.050000\n",
            "counter=540.000000, predicted=8118.048635, expected=8059.840000\n",
            "counter=541.000000, predicted=8060.834364, expected=8019.830000\n",
            "counter=542.000000, predicted=8020.825357, expected=7986.190000\n",
            "counter=543.000000, predicted=7987.189277, expected=7929.000000\n",
            "counter=544.000000, predicted=7929.997759, expected=7845.050000\n",
            "counter=545.000000, predicted=7846.042455, expected=7786.540000\n",
            "counter=546.000000, predicted=7787.533175, expected=7797.880000\n",
            "counter=547.000000, predicted=7798.878593, expected=7807.040000\n",
            "counter=548.000000, predicted=7808.040269, expected=7783.040000\n",
            "counter=549.000000, predicted=7784.035065, expected=7736.690000\n",
            "counter=550.000000, predicted=7737.681203, expected=7746.790000\n",
            "counter=551.000000, predicted=7747.790558, expected=7712.030000\n",
            "counter=552.000000, predicted=7713.027560, expected=7645.500000\n",
            "counter=553.000000, predicted=7646.489973, expected=7460.240000\n",
            "counter=554.000000, predicted=7461.218045, expected=7304.170000\n",
            "counter=555.000000, predicted=7305.148073, expected=7129.930000\n",
            "counter=556.000000, predicted=7130.907604, expected=7068.550000\n",
            "counter=557.000000, predicted=7069.540798, expected=7138.110000\n",
            "counter=558.000000, predicted=7139.118124, expected=7129.850000\n",
            "counter=559.000000, predicted=7130.857638, expected=7036.310000\n",
            "counter=560.000000, predicted=7037.302551, expected=6933.410000\n",
            "counter=561.000000, predicted=6934.399207, expected=7087.390000\n",
            "counter=562.000000, predicted=7088.403155, expected=7021.760000\n",
            "counter=563.000000, predicted=7022.758840, expected=7041.130000\n",
            "counter=564.000000, predicted=7042.127969, expected=6994.350000\n",
            "counter=565.000000, predicted=6995.344988, expected=6759.720000\n",
            "counter=566.000000, predicted=6760.691755, expected=6622.160000\n",
            "counter=567.000000, predicted=6623.128986, expected=6423.170000\n",
            "counter=568.000000, predicted=6424.140658, expected=6151.570000\n",
            "counter=569.000000, predicted=6152.527139, expected=5800.690000\n",
            "counter=570.000000, predicted=5801.635482, expected=5554.960000\n",
            "counter=571.000000, predicted=5555.912850, expected=5346.160000\n",
            "counter=572.000000, predicted=5347.126736, expected=5270.870000\n",
            "counter=573.000000, predicted=5271.853589, expected=5180.400000\n",
            "counter=574.000000, predicted=5181.388315, expected=5189.990000\n",
            "counter=575.000000, predicted=5190.992699, expected=5225.610000\n",
            "counter=576.000000, predicted=5226.619208, expected=5225.440000\n",
            "counter=577.000000, predicted=5226.446923, expected=5360.650000\n",
            "counter=578.000000, predicted=5361.668793, expected=5553.350000\n",
            "counter=579.000000, predicted=5554.383660, expected=5724.610000\n",
            "counter=580.000000, predicted=5725.640005, expected=6027.590000\n",
            "counter=581.000000, predicted=6028.633910, expected=6285.080000\n",
            "counter=582.000000, predicted=6286.120643, expected=6466.660000\n",
            "counter=583.000000, predicted=6467.688649, expected=6627.680000\n",
            "counter=584.000000, predicted=6628.698949, expected=6738.830000\n",
            "counter=585.000000, predicted=6739.841967, expected=6846.050000\n",
            "counter=586.000000, predicted=6847.058050, expected=6899.690000\n",
            "counter=587.000000, predicted=6900.693519, expected=6889.280000\n",
            "counter=588.000000, predicted=6890.275274, expected=6804.460000\n",
            "counter=589.000000, predicted=6805.447026, expected=6709.320000\n",
            "counter=590.000000, predicted=6710.303347, expected=6560.960000\n",
            "counter=591.000000, predicted=6561.938629, expected=6399.300000\n",
            "counter=592.000000, predicted=6400.279732, expected=6236.400000\n",
            "counter=593.000000, predicted=6237.378034, expected=6134.740000\n",
            "counter=594.000000, predicted=6135.723501, expected=6150.190000\n",
            "counter=595.000000, predicted=6151.190080, expected=6127.950000\n",
            "counter=596.000000, predicted=6128.951205, expected=6094.640000\n",
            "counter=597.000000, predicted=6095.640064, expected=6104.670000\n",
            "counter=598.000000, predicted=6105.672663, expected=6145.800000\n",
            "counter=599.000000, predicted=6146.802159, expected=6168.480000\n",
            "counter=600.000000, predicted=6169.485600, expected=6228.250000\n",
            "counter=601.000000, predicted=6229.255133, expected=6257.470000\n",
            "counter=602.000000, predicted=6258.473483, expected=6268.820000\n",
            "counter=603.000000, predicted=6269.822246, expected=6291.750000\n",
            "counter=604.000000, predicted=6292.752941, expected=6316.610000\n",
            "counter=605.000000, predicted=6317.613141, expected=6485.610000\n",
            "counter=606.000000, predicted=6486.633432, expected=6518.500000\n",
            "counter=607.000000, predicted=6519.515518, expected=6508.800000\n",
            "counter=608.000000, predicted=6509.800865, expected=6459.360000\n",
            "counter=609.000000, predicted=6460.352488, expected=6546.560000\n",
            "counter=610.000000, predicted=6547.566137, expected=6518.170000\n",
            "counter=611.000000, predicted=6519.170186, expected=6603.170000\n",
            "counter=612.000000, predicted=6604.179172, expected=6530.570000\n",
            "counter=613.000000, predicted=6531.561328, expected=6389.510000\n",
            "counter=614.000000, predicted=6390.494186, expected=6301.460000\n",
            "counter=615.000000, predicted=6302.449384, expected=6124.510000\n",
            "counter=616.000000, predicted=6125.487386, expected=5914.390000\n",
            "counter=617.000000, predicted=5915.351664, expected=5620.810000\n",
            "counter=618.000000, predicted=5621.764106, expected=5352.960000\n",
            "counter=619.000000, predicted=5353.909084, expected=5212.280000\n",
            "counter=620.000000, predicted=5213.250216, expected=5152.930000\n",
            "counter=621.000000, predicted=5153.919030, expected=5113.030000\n",
            "counter=622.000000, predicted=5114.029311, expected=5124.080000\n",
            "counter=623.000000, predicted=5125.086226, expected=5169.800000\n",
            "counter=624.000000, predicted=5170.813683, expected=5206.710000\n",
            "counter=625.000000, predicted=5207.721459, expected=5288.570000\n",
            "counter=626.000000, predicted=5289.586970, expected=5387.550000\n",
            "counter=627.000000, predicted=5388.567567, expected=5534.050000\n",
            "counter=628.000000, predicted=5535.074674, expected=5774.020000\n",
            "counter=629.000000, predicted=5775.055466, expected=5972.930000\n",
            "counter=630.000000, predicted=5973.964408, expected=6206.830000\n",
            "counter=631.000000, predicted=6207.862759, expected=6412.440000\n",
            "counter=632.000000, predicted=6413.469144, expected=6544.790000\n",
            "counter=633.000000, predicted=6545.812608, expected=6680.080000\n",
            "counter=634.000000, predicted=6681.098676, expected=6785.410000\n",
            "counter=635.000000, predicted=6786.425072, expected=6795.430000\n",
            "counter=636.000000, predicted=6796.433260, expected=6729.710000\n",
            "counter=637.000000, predicted=6730.698466, expected=6669.870000\n",
            "counter=638.000000, predicted=6670.857173, expected=6650.480000\n",
            "counter=639.000000, predicted=6651.475607, expected=6625.140000\n",
            "counter=640.000000, predicted=6626.135267, expected=6634.760000\n",
            "counter=641.000000, predicted=6635.759523, expected=6679.660000\n",
            "counter=642.000000, predicted=6680.665447, expected=6715.060000\n",
            "counter=643.000000, predicted=6716.065957, expected=6755.740000\n",
            "counter=644.000000, predicted=6756.743888, expected=6829.020000\n",
            "counter=645.000000, predicted=6830.027840, expected=6898.350000\n",
            "counter=646.000000, predicted=6899.357215, expected=6989.090000\n",
            "counter=647.000000, predicted=6990.101297, expected=7018.670000\n",
            "counter=648.000000, predicted=7019.673373, expected=7030.530000\n",
            "counter=649.000000, predicted=7031.530844, expected=7031.750000\n",
            "counter=650.000000, predicted=7032.748305, expected=7015.540000\n",
            "counter=651.000000, predicted=7016.536887, expected=7006.550000\n",
            "counter=652.000000, predicted=7007.546435, expected=7028.040000\n",
            "counter=653.000000, predicted=7029.040944, expected=7192.300000\n",
            "counter=654.000000, predicted=7193.313537, expected=7252.090000\n",
            "counter=655.000000, predicted=7253.097639, expected=7181.950000\n",
            "counter=656.000000, predicted=7182.942969, expected=7031.190000\n",
            "counter=657.000000, predicted=7032.172915, expected=7046.790000\n",
            "counter=658.000000, predicted=7047.785118, expected=6933.820000\n",
            "counter=659.000000, predicted=6934.807441, expected=6981.750000\n",
            "counter=660.000000, predicted=6982.751352, expected=6878.750000\n",
            "counter=661.000000, predicted=6879.739912, expected=6686.140000\n",
            "counter=662.000000, predicted=6687.117263, expected=6613.720000\n",
            "counter=663.000000, predicted=6614.707451, expected=6456.400000\n",
            "counter=664.000000, predicted=6457.380470, expected=6202.050000\n",
            "counter=665.000000, predicted=6203.020027, expected=5877.290000\n",
            "counter=666.000000, predicted=5878.248175, expected=5664.520000\n",
            "counter=667.000000, predicted=5665.488209, expected=5511.390000\n",
            "counter=668.000000, predicted=5512.366545, expected=5445.030000\n",
            "counter=669.000000, predicted=5446.020378, expected=5438.400000\n",
            "counter=670.000000, predicted=5439.400218, expected=5467.250000\n",
            "counter=671.000000, predicted=5468.258225, expected=5603.840000\n",
            "counter=672.000000, predicted=5604.861928, expected=5594.620000\n",
            "counter=673.000000, predicted=5595.628514, expected=5831.010000\n",
            "counter=674.000000, predicted=5832.042400, expected=6038.560000\n",
            "counter=675.000000, predicted=6039.592972, expected=6246.910000\n",
            "counter=676.000000, predicted=6247.942479, expected=6577.640000\n",
            "counter=677.000000, predicted=6578.684868, expected=6891.980000\n",
            "counter=678.000000, predicted=6893.021888, expected=7116.400000\n",
            "counter=679.000000, predicted=7117.431665, expected=7351.590000\n",
            "counter=680.000000, predicted=7352.616941, expected=7432.850000\n",
            "counter=681.000000, predicted=7433.862311, expected=7543.470000\n",
            "counter=682.000000, predicted=7544.479043, expected=7630.030000\n",
            "counter=683.000000, predicted=7631.037567, expected=7615.450000\n",
            "counter=684.000000, predicted=7616.446372, expected=7626.720000\n",
            "counter=685.000000, predicted=7627.717535, expected=7646.770000\n",
            "counter=686.000000, predicted=7647.766944, expected=7702.280000\n",
            "counter=687.000000, predicted=7703.281542, expected=7712.620000\n",
            "counter=688.000000, predicted=7713.617088, expected=7724.610000\n",
            "counter=689.000000, predicted=7725.607719, expected=7747.900000\n",
            "counter=690.000000, predicted=7748.897256, expected=7768.290000\n",
            "counter=691.000000, predicted=7769.288509, expected=7826.630000\n",
            "counter=692.000000, predicted=7827.630406, expected=7851.190000\n",
            "counter=693.000000, predicted=7852.189588, expected=7902.870000\n",
            "counter=694.000000, predicted=7903.869940, expected=7978.240000\n",
            "counter=695.000000, predicted=7979.243593, expected=7960.620000\n",
            "counter=696.000000, predicted=7961.615019, expected=7881.260000\n",
            "counter=697.000000, predicted=7882.247997, expected=7706.600000\n",
            "counter=698.000000, predicted=7707.578583, expected=7650.190000\n",
            "counter=699.000000, predicted=7651.177601, expected=7495.370000\n",
            "counter=700.000000, predicted=7496.350865, expected=7395.090000\n",
            "counter=701.000000, predicted=7396.074663, expected=7441.530000\n",
            "counter=702.000000, predicted=7442.527747, expected=7490.370000\n",
            "counter=703.000000, predicted=7491.372679, expected=7407.330000\n",
            "counter=704.000000, predicted=7408.321282, expected=7242.480000\n",
            "counter=705.000000, predicted=7243.461838, expected=7295.910000\n",
            "counter=706.000000, predicted=7296.908209, expected=7160.260000\n",
            "counter=707.000000, predicted=7161.246851, expected=7130.220000\n",
            "counter=708.000000, predicted=7131.212043, expected=7073.040000\n",
            "counter=709.000000, predicted=7074.032830, expected=6905.000000\n",
            "counter=710.000000, predicted=6905.981023, expected=6786.190000\n",
            "counter=711.000000, predicted=6787.174484, expected=6625.080000\n",
            "counter=712.000000, predicted=6626.059837, expected=6367.790000\n",
            "counter=713.000000, predicted=6368.760715, expected=6048.470000\n",
            "counter=714.000000, predicted=6049.429992, expected=5812.810000\n",
            "counter=715.000000, predicted=5813.777273, expected=5614.800000\n",
            "counter=716.000000, predicted=5615.771730, expected=5540.500000\n",
            "counter=717.000000, predicted=5541.487078, expected=5515.140000\n",
            "counter=718.000000, predicted=5516.139961, expected=5472.660000\n",
            "counter=719.000000, predicted=5473.660481, expected=5543.530000\n",
            "counter=720.000000, predicted=5544.544189, expected=5540.870000\n",
            "counter=721.000000, predicted=5541.876762, expected=5640.080000\n",
            "counter=722.000000, predicted=5641.097519, expected=5845.090000\n",
            "counter=723.000000, predicted=5846.123151, expected=6038.610000\n",
            "counter=724.000000, predicted=6039.643869, expected=6340.230000\n",
            "counter=725.000000, predicted=6341.273281, expected=6656.220000\n",
            "counter=726.000000, predicted=6657.265760, expected=6945.430000\n",
            "counter=727.000000, predicted=6946.469851, expected=7212.980000\n",
            "counter=728.000000, predicted=7214.013440, expected=7283.920000\n",
            "counter=729.000000, predicted=7284.929526, expected=7378.570000\n",
            "counter=730.000000, predicted=7379.575457, expected=7409.230000\n",
            "counter=731.000000, predicted=7410.227024, expected=7393.590000\n",
            "counter=732.000000, predicted=7394.584065, expected=7417.750000\n",
            "counter=733.000000, predicted=7418.745619, expected=7402.660000\n",
            "counter=734.000000, predicted=7403.656212, expected=7424.450000\n",
            "counter=735.000000, predicted=7425.448777, expected=7419.430000\n",
            "counter=736.000000, predicted=7420.429307, expected=7453.220000\n",
            "counter=737.000000, predicted=7454.222109, expected=7493.000000\n",
            "counter=738.000000, predicted=7494.004738, expected=7574.380000\n",
            "counter=739.000000, predicted=7575.388613, expected=7653.180000\n",
            "counter=740.000000, predicted=7654.189988, expected=7776.980000\n",
            "counter=741.000000, predicted=7777.993609, expected=7882.840000\n",
            "counter=742.000000, predicted=7883.852859, expected=7994.820000\n",
            "counter=743.000000, predicted=7995.832466, expected=8034.500000\n",
            "counter=744.000000, predicted=8035.505386, expected=8132.660000\n",
            "counter=745.000000, predicted=8133.668218, expected=8140.190000\n",
            "counter=746.000000, predicted=8141.190818, expected=8126.300000\n",
            "counter=747.000000, predicted=8127.297795, expected=8017.540000\n",
            "counter=748.000000, predicted=8018.527611, expected=7921.080000\n",
            "counter=749.000000, predicted=7922.067412, expected=7871.200000\n",
            "counter=750.000000, predicted=7872.190537, expected=7951.270000\n",
            "counter=751.000000, predicted=7952.275835, expected=7833.730000\n",
            "counter=752.000000, predicted=7834.721850, expected=7652.540000\n",
            "counter=753.000000, predicted=7653.523386, expected=7525.400000\n",
            "counter=754.000000, predicted=7526.382142, expected=7358.020000\n",
            "counter=755.000000, predicted=7359.001608, expected=7254.090000\n",
            "counter=756.000000, predicted=7255.075403, expected=6969.300000\n",
            "counter=757.000000, predicted=6970.271440, expected=6714.040000\n",
            "counter=758.000000, predicted=6715.007748, expected=6553.130000\n",
            "counter=759.000000, predicted=6554.106591, expected=6396.070000\n",
            "counter=760.000000, predicted=6397.050406, expected=6187.970000\n",
            "counter=761.000000, predicted=6188.946346, expected=5890.570000\n",
            "counter=762.000000, predicted=5891.533346, expected=5701.610000\n",
            "counter=763.000000, predicted=5702.580966, expected=5586.460000\n",
            "counter=764.000000, predicted=5587.441626, expected=5578.770000\n",
            "counter=765.000000, predicted=5579.770304, expected=5533.980000\n",
            "counter=766.000000, predicted=5534.979649, expected=5419.740000\n",
            "counter=767.000000, predicted=5420.730988, expected=5455.040000\n",
            "counter=768.000000, predicted=5456.043903, expected=5507.220000\n",
            "counter=769.000000, predicted=5508.231205, expected=5589.030000\n",
            "counter=770.000000, predicted=5590.046118, expected=5720.310000\n",
            "counter=771.000000, predicted=5721.332564, expected=5904.830000\n",
            "counter=772.000000, predicted=5905.859492, expected=6155.170000\n",
            "counter=773.000000, predicted=6156.207681, expected=6415.970000\n",
            "counter=774.000000, predicted=6417.008787, expected=6631.890000\n",
            "counter=775.000000, predicted=6632.921805, expected=6818.810000\n",
            "counter=776.000000, predicted=6819.834175, expected=6928.030000\n",
            "counter=777.000000, predicted=6929.042764, expected=7008.840000\n",
            "counter=778.000000, predicted=7009.846230, expected=7062.060000\n",
            "counter=779.000000, predicted=7063.061808, expected=7077.320000\n",
            "counter=780.000000, predicted=7078.317957, expected=7067.910000\n",
            "counter=781.000000, predicted=7068.905045, expected=7092.180000\n",
            "counter=782.000000, predicted=7093.178662, expected=7091.760000\n",
            "counter=783.000000, predicted=7092.758002, expected=7077.010000\n",
            "counter=784.000000, predicted=7078.007426, expected=7084.500000\n",
            "counter=785.000000, predicted=7085.499142, expected=7049.460000\n",
            "counter=786.000000, predicted=7050.456318, expected=7048.210000\n",
            "counter=787.000000, predicted=7049.208593, expected=7065.540000\n",
            "counter=788.000000, predicted=7066.541403, expected=7106.930000\n",
            "counter=789.000000, predicted=7107.934957, expected=7129.480000\n",
            "counter=790.000000, predicted=7130.483908, expected=7084.070000\n",
            "counter=791.000000, predicted=7085.066811, expected=7161.960000\n",
            "counter=792.000000, predicted=7162.966247, expected=7241.600000\n",
            "counter=793.000000, predicted=7242.609351, expected=7245.480000\n",
            "counter=794.000000, predicted=7246.483625, expected=7249.090000\n",
            "counter=795.000000, predicted=7250.090357, expected=7154.080000\n",
            "counter=796.000000, predicted=7155.070185, expected=7039.640000\n",
            "counter=797.000000, predicted=7040.624947, expected=7107.300000\n",
            "counter=798.000000, predicted=7108.301725, expected=7184.320000\n",
            "counter=799.000000, predicted=7185.328872, expected=7132.510000\n",
            "counter=800.000000, predicted=7133.509252, expected=6950.170000\n",
            "counter=801.000000, predicted=6951.151564, expected=6887.050000\n",
            "counter=802.000000, predicted=6888.037986, expected=6811.010000\n",
            "counter=803.000000, predicted=6811.998556, expected=6729.310000\n",
            "counter=804.000000, predicted=6730.300574, expected=6555.270000\n",
            "counter=805.000000, predicted=6556.249736, expected=6367.360000\n",
            "counter=806.000000, predicted=6368.336469, expected=6242.100000\n",
            "counter=807.000000, predicted=6243.080033, expected=6112.560000\n",
            "counter=808.000000, predicted=6113.543382, expected=5981.010000\n",
            "counter=809.000000, predicted=5981.992579, expected=5685.350000\n",
            "counter=810.000000, predicted=5686.314096, expected=5539.400000\n",
            "counter=811.000000, predicted=5540.374025, expected=5473.920000\n",
            "counter=812.000000, predicted=5474.907764, expected=5450.870000\n",
            "counter=813.000000, predicted=5451.869167, expected=5452.340000\n",
            "counter=814.000000, predicted=5453.344480, expected=5489.210000\n",
            "counter=815.000000, predicted=5490.220470, expected=5625.380000\n",
            "counter=816.000000, predicted=5626.402877, expected=5748.720000\n",
            "counter=817.000000, predicted=5749.744297, expected=5914.940000\n",
            "counter=818.000000, predicted=5915.967798, expected=6131.690000\n",
            "counter=819.000000, predicted=6132.722657, expected=6372.180000\n",
            "counter=820.000000, predicted=6373.215095, expected=6670.440000\n",
            "counter=821.000000, predicted=6671.479805, expected=6959.770000\n",
            "counter=822.000000, predicted=6960.807867, expected=7186.200000\n",
            "counter=823.000000, predicted=7187.228824, expected=7420.370000\n",
            "counter=824.000000, predicted=7421.395045, expected=7518.060000\n",
            "counter=825.000000, predicted=7519.070135, expected=7580.220000\n",
            "counter=826.000000, predicted=7581.222807, expected=7605.710000\n",
            "counter=827.000000, predicted=7606.707073, expected=7628.780000\n",
            "counter=828.000000, predicted=7629.777405, expected=7591.220000\n",
            "counter=829.000000, predicted=7592.212160, expected=7607.660000\n",
            "counter=830.000000, predicted=7608.657684, expected=7645.610000\n",
            "counter=831.000000, predicted=7646.610907, expected=7669.080000\n",
            "counter=832.000000, predicted=7670.082830, expected=7697.110000\n",
            "counter=833.000000, predicted=7698.112366, expected=7718.750000\n",
            "counter=834.000000, predicted=7719.752993, expected=7758.640000\n",
            "counter=835.000000, predicted=7759.643507, expected=7788.920000\n",
            "counter=836.000000, predicted=7789.923932, expected=7856.430000\n",
            "counter=837.000000, predicted=7857.436310, expected=7943.460000\n",
            "counter=838.000000, predicted=7944.469547, expected=8052.970000\n",
            "counter=839.000000, predicted=8053.981599, expected=8076.000000\n",
            "counter=840.000000, predicted=8077.004884, expected=8100.550000\n",
            "counter=841.000000, predicted=8101.552080, expected=7937.590000\n",
            "counter=842.000000, predicted=7938.574916, expected=7885.520000\n",
            "counter=843.000000, predicted=7886.509760, expected=7706.030000\n",
            "counter=844.000000, predicted=7707.009666, expected=7522.890000\n",
            "counter=845.000000, predicted=7523.868757, expected=7488.560000\n",
            "counter=846.000000, predicted=7489.550198, expected=7519.430000\n",
            "counter=847.000000, predicted=7520.433433, expected=7438.250000\n",
            "counter=848.000000, predicted=7439.245328, expected=7253.100000\n",
            "counter=849.000000, predicted=7254.084018, expected=7326.530000\n",
            "counter=850.000000, predicted=7327.532349, expected=7204.390000\n",
            "counter=851.000000, predicted=7205.381328, expected=7163.670000\n",
            "counter=852.000000, predicted=7164.665503, expected=7078.740000\n",
            "counter=853.000000, predicted=7079.730703, expected=6892.830000\n",
            "counter=854.000000, predicted=6893.811278, expected=6779.650000\n",
            "Test RMSE: 176.418\n"
          ],
          "name": "stdout"
        }
      ]
    },
    {
      "cell_type": "code",
      "metadata": {
        "id": "tZf70_bwrqdH",
        "colab_type": "code",
        "colab": {
          "base_uri": "https://localhost:8080/",
          "height": 395
        },
        "outputId": "70bd0326-c3e6-4a05-b70c-19e1e8bb3b59"
      },
      "source": [
        "# Plot the curves\n",
        "f, axarr = plt.subplots(1, sharex=True)\n",
        "f.set_size_inches(5.5, 5.5)\n",
        "\n",
        "plt.plot(inverse_pred)\n",
        "plt.plot(inverse_test)\n",
        "axarr.set_title('ARIMA(4,1,4)')\n",
        "plt.xlabel('Hours')\n",
        "plt.ylabel('W')"
      ],
      "execution_count": 34,
      "outputs": [
        {
          "output_type": "execute_result",
          "data": {
            "text/plain": [
              "Text(0, 0.5, 'W')"
            ]
          },
          "metadata": {
            "tags": []
          },
          "execution_count": 34
        },
        {
          "output_type": "display_data",
          "data": {
            "image/png": "[encoded data removed]",
            "text/plain": [
              "<Figure size 396x396 with 1 Axes>"
            ]
          },
          "metadata": {
            "tags": [],
            "needs_background": "light"
          }
        }
      ]
    },
    {
      "cell_type": "code",
      "metadata": {
        "id": "YwwWujf-KGiF",
        "colab_type": "code",
        "colab": {}
      },
      "source": [
        ""
      ],
      "execution_count": 34,
      "outputs": []
    }
  ]
}