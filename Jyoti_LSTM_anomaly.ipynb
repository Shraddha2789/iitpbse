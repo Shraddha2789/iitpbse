{
  "nbformat": 4,
  "nbformat_minor": 0,
  "metadata": {
    "colab": {
      "name": "Jyoti_LSTM_anomaly.ipynb",
      "provenance": [],
      "collapsed_sections": [],
      "include_colab_link": true
    },
    "kernelspec": {
      "name": "python3",
      "display_name": "Python 3"
    }
  },
  "cells": [
    {
      "cell_type": "markdown",
      "metadata": {
        "id": "view-in-github",
        "colab_type": "text"
      },
      "source": [
        "<a href=\"https://colab.research.google.com/github/nrjcs/iitpbse/blob/master/Jyoti_LSTM_anomaly.ipynb\" target=\"_parent\"><img src=\"https://colab.research.google.com/assets/colab-badge.svg\" alt=\"Open In Colab\"/></a>"
      ]
    },
    {
      "cell_type": "code",
      "metadata": {
        "id": "Up3CCwVJm4aD",
        "colab_type": "code",
        "colab": {
          "resources": {
            "http://localhost:8080/nbextensions/google.colab/files.js": {
              "data": "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",
              "ok": true,
              "headers": [
                [
                  "content-type",
                  "application/javascript"
                ]
              ],
              "status": 200,
              "status_text": ""
            }
          },
          "base_uri": "https://localhost:8080/",
          "height": 38
        },
        "outputId": "43494d03-8366-42c8-9803-637bde23d265"
      },
      "source": [
        "from google.colab import files\n",
        "uploaded = files.upload()"
      ],
      "execution_count": null,
      "outputs": [
        {
          "output_type": "display_data",
          "data": {
            "text/html": [
              "\n",
              "     <input type=\"file\" id=\"files-10a798dc-3e08-4bc0-a4f5-d5294ede2dcc\" name=\"files[]\" multiple disabled\n",
              "        style=\"border:none\" />\n",
              "     <output id=\"result-10a798dc-3e08-4bc0-a4f5-d5294ede2dcc\">\n",
              "      Upload widget is only available when the cell has been executed in the\n",
              "      current browser session. Please rerun this cell to enable.\n",
              "      </output>\n",
              "      <script src=\"/nbextensions/google.colab/files.js\"></script> "
            ],
            "text/plain": [
              "<IPython.core.display.HTML object>"
            ]
          },
          "metadata": {
            "tags": []
          }
        }
      ]
    },
    {
      "cell_type": "code",
      "metadata": {
        "id": "GeXDlvUdtWQR",
        "colab_type": "code",
        "colab": {}
      },
      "source": [
        "import pandas as pd\n",
        "import numpy as np\n",
        "from sklearn import preprocessing\n",
        "from keras.models import Sequential\n",
        "from keras.layers.recurrent import LSTM\n",
        "from keras.layers.core import Dense, Activation, Dropout\n",
        "from sklearn.metrics import confusion_matrix\n",
        "import time \n",
        "import matplotlib.pyplot as plt"
      ],
      "execution_count": null,
      "outputs": []
    },
    {
      "cell_type": "markdown",
      "metadata": {
        "id": "jpOkQJLxt6Bm",
        "colab_type": "text"
      },
      "source": [
        "# Long Short term memory (LSTM) model -1\n",
        "\n",
        " - Anomaly detection using time series forecasting"
      ]
    },
    {
      "cell_type": "markdown",
      "metadata": {
        "id": "v5uMStp4uPlf",
        "colab_type": "text"
      },
      "source": [
        "**# Read the data**"
      ]
    },
    {
      "cell_type": "code",
      "metadata": {
        "id": "JdsL3P9-tqnB",
        "colab_type": "code",
        "colab": {}
      },
      "source": [
        "df = pd.read_csv(\"data1.csv\")"
      ],
      "execution_count": null,
      "outputs": []
    },
    {
      "cell_type": "code",
      "metadata": {
        "id": "a23dQ46sYnSk",
        "colab_type": "code",
        "colab": {
          "base_uri": "https://localhost:8080/",
          "height": 204
        },
        "outputId": "b987df85-d231-4be4-ea4d-70cfa64c1e30"
      },
      "source": [
        "df.head()"
      ],
      "execution_count": null,
      "outputs": [
        {
          "output_type": "execute_result",
          "data": {
            "text/html": [
              "<div>\n",
              "<style scoped>\n",
              "    .dataframe tbody tr th:only-of-type {\n",
              "        vertical-align: middle;\n",
              "    }\n",
              "\n",
              "    .dataframe tbody tr th {\n",
              "        vertical-align: top;\n",
              "    }\n",
              "\n",
              "    .dataframe thead th {\n",
              "        text-align: right;\n",
              "    }\n",
              "</style>\n",
              "<table border=\"1\" class=\"dataframe\">\n",
              "  <thead>\n",
              "    <tr style=\"text-align: right;\">\n",
              "      <th></th>\n",
              "      <th>timestamp</th>\n",
              "      <th>value</th>\n",
              "      <th>hours</th>\n",
              "      <th>daylight</th>\n",
              "      <th>DayOfTheWeek</th>\n",
              "      <th>WeekDay</th>\n",
              "      <th>time_epoch</th>\n",
              "      <th>categories</th>\n",
              "      <th>anomaly</th>\n",
              "    </tr>\n",
              "  </thead>\n",
              "  <tbody>\n",
              "    <tr>\n",
              "      <th>0</th>\n",
              "      <td>2013-07-04 00:00:00</td>\n",
              "      <td>21.044908</td>\n",
              "      <td>0</td>\n",
              "      <td>0</td>\n",
              "      <td>3</td>\n",
              "      <td>1</td>\n",
              "      <td>13728960</td>\n",
              "      <td>2</td>\n",
              "      <td>0</td>\n",
              "    </tr>\n",
              "    <tr>\n",
              "      <th>1</th>\n",
              "      <td>2013-07-04 01:00:00</td>\n",
              "      <td>21.789015</td>\n",
              "      <td>1</td>\n",
              "      <td>0</td>\n",
              "      <td>3</td>\n",
              "      <td>1</td>\n",
              "      <td>13728996</td>\n",
              "      <td>2</td>\n",
              "      <td>0</td>\n",
              "    </tr>\n",
              "    <tr>\n",
              "      <th>2</th>\n",
              "      <td>2013-07-04 02:00:00</td>\n",
              "      <td>21.598781</td>\n",
              "      <td>2</td>\n",
              "      <td>0</td>\n",
              "      <td>3</td>\n",
              "      <td>1</td>\n",
              "      <td>13729032</td>\n",
              "      <td>2</td>\n",
              "      <td>0</td>\n",
              "    </tr>\n",
              "    <tr>\n",
              "      <th>3</th>\n",
              "      <td>2013-07-04 03:00:00</td>\n",
              "      <td>20.533000</td>\n",
              "      <td>3</td>\n",
              "      <td>0</td>\n",
              "      <td>3</td>\n",
              "      <td>1</td>\n",
              "      <td>13729068</td>\n",
              "      <td>2</td>\n",
              "      <td>0</td>\n",
              "    </tr>\n",
              "    <tr>\n",
              "      <th>4</th>\n",
              "      <td>2013-07-04 04:00:00</td>\n",
              "      <td>20.713084</td>\n",
              "      <td>4</td>\n",
              "      <td>0</td>\n",
              "      <td>3</td>\n",
              "      <td>1</td>\n",
              "      <td>13729104</td>\n",
              "      <td>2</td>\n",
              "      <td>0</td>\n",
              "    </tr>\n",
              "  </tbody>\n",
              "</table>\n",
              "</div>"
            ],
            "text/plain": [
              "             timestamp      value  hours  ...  time_epoch  categories  anomaly\n",
              "0  2013-07-04 00:00:00  21.044908      0  ...    13728960           2        0\n",
              "1  2013-07-04 01:00:00  21.789015      1  ...    13728996           2        0\n",
              "2  2013-07-04 02:00:00  21.598781      2  ...    13729032           2        0\n",
              "3  2013-07-04 03:00:00  20.533000      3  ...    13729068           2        0\n",
              "4  2013-07-04 04:00:00  20.713084      4  ...    13729104           2        0\n",
              "\n",
              "[5 rows x 9 columns]"
            ]
          },
          "metadata": {
            "tags": []
          },
          "execution_count": 4
        }
      ]
    },
    {
      "cell_type": "markdown",
      "metadata": {
        "id": "dRBXXLaHunNe",
        "colab_type": "text"
      },
      "source": [
        "**# Standardize data**\n",
        "\n",
        "Standardize features by removing the mean and scaling to unit variance. \\"
      ]
    },
    {
      "cell_type": "code",
      "metadata": {
        "id": "83jtqeN6uOyW",
        "colab_type": "code",
        "colab": {}
      },
      "source": [
        "data_n = df[['value', 'hours', 'daylight', 'DayOfTheWeek', 'WeekDay','categories']]\n",
        "min_max_scaler = preprocessing.StandardScaler()\n",
        "np_scaled = min_max_scaler.fit_transform(data_n)\n",
        "data_n = pd.DataFrame(np_scaled)"
      ],
      "execution_count": null,
      "outputs": []
    },
    {
      "cell_type": "code",
      "metadata": {
        "id": "LYzzgp0LhZ0Q",
        "colab_type": "code",
        "colab": {
          "base_uri": "https://localhost:8080/",
          "height": 204
        },
        "outputId": "dbf613cf-32e8-4756-fea4-da6712216bf1"
      },
      "source": [
        "data_n.head(5)"
      ],
      "execution_count": null,
      "outputs": [
        {
          "output_type": "execute_result",
          "data": {
            "text/html": [
              "<div>\n",
              "<style scoped>\n",
              "    .dataframe tbody tr th:only-of-type {\n",
              "        vertical-align: middle;\n",
              "    }\n",
              "\n",
              "    .dataframe tbody tr th {\n",
              "        vertical-align: top;\n",
              "    }\n",
              "\n",
              "    .dataframe thead th {\n",
              "        text-align: right;\n",
              "    }\n",
              "</style>\n",
              "<table border=\"1\" class=\"dataframe\">\n",
              "  <thead>\n",
              "    <tr style=\"text-align: right;\">\n",
              "      <th></th>\n",
              "      <th>0</th>\n",
              "      <th>1</th>\n",
              "      <th>2</th>\n",
              "      <th>3</th>\n",
              "      <th>4</th>\n",
              "      <th>5</th>\n",
              "    </tr>\n",
              "  </thead>\n",
              "  <tbody>\n",
              "    <tr>\n",
              "      <th>0</th>\n",
              "      <td>-0.320586</td>\n",
              "      <td>-1.661537</td>\n",
              "      <td>-1.414798</td>\n",
              "      <td>0.005769</td>\n",
              "      <td>0.62132</td>\n",
              "      <td>-0.108248</td>\n",
              "    </tr>\n",
              "    <tr>\n",
              "      <th>1</th>\n",
              "      <td>-0.005228</td>\n",
              "      <td>-1.517172</td>\n",
              "      <td>-1.414798</td>\n",
              "      <td>0.005769</td>\n",
              "      <td>0.62132</td>\n",
              "      <td>-0.108248</td>\n",
              "    </tr>\n",
              "    <tr>\n",
              "      <th>2</th>\n",
              "      <td>-0.085851</td>\n",
              "      <td>-1.372807</td>\n",
              "      <td>-1.414798</td>\n",
              "      <td>0.005769</td>\n",
              "      <td>0.62132</td>\n",
              "      <td>-0.108248</td>\n",
              "    </tr>\n",
              "    <tr>\n",
              "      <th>3</th>\n",
              "      <td>-0.537536</td>\n",
              "      <td>-1.228442</td>\n",
              "      <td>-1.414798</td>\n",
              "      <td>0.005769</td>\n",
              "      <td>0.62132</td>\n",
              "      <td>-0.108248</td>\n",
              "    </tr>\n",
              "    <tr>\n",
              "      <th>4</th>\n",
              "      <td>-0.461215</td>\n",
              "      <td>-1.084077</td>\n",
              "      <td>-1.414798</td>\n",
              "      <td>0.005769</td>\n",
              "      <td>0.62132</td>\n",
              "      <td>-0.108248</td>\n",
              "    </tr>\n",
              "  </tbody>\n",
              "</table>\n",
              "</div>"
            ],
            "text/plain": [
              "          0         1         2         3        4         5\n",
              "0 -0.320586 -1.661537 -1.414798  0.005769  0.62132 -0.108248\n",
              "1 -0.005228 -1.517172 -1.414798  0.005769  0.62132 -0.108248\n",
              "2 -0.085851 -1.372807 -1.414798  0.005769  0.62132 -0.108248\n",
              "3 -0.537536 -1.228442 -1.414798  0.005769  0.62132 -0.108248\n",
              "4 -0.461215 -1.084077 -1.414798  0.005769  0.62132 -0.108248"
            ]
          },
          "metadata": {
            "tags": []
          },
          "execution_count": 6
        }
      ]
    },
    {
      "cell_type": "code",
      "metadata": {
        "id": "t738HEI1jwj7",
        "colab_type": "code",
        "colab": {
          "base_uri": "https://localhost:8080/",
          "height": 282
        },
        "outputId": "5cee2a54-904d-4ac4-e124-e5e8f9fe4fd6"
      },
      "source": [
        "plt.plot(data_n[0])"
      ],
      "execution_count": null,
      "outputs": [
        {
          "output_type": "execute_result",
          "data": {
            "text/plain": [
              "[<matplotlib.lines.Line2D at 0x7ff2f2a526a0>]"
            ]
          },
          "metadata": {
            "tags": []
          },
          "execution_count": 7
        },
        {
          "output_type": "display_data",
          "data": {
            "image/png": "[encoded data removed]",
            "text/plain": [
              "<Figure size 432x288 with 1 Axes>"
            ]
          },
          "metadata": {
            "tags": [],
            "needs_background": "light"
          }
        }
      ]
    },
    {
      "cell_type": "markdown",
      "metadata": {
        "id": "uCUT3T8wCC8y",
        "colab_type": "text"
      },
      "source": [
        "# Prepare data set for time series forecasting"
      ]
    },
    {
      "cell_type": "markdown",
      "metadata": {
        "id": "lI1y2LvyvQDM",
        "colab_type": "text"
      },
      "source": [
        "**# split the data set into train and test set** \\\n",
        "\n",
        "Train set - (input_train, output_train) \\\n",
        "test set - (input_test, output_test)  \\\n",
        " \n",
        "**# dataset** "
      ]
    },
    {
      "cell_type": "code",
      "metadata": {
        "id": "bMrEk7feroZ_",
        "colab_type": "code",
        "colab": {
          "base_uri": "https://localhost:8080/",
          "height": 34
        },
        "outputId": "f7d9117b-59d0-42da-dbbf-237bb78672a8"
      },
      "source": [
        "data_n.shape"
      ],
      "execution_count": null,
      "outputs": [
        {
          "output_type": "execute_result",
          "data": {
            "text/plain": [
              "(7267, 6)"
            ]
          },
          "metadata": {
            "tags": []
          },
          "execution_count": 8
        }
      ]
    },
    {
      "cell_type": "code",
      "metadata": {
        "id": "ejVn6_ghvRy6",
        "colab_type": "code",
        "colab": {}
      },
      "source": [
        "# important parameters\n",
        "prediction_time = 1 \n",
        "testdatasize = 1000\n",
        "unroll_length = 50\n",
        "testdatacut = testdatasize + unroll_length  + 1\n",
        "\n",
        "#train data\n",
        "x_train = data_n[0:-prediction_time-testdatacut].values\n",
        "y_train = data_n[prediction_time:-testdatacut  ][0].values\n",
        "\n",
        "# test data\n",
        "x_test = data_n[0-testdatacut:-prediction_time].values\n",
        "y_test = data_n[prediction_time-testdatacut:  ][0].values"
      ],
      "execution_count": null,
      "outputs": []
    },
    {
      "cell_type": "code",
      "metadata": {
        "id": "n2H2WY96wa81",
        "colab_type": "code",
        "colab": {
          "base_uri": "https://localhost:8080/",
          "height": 390
        },
        "outputId": "43430ea2-e16b-4886-bf1f-fc990c39d0ff"
      },
      "source": [
        "data_n.head(11)"
      ],
      "execution_count": null,
      "outputs": [
        {
          "output_type": "execute_result",
          "data": {
            "text/html": [
              "<div>\n",
              "<style scoped>\n",
              "    .dataframe tbody tr th:only-of-type {\n",
              "        vertical-align: middle;\n",
              "    }\n",
              "\n",
              "    .dataframe tbody tr th {\n",
              "        vertical-align: top;\n",
              "    }\n",
              "\n",
              "    .dataframe thead th {\n",
              "        text-align: right;\n",
              "    }\n",
              "</style>\n",
              "<table border=\"1\" class=\"dataframe\">\n",
              "  <thead>\n",
              "    <tr style=\"text-align: right;\">\n",
              "      <th></th>\n",
              "      <th>0</th>\n",
              "      <th>1</th>\n",
              "      <th>2</th>\n",
              "      <th>3</th>\n",
              "      <th>4</th>\n",
              "      <th>5</th>\n",
              "    </tr>\n",
              "  </thead>\n",
              "  <tbody>\n",
              "    <tr>\n",
              "      <th>0</th>\n",
              "      <td>-0.320586</td>\n",
              "      <td>-1.661537</td>\n",
              "      <td>-1.414798</td>\n",
              "      <td>0.005769</td>\n",
              "      <td>0.62132</td>\n",
              "      <td>-0.108248</td>\n",
              "    </tr>\n",
              "    <tr>\n",
              "      <th>1</th>\n",
              "      <td>-0.005228</td>\n",
              "      <td>-1.517172</td>\n",
              "      <td>-1.414798</td>\n",
              "      <td>0.005769</td>\n",
              "      <td>0.62132</td>\n",
              "      <td>-0.108248</td>\n",
              "    </tr>\n",
              "    <tr>\n",
              "      <th>2</th>\n",
              "      <td>-0.085851</td>\n",
              "      <td>-1.372807</td>\n",
              "      <td>-1.414798</td>\n",
              "      <td>0.005769</td>\n",
              "      <td>0.62132</td>\n",
              "      <td>-0.108248</td>\n",
              "    </tr>\n",
              "    <tr>\n",
              "      <th>3</th>\n",
              "      <td>-0.537536</td>\n",
              "      <td>-1.228442</td>\n",
              "      <td>-1.414798</td>\n",
              "      <td>0.005769</td>\n",
              "      <td>0.62132</td>\n",
              "      <td>-0.108248</td>\n",
              "    </tr>\n",
              "    <tr>\n",
              "      <th>4</th>\n",
              "      <td>-0.461215</td>\n",
              "      <td>-1.084077</td>\n",
              "      <td>-1.414798</td>\n",
              "      <td>0.005769</td>\n",
              "      <td>0.62132</td>\n",
              "      <td>-0.108248</td>\n",
              "    </tr>\n",
              "    <tr>\n",
              "      <th>5</th>\n",
              "      <td>-0.278174</td>\n",
              "      <td>-0.939713</td>\n",
              "      <td>-1.414798</td>\n",
              "      <td>0.005769</td>\n",
              "      <td>0.62132</td>\n",
              "      <td>-0.108248</td>\n",
              "    </tr>\n",
              "    <tr>\n",
              "      <th>6</th>\n",
              "      <td>-0.462107</td>\n",
              "      <td>-0.795348</td>\n",
              "      <td>-1.414798</td>\n",
              "      <td>0.005769</td>\n",
              "      <td>0.62132</td>\n",
              "      <td>-0.108248</td>\n",
              "    </tr>\n",
              "    <tr>\n",
              "      <th>7</th>\n",
              "      <td>-0.440953</td>\n",
              "      <td>-0.650983</td>\n",
              "      <td>0.706815</td>\n",
              "      <td>0.005769</td>\n",
              "      <td>0.62132</td>\n",
              "      <td>0.877518</td>\n",
              "    </tr>\n",
              "    <tr>\n",
              "      <th>8</th>\n",
              "      <td>-0.488724</td>\n",
              "      <td>-0.506618</td>\n",
              "      <td>0.706815</td>\n",
              "      <td>0.005769</td>\n",
              "      <td>0.62132</td>\n",
              "      <td>0.877518</td>\n",
              "    </tr>\n",
              "    <tr>\n",
              "      <th>9</th>\n",
              "      <td>-0.531254</td>\n",
              "      <td>-0.362253</td>\n",
              "      <td>0.706815</td>\n",
              "      <td>0.005769</td>\n",
              "      <td>0.62132</td>\n",
              "      <td>0.877518</td>\n",
              "    </tr>\n",
              "    <tr>\n",
              "      <th>10</th>\n",
              "      <td>-0.300755</td>\n",
              "      <td>-0.217888</td>\n",
              "      <td>0.706815</td>\n",
              "      <td>0.005769</td>\n",
              "      <td>0.62132</td>\n",
              "      <td>0.877518</td>\n",
              "    </tr>\n",
              "  </tbody>\n",
              "</table>\n",
              "</div>"
            ],
            "text/plain": [
              "           0         1         2         3        4         5\n",
              "0  -0.320586 -1.661537 -1.414798  0.005769  0.62132 -0.108248\n",
              "1  -0.005228 -1.517172 -1.414798  0.005769  0.62132 -0.108248\n",
              "2  -0.085851 -1.372807 -1.414798  0.005769  0.62132 -0.108248\n",
              "3  -0.537536 -1.228442 -1.414798  0.005769  0.62132 -0.108248\n",
              "4  -0.461215 -1.084077 -1.414798  0.005769  0.62132 -0.108248\n",
              "5  -0.278174 -0.939713 -1.414798  0.005769  0.62132 -0.108248\n",
              "6  -0.462107 -0.795348 -1.414798  0.005769  0.62132 -0.108248\n",
              "7  -0.440953 -0.650983  0.706815  0.005769  0.62132  0.877518\n",
              "8  -0.488724 -0.506618  0.706815  0.005769  0.62132  0.877518\n",
              "9  -0.531254 -0.362253  0.706815  0.005769  0.62132  0.877518\n",
              "10 -0.300755 -0.217888  0.706815  0.005769  0.62132  0.877518"
            ]
          },
          "metadata": {
            "tags": []
          },
          "execution_count": 10
        }
      ]
    },
    {
      "cell_type": "code",
      "metadata": {
        "id": "30s1Gzbwwfbu",
        "colab_type": "code",
        "colab": {
          "base_uri": "https://localhost:8080/",
          "height": 102
        },
        "outputId": "80c25a9b-a98f-4bc1-e2f9-d8199a51793a"
      },
      "source": [
        "print(x_train[0])\n",
        "print(x_train[1])\n",
        "print(x_train[2])\n",
        "print(x_train[3])\n",
        "print(x_train[4])"
      ],
      "execution_count": null,
      "outputs": [
        {
          "output_type": "stream",
          "text": [
            "[-0.32058581 -1.66153683 -1.41479759  0.00576899  0.62131999 -0.10824848]\n",
            "[-0.00522828 -1.51717197 -1.41479759  0.00576899  0.62131999 -0.10824848]\n",
            "[-0.08585098 -1.37280711 -1.41479759  0.00576899  0.62131999 -0.10824848]\n",
            "[-0.53753615 -1.22844225 -1.41479759  0.00576899  0.62131999 -0.10824848]\n",
            "[-0.46121534 -1.08407739 -1.41479759  0.00576899  0.62131999 -0.10824848]\n"
          ],
          "name": "stdout"
        }
      ]
    },
    {
      "cell_type": "code",
      "metadata": {
        "id": "fDyeKX_PwoUj",
        "colab_type": "code",
        "colab": {
          "base_uri": "https://localhost:8080/",
          "height": 102
        },
        "outputId": "7abc94fd-f765-4f4f-cb2b-1c4d309cf871"
      },
      "source": [
        "print(y_train[0])\n",
        "print(y_train[1])\n",
        "print(y_train[2])\n",
        "print(y_train[3])\n",
        "print(y_train[4])"
      ],
      "execution_count": null,
      "outputs": [
        {
          "output_type": "stream",
          "text": [
            "-0.005228281827377506\n",
            "-0.08585097833639213\n",
            "-0.537536152011907\n",
            "-0.4612153358440551\n",
            "-0.27817435608313573\n"
          ],
          "name": "stdout"
        }
      ]
    },
    {
      "cell_type": "markdown",
      "metadata": {
        "id": "wFzQ1rFKsTqK",
        "colab_type": "text"
      },
      "source": [
        "**# size of train and test data set**"
      ]
    },
    {
      "cell_type": "code",
      "metadata": {
        "id": "fEs8flyLsZ8a",
        "colab_type": "code",
        "colab": {
          "base_uri": "https://localhost:8080/",
          "height": 85
        },
        "outputId": "23bca567-7d37-456d-91ee-70d6f840b41f"
      },
      "source": [
        "print(x_train.shape)\n",
        "print(y_train.shape)\n",
        "print(x_test.shape)\n",
        "print(y_test.shape)"
      ],
      "execution_count": null,
      "outputs": [
        {
          "output_type": "stream",
          "text": [
            "(6215, 6)\n",
            "(6215,)\n",
            "(1050, 6)\n",
            "(1050,)\n"
          ],
          "name": "stdout"
        }
      ]
    },
    {
      "cell_type": "markdown",
      "metadata": {
        "id": "O9hZTnEOmmsp",
        "colab_type": "text"
      },
      "source": [
        "**Time Series Lag Scatter Plots**\n",
        "\n",
        " - Time series modeling assumes a relationship between an observation and the previous observation.\n",
        "\n",
        " - If the points cluster along a diagonal line from the bottom-left to the top-right of the plot, it suggests a positive correlation relationship.\n",
        "\n",
        " - If the points cluster along a diagonal line from the top-left to the bottom-right, it suggests a negative correlation relationship.\n",
        "\n",
        "\n",
        "**Example -**\n",
        "\n",
        "**Series** \\\n",
        " {1,2,3,4,5,6,7,8,9}\n",
        "\n",
        "**Lagged version of series** \\\n",
        " {1,2,3,4,5,6,7,8} \\\n",
        " {2,3,4,5,6,7,8,9}"
      ]
    },
    {
      "cell_type": "code",
      "metadata": {
        "id": "qRzBGrORmdKF",
        "colab_type": "code",
        "colab": {
          "base_uri": "https://localhost:8080/",
          "height": 296
        },
        "outputId": "133f60fb-0ecc-4bbb-a279-d5ec10fbd62d"
      },
      "source": [
        "pd.plotting.lag_plot(df['value'], lag=2)"
      ],
      "execution_count": null,
      "outputs": [
        {
          "output_type": "execute_result",
          "data": {
            "text/plain": [
              "<matplotlib.axes._subplots.AxesSubplot at 0x7ff2f2565828>"
            ]
          },
          "metadata": {
            "tags": []
          },
          "execution_count": 14
        },
        {
          "output_type": "display_data",
          "data": {
            "image/png": "[encoded data removed]",
            "text/plain": [
              "<Figure size 432x288 with 1 Axes>"
            ]
          },
          "metadata": {
            "tags": [],
            "needs_background": "light"
          }
        }
      ]
    },
    {
      "cell_type": "markdown",
      "metadata": {
        "id": "42_QIenaw_nQ",
        "colab_type": "text"
      },
      "source": [
        "**# windowing**"
      ]
    },
    {
      "cell_type": "code",
      "metadata": {
        "id": "dDy2prJcw7YM",
        "colab_type": "code",
        "colab": {}
      },
      "source": [
        "#windowing\n",
        "def unroll(data,sequence_length=24):\n",
        "    result = []\n",
        "    for index in range(len(data) - sequence_length):\n",
        "        result.append(data[index: index + sequence_length])\n",
        "    return np.asarray(result)\n",
        "\n",
        "# adapt the datasets for the sequence data shape\n",
        "x_train = unroll(x_train,unroll_length)\n",
        "x_test  = unroll(x_test,unroll_length)\n",
        "y_train = y_train[-x_train.shape[0]:]\n",
        "y_test  = y_test[-x_test.shape[0]:]"
      ],
      "execution_count": null,
      "outputs": []
    },
    {
      "cell_type": "markdown",
      "metadata": {
        "id": "UHRXzhmexMb8",
        "colab_type": "text"
      },
      "source": [
        "**# shape of data**"
      ]
    },
    {
      "cell_type": "code",
      "metadata": {
        "id": "4N0aU-uUxHdb",
        "colab_type": "code",
        "colab": {
          "base_uri": "https://localhost:8080/",
          "height": 85
        },
        "outputId": "281f3af1-cd32-4b29-e99a-ee1a9c2cd980"
      },
      "source": [
        "print(\"x_train\", x_train.shape)\n",
        "print(\"y_train\", y_train.shape)\n",
        "print(\"x_test\", x_test.shape)\n",
        "print(\"y_test\", y_test.shape)"
      ],
      "execution_count": null,
      "outputs": [
        {
          "output_type": "stream",
          "text": [
            "x_train (6165, 50, 6)\n",
            "y_train (6165,)\n",
            "x_test (1000, 50, 6)\n",
            "y_test (1000,)\n"
          ],
          "name": "stdout"
        }
      ]
    },
    {
      "cell_type": "markdown",
      "metadata": {
        "id": "94r-h-mnyZ3E",
        "colab_type": "text"
      },
      "source": [
        "# LSTM model -2\n",
        "\n",
        "\n"
      ]
    },
    {
      "cell_type": "code",
      "metadata": {
        "id": "GqqXu2StxXYG",
        "colab_type": "code",
        "colab": {
          "base_uri": "https://localhost:8080/",
          "height": 357
        },
        "outputId": "f97d520a-f348-4e7e-fed5-cec456c3968e"
      },
      "source": [
        "model1 = Sequential()\n",
        "model1.add(LSTM(30,input_dim=x_train.shape[-1],return_sequences=True))\n",
        "model1.add(Dropout(0.5))\n",
        "model1.add(LSTM(30,return_sequences=False))\n",
        "model1.add(Dropout(0.5))\n",
        "model1.add(Dense(units=1))\n",
        "model1.add(Activation('linear'))\n",
        "model1.summary()"
      ],
      "execution_count": null,
      "outputs": [
        {
          "output_type": "stream",
          "text": [
            "Model: \"sequential\"\n",
            "_________________________________________________________________\n",
            "Layer (type)                 Output Shape              Param #   \n",
            "=================================================================\n",
            "lstm (LSTM)                  (None, None, 30)          4440      \n",
            "_________________________________________________________________\n",
            "dropout (Dropout)            (None, None, 30)          0         \n",
            "_________________________________________________________________\n",
            "lstm_1 (LSTM)                (None, 30)                7320      \n",
            "_________________________________________________________________\n",
            "dropout_1 (Dropout)          (None, 30)                0         \n",
            "_________________________________________________________________\n",
            "dense (Dense)                (None, 1)                 31        \n",
            "_________________________________________________________________\n",
            "activation (Activation)      (None, 1)                 0         \n",
            "=================================================================\n",
            "Total params: 11,791\n",
            "Trainable params: 11,791\n",
            "Non-trainable params: 0\n",
            "_________________________________________________________________\n"
          ],
          "name": "stdout"
        }
      ]
    },
    {
      "cell_type": "markdown",
      "metadata": {
        "id": "A-XfKdu5zUdv",
        "colab_type": "text"
      },
      "source": [
        "**# compile the model**"
      ]
    },
    {
      "cell_type": "code",
      "metadata": {
        "id": "_efD1iJ_zJk_",
        "colab_type": "code",
        "colab": {
          "base_uri": "https://localhost:8080/",
          "height": 34
        },
        "outputId": "9e302082-c14d-4afd-8b03-25f8f8ae6298"
      },
      "source": [
        "start = time.time()\n",
        "model1.compile(loss='mse', optimizer='adam')\n",
        "print('compilation time : {}'.format(time.time() - start))"
      ],
      "execution_count": null,
      "outputs": [
        {
          "output_type": "stream",
          "text": [
            "compilation time : 0.020452260971069336\n"
          ],
          "name": "stdout"
        }
      ]
    },
    {
      "cell_type": "markdown",
      "metadata": {
        "id": "KHGq1uCizuII",
        "colab_type": "text"
      },
      "source": [
        "**# Train the model**"
      ]
    },
    {
      "cell_type": "code",
      "metadata": {
        "id": "N7MVPyOhzSbl",
        "colab_type": "code",
        "colab": {
          "base_uri": "https://localhost:8080/",
          "height": 714
        },
        "outputId": "cea96f9e-f85c-4dbe-ee21-7d4280af36be"
      },
      "source": [
        "model1.fit(\n",
        "    x_train,\n",
        "    y_train,\n",
        "    batch_size=3000,\n",
        "    epochs=20,\n",
        "    validation_split=0.1)"
      ],
      "execution_count": null,
      "outputs": [
        {
          "output_type": "stream",
          "text": [
            "Epoch 1/20\n",
            "2/2 [==============================] - 2s 753ms/step - loss: 0.7353 - val_loss: 1.1909\n",
            "Epoch 2/20\n",
            "2/2 [==============================] - 1s 391ms/step - loss: 0.6357 - val_loss: 1.1172\n",
            "Epoch 3/20\n",
            "2/2 [==============================] - 1s 393ms/step - loss: 0.5432 - val_loss: 1.0522\n",
            "Epoch 4/20\n",
            "2/2 [==============================] - 1s 389ms/step - loss: 0.4603 - val_loss: 0.9909\n",
            "Epoch 5/20\n",
            "2/2 [==============================] - 1s 393ms/step - loss: 0.4092 - val_loss: 0.9219\n",
            "Epoch 6/20\n",
            "2/2 [==============================] - 1s 381ms/step - loss: 0.3557 - val_loss: 0.8392\n",
            "Epoch 7/20\n",
            "2/2 [==============================] - 1s 394ms/step - loss: 0.3110 - val_loss: 0.7420\n",
            "Epoch 8/20\n",
            "2/2 [==============================] - 1s 374ms/step - loss: 0.2786 - val_loss: 0.6384\n",
            "Epoch 9/20\n",
            "2/2 [==============================] - 1s 385ms/step - loss: 0.2495 - val_loss: 0.5396\n",
            "Epoch 10/20\n",
            "2/2 [==============================] - 1s 388ms/step - loss: 0.2202 - val_loss: 0.4530\n",
            "Epoch 11/20\n",
            "2/2 [==============================] - 1s 390ms/step - loss: 0.2013 - val_loss: 0.3817\n",
            "Epoch 12/20\n",
            "2/2 [==============================] - 1s 390ms/step - loss: 0.1890 - val_loss: 0.3268\n",
            "Epoch 13/20\n",
            "2/2 [==============================] - 1s 398ms/step - loss: 0.1814 - val_loss: 0.2877\n",
            "Epoch 14/20\n",
            "2/2 [==============================] - 1s 384ms/step - loss: 0.1755 - val_loss: 0.2609\n",
            "Epoch 15/20\n",
            "2/2 [==============================] - 1s 385ms/step - loss: 0.1824 - val_loss: 0.2440\n",
            "Epoch 16/20\n",
            "2/2 [==============================] - 1s 400ms/step - loss: 0.1773 - val_loss: 0.2334\n",
            "Epoch 17/20\n",
            "2/2 [==============================] - 1s 390ms/step - loss: 0.1709 - val_loss: 0.2274\n",
            "Epoch 18/20\n",
            "2/2 [==============================] - 1s 406ms/step - loss: 0.1631 - val_loss: 0.2251\n",
            "Epoch 19/20\n",
            "2/2 [==============================] - 1s 390ms/step - loss: 0.1490 - val_loss: 0.2258\n",
            "Epoch 20/20\n",
            "2/2 [==============================] - 1s 395ms/step - loss: 0.1477 - val_loss: 0.2290\n"
          ],
          "name": "stdout"
        },
        {
          "output_type": "execute_result",
          "data": {
            "text/plain": [
              "<tensorflow.python.keras.callbacks.History at 0x7ff2ebccbf98>"
            ]
          },
          "metadata": {
            "tags": []
          },
          "execution_count": 19
        }
      ]
    },
    {
      "cell_type": "markdown",
      "metadata": {
        "id": "HFYkIUVfsQwb",
        "colab_type": "text"
      },
      "source": [
        "# Predict model on test data "
      ]
    },
    {
      "cell_type": "markdown",
      "metadata": {
        "id": "nb1JUstVnkhh",
        "colab_type": "text"
      },
      "source": [
        " **- Difference between prediction and test data**"
      ]
    },
    {
      "cell_type": "code",
      "metadata": {
        "id": "89HrCgtz0ifS",
        "colab_type": "code",
        "colab": {}
      },
      "source": [
        "loaded_model = model1\n",
        "diff=[]\n",
        "p = loaded_model.predict(x_test)\n",
        "q = loaded_model.predict(x_train)\n",
        "for u in range(len(y_test)):\n",
        "    pr = p[u][0]\n",
        "    diff.append(abs(y_test[u]- pr))"
      ],
      "execution_count": null,
      "outputs": []
    },
    {
      "cell_type": "markdown",
      "metadata": {
        "id": "pNk7a5THnsiV",
        "colab_type": "text"
      },
      "source": [
        "**# Plot the prediction and the reality (for the test data)**"
      ]
    },
    {
      "cell_type": "code",
      "metadata": {
        "id": "a6lZAsdB0oT6",
        "colab_type": "code",
        "colab": {
          "base_uri": "https://localhost:8080/",
          "height": 265
        },
        "outputId": "797d0ff3-6334-4ff4-8f9d-2ddc49ea1627"
      },
      "source": [
        " #plot the prediction and the reality (for the test data)\n",
        "fig, axs = plt.subplots()\n",
        "axs.plot(q,color='red', label='prediction')\n",
        "axs.plot(y_train,color='blue',alpha = 0.25, label='y_test')\n",
        "plt.legend(loc='upper left')\n",
        "plt.show()"
      ],
      "execution_count": null,
      "outputs": [
        {
          "output_type": "display_data",
          "data": {
            "image/png": "[encoded data removed]",
            "text/plain": [
              "<Figure size 432x288 with 1 Axes>"
            ]
          },
          "metadata": {
            "tags": [],
            "needs_background": "light"
          }
        }
      ]
    },
    {
      "cell_type": "code",
      "metadata": {
        "id": "pbte76D2K3g8",
        "colab_type": "code",
        "colab": {}
      },
      "source": [
        "#Pick the most distant prediction/reality data points as anomalies\n",
        "outlier=0.1\n",
        "diff = pd.Series(diff)\n",
        "number_of_outliers = int(outlier*len(diff))\n",
        "threshold = diff.nlargest(number_of_outliers).min()\n",
        "#Data with anomaly label\n",
        "test = (diff >= threshold).astype(int)\n",
        "pred=pd.DataFrame({'B' : test,'C' : y_test,'A': df.iloc[-1001:-1,6:7].values.flatten()})\n",
        "#pred.append(test, ignore_index='True')"
      ],
      "execution_count": null,
      "outputs": []
    },
    {
      "cell_type": "code",
      "metadata": {
        "id": "r7ynh3R1euGV",
        "colab_type": "code",
        "colab": {
          "base_uri": "https://localhost:8080/",
          "height": 281
        },
        "outputId": "9cc835a8-3ec4-4fd8-da73-63d27db2f37e"
      },
      "source": [
        "fig, ax = plt.subplots()\n",
        "\n",
        "a = pred.loc[pred['B'] == 1, ['A', 'C']] #anomaly\n",
        "\n",
        "ax.plot(pred['A'], pred['C'], color='blue')\n",
        "ax.scatter(a['A'],a['C'], color='red')\n",
        "plt.show()"
      ],
      "execution_count": null,
      "outputs": [
        {
          "output_type": "display_data",
          "data": {
            "image/png": "[encoded data removed]",
            "text/plain": [
              "<Figure size 432x288 with 1 Axes>"
            ]
          },
          "metadata": {
            "tags": [],
            "needs_background": "light"
          }
        }
      ]
    },
    {
      "cell_type": "markdown",
      "metadata": {
        "id": "QmAzRP9VALdV",
        "colab_type": "text"
      },
      "source": [
        ""
      ]
    },
    {
      "cell_type": "code",
      "metadata": {
        "id": "nD-Y8nNH2AiF",
        "colab_type": "code",
        "colab": {
          "base_uri": "https://localhost:8080/",
          "height": 357
        },
        "outputId": "4f7d5832-c0af-47a7-8d72-60ec490b0eb4"
      },
      "source": [
        "model2 = Sequential()\n",
        "model2.add(LSTM(128,input_dim=x_train.shape[-1],return_sequences=True))\n",
        "model2.add(Dropout(0.2))\n",
        "model2.add(LSTM(128,return_sequences=False))\n",
        "model2.add(Dropout(0.2))\n",
        "model2.add(Dense(units=1))\n",
        "model2.add(Activation('linear'))\n",
        "model2.summary()"
      ],
      "execution_count": null,
      "outputs": [
        {
          "output_type": "stream",
          "text": [
            "Model: \"sequential_1\"\n",
            "_________________________________________________________________\n",
            "Layer (type)                 Output Shape              Param #   \n",
            "=================================================================\n",
            "lstm_2 (LSTM)                (None, None, 128)         69120     \n",
            "_________________________________________________________________\n",
            "dropout_2 (Dropout)          (None, None, 128)         0         \n",
            "_________________________________________________________________\n",
            "lstm_3 (LSTM)                (None, 128)               131584    \n",
            "_________________________________________________________________\n",
            "dropout_3 (Dropout)          (None, 128)               0         \n",
            "_________________________________________________________________\n",
            "dense_1 (Dense)              (None, 1)                 129       \n",
            "_________________________________________________________________\n",
            "activation_1 (Activation)    (None, 1)                 0         \n",
            "=================================================================\n",
            "Total params: 200,833\n",
            "Trainable params: 200,833\n",
            "Non-trainable params: 0\n",
            "_________________________________________________________________\n"
          ],
          "name": "stdout"
        }
      ]
    },
    {
      "cell_type": "code",
      "metadata": {
        "id": "C7Eq8nHj2YDB",
        "colab_type": "code",
        "colab": {}
      },
      "source": [
        "start = time.time()\n",
        "model2.compile(loss='mse', optimizer='adam')"
      ],
      "execution_count": null,
      "outputs": []
    },
    {
      "cell_type": "code",
      "metadata": {
        "id": "rAuDWonH2do3",
        "colab_type": "code",
        "colab": {
          "base_uri": "https://localhost:8080/",
          "height": 714
        },
        "outputId": "c923fb83-26d3-421c-f2e6-d33425b5e298"
      },
      "source": [
        "model2.fit(\n",
        "    x_train,\n",
        "    y_train,\n",
        "    batch_size=3000,\n",
        "    epochs=20,\n",
        "    validation_split=0.1)"
      ],
      "execution_count": null,
      "outputs": [
        {
          "output_type": "stream",
          "text": [
            "Epoch 1/20\n",
            "2/2 [==============================] - 5s 3s/step - loss: 0.6075 - val_loss: 0.6070\n",
            "Epoch 2/20\n",
            "2/2 [==============================] - 5s 2s/step - loss: 0.2287 - val_loss: 0.3095\n",
            "Epoch 3/20\n",
            "2/2 [==============================] - 5s 2s/step - loss: 0.1771 - val_loss: 0.2571\n",
            "Epoch 4/20\n",
            "2/2 [==============================] - 5s 2s/step - loss: 0.1276 - val_loss: 0.2164\n",
            "Epoch 5/20\n",
            "2/2 [==============================] - 7s 4s/step - loss: 0.1073 - val_loss: 0.1992\n",
            "Epoch 6/20\n",
            "2/2 [==============================] - 5s 2s/step - loss: 0.1210 - val_loss: 0.1773\n",
            "Epoch 7/20\n",
            "2/2 [==============================] - 5s 2s/step - loss: 0.1090 - val_loss: 0.1560\n",
            "Epoch 8/20\n",
            "2/2 [==============================] - 5s 2s/step - loss: 0.0885 - val_loss: 0.1472\n",
            "Epoch 9/20\n",
            "2/2 [==============================] - 5s 2s/step - loss: 0.0822 - val_loss: 0.1392\n",
            "Epoch 10/20\n",
            "2/2 [==============================] - 5s 2s/step - loss: 0.0865 - val_loss: 0.1353\n",
            "Epoch 11/20\n",
            "2/2 [==============================] - 5s 2s/step - loss: 0.0810 - val_loss: 0.1402\n",
            "Epoch 12/20\n",
            "2/2 [==============================] - 5s 2s/step - loss: 0.0758 - val_loss: 0.1508\n",
            "Epoch 13/20\n",
            "2/2 [==============================] - 5s 2s/step - loss: 0.0736 - val_loss: 0.1567\n",
            "Epoch 14/20\n",
            "2/2 [==============================] - 5s 2s/step - loss: 0.0728 - val_loss: 0.1485\n",
            "Epoch 15/20\n",
            "2/2 [==============================] - 5s 2s/step - loss: 0.0685 - val_loss: 0.1346\n",
            "Epoch 16/20\n",
            "2/2 [==============================] - 5s 2s/step - loss: 0.0662 - val_loss: 0.1273\n",
            "Epoch 17/20\n",
            "2/2 [==============================] - 5s 2s/step - loss: 0.0669 - val_loss: 0.1238\n",
            "Epoch 18/20\n",
            "2/2 [==============================] - 5s 2s/step - loss: 0.0653 - val_loss: 0.1183\n",
            "Epoch 19/20\n",
            "2/2 [==============================] - 5s 2s/step - loss: 0.0625 - val_loss: 0.1162\n",
            "Epoch 20/20\n",
            "2/2 [==============================] - 5s 2s/step - loss: 0.0621 - val_loss: 0.1154\n"
          ],
          "name": "stdout"
        },
        {
          "output_type": "execute_result",
          "data": {
            "text/plain": [
              "<tensorflow.python.keras.callbacks.History at 0x7ff2e7acbd68>"
            ]
          },
          "metadata": {
            "tags": []
          },
          "execution_count": 26
        }
      ]
    },
    {
      "cell_type": "code",
      "metadata": {
        "id": "UAHnWz-8CVnD",
        "colab_type": "code",
        "colab": {}
      },
      "source": [
        "loaded_model = model2\n",
        "diff=[]\n",
        "p = loaded_model.predict(x_test)\n",
        "q = loaded_model.predict(x_train)\n",
        "for u in range(len(y_test)):\n",
        "    pr = p[u][0]\n",
        "    diff.append(abs(y_test[u]- pr))"
      ],
      "execution_count": null,
      "outputs": []
    },
    {
      "cell_type": "code",
      "metadata": {
        "id": "N9Jebbt7CkYm",
        "colab_type": "code",
        "colab": {
          "base_uri": "https://localhost:8080/",
          "height": 265
        },
        "outputId": "0ea5b95c-822a-4217-f982-6239488a6e09"
      },
      "source": [
        " #plot the prediction and the reality (for the test data)\n",
        "fig, axs = plt.subplots()\n",
        "axs.plot(q,color='red', label='prediction')\n",
        "axs.plot(y_train,color='blue',alpha = 0.25, label='y_test')\n",
        "plt.legend(loc='upper left')\n",
        "plt.show()"
      ],
      "execution_count": null,
      "outputs": [
        {
          "output_type": "display_data",
          "data": {
            "image/png": "[encoded data removed]",
            "text/plain": [
              "<Figure size 432x288 with 1 Axes>"
            ]
          },
          "metadata": {
            "tags": [],
            "needs_background": "light"
          }
        }
      ]
    },
    {
      "cell_type": "code",
      "metadata": {
        "id": "VrN3dyvVCatZ",
        "colab_type": "code",
        "colab": {}
      },
      "source": [
        "#Pick the most distant prediction/reality data points as anomalies\n",
        "outlier=0.1\n",
        "diff = pd.Series(diff)\n",
        "number_of_outliers = int(outlier*len(diff))\n",
        "threshold = diff.nlargest(number_of_outliers).min()\n",
        "#Data with anomaly label\n",
        "test = (diff >= threshold).astype(int)\n",
        "pred=pd.DataFrame({'B' : test,'C' : y_test,'A': df.iloc[-1001:-1,6:7].values.flatten()})\n",
        "#pred.append(test, ignore_index='True')"
      ],
      "execution_count": null,
      "outputs": []
    },
    {
      "cell_type": "code",
      "metadata": {
        "id": "2EYBOFirCb7f",
        "colab_type": "code",
        "colab": {
          "base_uri": "https://localhost:8080/",
          "height": 281
        },
        "outputId": "f1807efe-80d0-4e28-f031-4d5ba8855f34"
      },
      "source": [
        "fig, ax = plt.subplots()\n",
        "\n",
        "a = pred.loc[pred['B'] == 1, ['A', 'C']] #anomaly\n",
        "\n",
        "ax.plot(pred['A'], pred['C'], color='blue')\n",
        "ax.scatter(a['A'],a['C'], color='red')\n",
        "plt.show()"
      ],
      "execution_count": null,
      "outputs": [
        {
          "output_type": "display_data",
          "data": {
            "image/png": "[encoded data removed]",
            "text/plain": [
              "<Figure size 432x288 with 1 Axes>"
            ]
          },
          "metadata": {
            "tags": [],
            "needs_background": "light"
          }
        }
      ]
    }
  ]
}